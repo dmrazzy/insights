{
 "cells": [
  {
   "cell_type": "markdown",
   "id": "4e3d661c",
   "metadata": {},
   "source": [
    "# RF6 Impact Attestation Metrics\n",
    "\n",
    "Spec [here](https://plaid-cement-e44.notion.site/Impact-Attestations-Data-b8b1c79a624c46ad94305c74def64783)."
   ]
  },
  {
   "cell_type": "code",
   "execution_count": 1,
   "id": "7b36248f",
   "metadata": {},
   "outputs": [],
   "source": [
    "import datetime\n",
    "from dotenv import load_dotenv\n",
    "import json\n",
    "import numpy as np\n",
    "import os\n",
    "import pandas as pd\n",
    "import requests"
   ]
  },
  {
   "cell_type": "markdown",
   "id": "78726078-8a4f-4c11-a654-983903d889aa",
   "metadata": {},
   "source": [
    "# Get Farcaster"
   ]
  },
  {
   "cell_type": "code",
   "execution_count": 2,
   "id": "f8134f6c-6247-4d7f-ba7b-df398c83bcf8",
   "metadata": {},
   "outputs": [
    {
     "data": {
      "text/html": [
       "<div>\n",
       "<style scoped>\n",
       "    .dataframe tbody tr th:only-of-type {\n",
       "        vertical-align: middle;\n",
       "    }\n",
       "\n",
       "    .dataframe tbody tr th {\n",
       "        vertical-align: top;\n",
       "    }\n",
       "\n",
       "    .dataframe thead th {\n",
       "        text-align: right;\n",
       "    }\n",
       "</style>\n",
       "<table border=\"1\" class=\"dataframe\">\n",
       "  <thead>\n",
       "    <tr style=\"text-align: right;\">\n",
       "      <th></th>\n",
       "      <th>fid</th>\n",
       "      <th>address</th>\n",
       "    </tr>\n",
       "  </thead>\n",
       "  <tbody>\n",
       "    <tr>\n",
       "      <th>735261</th>\n",
       "      <td>524287</td>\n",
       "      <td>0xebb5279b293ac897c311c7560fe48163a9ddd0d1</td>\n",
       "    </tr>\n",
       "    <tr>\n",
       "      <th>735262</th>\n",
       "      <td>589823</td>\n",
       "      <td>0xfd7063944f06613b71141c4d25d068a52e65a882</td>\n",
       "    </tr>\n",
       "    <tr>\n",
       "      <th>735263</th>\n",
       "      <td>720895</td>\n",
       "      <td>0xc68cfe5517be77f4253ca01385c00ac216811a6e</td>\n",
       "    </tr>\n",
       "  </tbody>\n",
       "</table>\n",
       "</div>"
      ],
      "text/plain": [
       "           fid                                     address\n",
       "735261  524287  0xebb5279b293ac897c311c7560fe48163a9ddd0d1\n",
       "735262  589823  0xfd7063944f06613b71141c4d25d068a52e65a882\n",
       "735263  720895  0xc68cfe5517be77f4253ca01385c00ac216811a6e"
      ]
     },
     "execution_count": 2,
     "metadata": {},
     "output_type": "execute_result"
    }
   ],
   "source": [
    "from google.cloud import bigquery\n",
    "\n",
    "os.environ['GOOGLE_APPLICATION_CREDENTIALS'] = '../../../gcp_credentials.json'\n",
    "client = bigquery.Client()\n",
    "PROJECT = 'opensource-observer'\n",
    "query = f\"\"\"\n",
    "WITH\n",
    "  profiles AS (\n",
    "    SELECT\n",
    "      v.fid,\n",
    "      v.address,\n",
    "      p.custody_address\n",
    "    FROM `{PROJECT}.farcaster.verifications` v\n",
    "    JOIN `{PROJECT}.farcaster.profiles` p ON v.fid = p.fid\n",
    "    WHERE v.deleted_at IS NULL\n",
    "  ),\n",
    "  eth_addresses AS (\n",
    "    SELECT\n",
    "      fid,\n",
    "      address\n",
    "    FROM profiles\n",
    "    WHERE LENGTH(address) = 42\n",
    "    UNION ALL\n",
    "    SELECT\n",
    "      fid,\n",
    "      custody_address AS address\n",
    "    FROM profiles\n",
    "  )\n",
    "SELECT DISTINCT\n",
    "  fid,\n",
    "  address\n",
    "FROM eth_addresses\n",
    "\"\"\"\n",
    "\n",
    "result = client.query(query)\n",
    "farcaster = result.to_dataframe()\n",
    "FARCASTER = farcaster.groupby('fid')['address'].agg(set).to_dict()\n",
    "farcaster.tail(3)"
   ]
  },
  {
   "cell_type": "markdown",
   "id": "91f9a9a5",
   "metadata": {},
   "source": [
    "# Get delegate info"
   ]
  },
  {
   "cell_type": "code",
   "execution_count": 3,
   "id": "ded0a237",
   "metadata": {},
   "outputs": [],
   "source": [
    "load_dotenv()\n",
    "AGORA_API_KEY = os.environ['AGORA_API_KEY']\n",
    "\n",
    "url = 'https://vote.optimism.io/api/v1/delegates'\n",
    "params = {'limit': 100, 'offset': 0, 'sort': 'most_delegators'}\n",
    "headers = {\n",
    "    'accept': 'application/json',\n",
    "    'Authorization': f'Bearer {AGORA_API_KEY}'\n",
    "}\n",
    "response = requests.get(url, params=params, headers=headers)\n",
    "if response.status_code == 200:\n",
    "    agora_data = response.json()\n",
    "else:\n",
    "    print(f\"Request failed with status code: {response.status_code}\")\n",
    "    print(response.text)"
   ]
  },
  {
   "cell_type": "code",
   "execution_count": 4,
   "id": "19ade0a9",
   "metadata": {},
   "outputs": [
    {
     "data": {
      "text/plain": [
       "100"
      ]
     },
     "execution_count": 4,
     "metadata": {},
     "output_type": "execute_result"
    }
   ],
   "source": [
    "DELEGATES = [x['address'].lower() for x in agora_data['data']]\n",
    "len(DELEGATES)\n",
    "# for p in DELEGATES:\n",
    "#     print(f\"'{p}',\")"
   ]
  },
  {
   "cell_type": "markdown",
   "id": "2c8cb123",
   "metadata": {},
   "source": [
    "# Load relevant attestations"
   ]
  },
  {
   "cell_type": "code",
   "execution_count": 5,
   "id": "b4f706b5",
   "metadata": {},
   "outputs": [],
   "source": [
    "def load_json(json_path):\n",
    "    with open(json_path, 'r') as f:\n",
    "        data = json.load(f)\n",
    "    return data"
   ]
  },
  {
   "cell_type": "code",
   "execution_count": 6,
   "id": "61c14fda",
   "metadata": {},
   "outputs": [
    {
     "name": "stdout",
     "output_type": "stream",
     "text": [
      "Project attestations: 4234\n",
      "Application attestations: 396\n",
      "Badgeholder attestations: 304\n",
      "Gov Council attestations: 217\n",
      "Impact attestations: 371\n"
     ]
    }
   ],
   "source": [
    "project_attestation_data = load_json('data/attestations/472.json')\n",
    "print(\"Project attestations:\", len(project_attestation_data))\n",
    "\n",
    "app_attestation_data = load_json('data/attestations/609.json')\n",
    "print(\"Application attestations:\", len(app_attestation_data))\n",
    "\n",
    "badgeholder_attestation_data = load_json('data/attestations/599.json')\n",
    "print(\"Badgeholder attestations:\", len(badgeholder_attestation_data))\n",
    "\n",
    "gov_council_attestation_data = load_json('data/attestations/141.json')\n",
    "print(\"Gov Council attestations:\", len(gov_council_attestation_data))\n",
    "\n",
    "impact_attestation_data = load_json('data/attestations/566.json')\n",
    "print(\"Impact attestations:\", len(impact_attestation_data))"
   ]
  },
  {
   "cell_type": "code",
   "execution_count": 7,
   "id": "b24d3b72-79a0-4780-90bf-bf052ef25795",
   "metadata": {},
   "outputs": [
    {
     "name": "stdout",
     "output_type": "stream",
     "text": [
      "Projects: 3020\n"
     ]
    },
    {
     "data": {
      "text/plain": [
       "id                     0x36e632d6651278f4ed89f3eccbf0e7a5245741a4da89...\n",
       "attester                      0xF6872D315CC2E1AfF6abae5dd814fd54755fE97C\n",
       "recipient                     0x0000000000000000000000000000000000000000\n",
       "timeCreated                                                   1729066136\n",
       "projectRefUID          0x25d3cb05bc73d81fb4c84bac183594cbacf6e140a98c...\n",
       "farcasterID                     {'type': 'BigNumber', 'hex': '0x0758c4'}\n",
       "name                                                        boribori.eth\n",
       "category                                                          Social\n",
       "parentProjectRefUID    0x00000000000000000000000000000000000000000000...\n",
       "metadataType                                                           0\n",
       "metadataUrl            https://storage.retrofunding.optimism.io/ipfs/...\n",
       "metadata               {'name': 'boribori.eth', 'description': 'Farca...\n",
       "Name: 4231, dtype: object"
      ]
     },
     "execution_count": 7,
     "metadata": {},
     "output_type": "execute_result"
    }
   ],
   "source": [
    "ATTESTER_ADDR = \"0xf6872d315cc2e1aff6abae5dd814fd54755fe97c\"\n",
    "\n",
    "df_project_metadata = pd.DataFrame(project_attestation_data)\n",
    "df_project_metadata = df_project_metadata[df_project_metadata.attester.str.lower() == ATTESTER_ADDR]\n",
    "df_project_metadata.sort_values(by=\"timeCreated\", ascending=False, inplace=True)\n",
    "df_project_metadata.drop_duplicates(subset=\"projectRefUID\", keep=\"first\", inplace=True)\n",
    "\n",
    "PROJECTS = list(df_project_metadata['projectRefUID'].unique())\n",
    "print(\"Projects:\", len(PROJECTS))\n",
    "\n",
    "df_project_metadata.iloc[0]"
   ]
  },
  {
   "cell_type": "code",
   "execution_count": 8,
   "id": "dfde5b76-9a43-461d-ab00-9891a05656b4",
   "metadata": {},
   "outputs": [
    {
     "name": "stdout",
     "output_type": "stream",
     "text": [
      "Applications: 135\n"
     ]
    },
    {
     "data": {
      "text/plain": [
       "id                        0x336ac39aefc89a9f2bb8832f362074d32a95a9d6fabe...\n",
       "attester                         0xF6872D315CC2E1AfF6abae5dd814fd54755fE97C\n",
       "recipient                        0x0000000000000000000000000000000000000000\n",
       "timeCreated                                                      1728932322\n",
       "round                                                                     6\n",
       "farcasterID                        {'type': 'BigNumber', 'hex': '0x033bdf'}\n",
       "metadataSnapshotRefUID    0xf17ee19c8307170ca4d77c571580e8ad2f304727360b...\n",
       "metadataType                                                              0\n",
       "metadataUrl               https://storage.retrofunding.optimism.io/ipfs/...\n",
       "metadata                  {'round': 6, 'category': 'Governance Infra & T...\n",
       "Name: 165, dtype: object"
      ]
     },
     "execution_count": 8,
     "metadata": {},
     "output_type": "execute_result"
    }
   ],
   "source": [
    "df_applications = pd.DataFrame(app_attestation_data)\n",
    "df_applications = df_applications[df_applications.attester.str.lower() == ATTESTER_ADDR]\n",
    "df_applications['round'] = df_applications['round'].apply(lambda x: str(x))\n",
    "df_applications.sort_values(by=\"timeCreated\", ascending=False, inplace=True)\n",
    "df_applications.drop_duplicates(subset=\"metadataSnapshotRefUID\", keep=\"first\", inplace=True)\n",
    "\n",
    "latest_metadata = list(df_project_metadata.id.unique())\n",
    "df_applications = df_applications[df_applications.metadataSnapshotRefUID.isin(latest_metadata)]\n",
    "\n",
    "print(\"Applications:\", len(df_applications))\n",
    "df_applications.iloc[0]"
   ]
  },
  {
   "cell_type": "markdown",
   "id": "2e8015a5-f4b3-4851-a310-564f4d79f936",
   "metadata": {},
   "source": [
    "# Clean / filter attestation data"
   ]
  },
  {
   "cell_type": "code",
   "execution_count": 9,
   "id": "ff1c8e6b",
   "metadata": {},
   "outputs": [
    {
     "name": "stdout",
     "output_type": "stream",
     "text": [
      "Relevant badgeholder attestations: 200\n"
     ]
    }
   ],
   "source": [
    "relevant_badgeholder_attestations = []\n",
    "for a in badgeholder_attestation_data:\n",
    "    if a['attester'] != '0xE4553b743E74dA3424Ac51f8C1E586fd43aE226F':\n",
    "        continue\n",
    "    if a['voterType'] == 'Guest':\n",
    "        continue\n",
    "    relevant_badgeholder_attestations.append({\n",
    "        'id': a['id'].lower(),\n",
    "        'attester': a['attester'].lower(),\n",
    "        'recipient': a['recipient'].lower(),\n",
    "        'timeCreated': datetime.datetime.utcfromtimestamp(a['timeCreated'])\n",
    "    })\n",
    "print(\"Relevant badgeholder attestations:\", len(relevant_badgeholder_attestations))            "
   ]
  },
  {
   "cell_type": "code",
   "execution_count": 10,
   "id": "6d8e3482",
   "metadata": {},
   "outputs": [
    {
     "name": "stdout",
     "output_type": "stream",
     "text": [
      "Relevant gov council attestations: 60\n"
     ]
    }
   ],
   "source": [
    "mapped_roles = {\n",
    "    'ACC (Second half)': 'Anticapture Commission',\n",
    "    'Anticapture Commission Member': 'Anticapture Commission',\n",
    "    'Badgeholder Reviewer': None,\n",
    "    'Code of Conduct Council': 'Code of Conduct',\n",
    "    'Code of Conduct Council Lead': 'Code of Conduct',\n",
    "    'Code of Conduct Council Member': 'Code of Conduct',\n",
    "    'Developer Advisory Board Lead': 'Developer Advisory Board',\n",
    "    'Developer Advisory Board Member': 'Developer Advisory Board',\n",
    "    'Optimism Grants Council Lead': 'Grants Council',\n",
    "    'Optimism Grants Council Member': 'Grants Council',\n",
    "    'Security Council Lead': 'Security Council',\n",
    "    'Security Council Member': 'Security Council',\n",
    "}\n",
    "relevant_gov_council_attestations = []\n",
    "for a in gov_council_attestation_data:\n",
    "    if a['attester'] != '0xE4553b743E74dA3424Ac51f8C1E586fd43aE226F':\n",
    "        continue\n",
    "    if a['govSeason'] not in ['5', '6']:\n",
    "        continue\n",
    "    gov_role = mapped_roles.get(a['govRole'], 'unknown')\n",
    "    if not gov_role:\n",
    "        continue\n",
    "    if gov_role == 'unknown':\n",
    "        print(\"Unknown role:\", a['govRole'])\n",
    "        continue\n",
    "    relevant_gov_council_attestations.append({\n",
    "        'id': a['id'].lower(),\n",
    "        'attester': a['attester'].lower(),\n",
    "        'recipient': a['recipient'].lower(),\n",
    "        'govRole': gov_role,\n",
    "        'timeCreated': datetime.datetime.utcfromtimestamp(a['timeCreated'])\n",
    "    })\n",
    "print(\"Relevant gov council attestations:\", len(relevant_gov_council_attestations))            "
   ]
  },
  {
   "cell_type": "markdown",
   "id": "b3a30c6d",
   "metadata": {},
   "source": [
    "# Determine approved attestation recipients"
   ]
  },
  {
   "cell_type": "code",
   "execution_count": 11,
   "id": "69dcfc8f",
   "metadata": {},
   "outputs": [
    {
     "data": {
      "text/plain": [
       "['Grants Council',\n",
       " 'Anticapture Commission',\n",
       " 'Developer Advisory Board',\n",
       " 'Code of Conduct',\n",
       " 'Security Council']"
      ]
     },
     "execution_count": 11,
     "metadata": {},
     "output_type": "execute_result"
    }
   ],
   "source": [
    "COUNCILS = list(pd.DataFrame(relevant_gov_council_attestations)['govRole'].unique())\n",
    "COUNCILS"
   ]
  },
  {
   "cell_type": "code",
   "execution_count": 12,
   "id": "7d2efc98",
   "metadata": {},
   "outputs": [
    {
     "data": {
      "text/plain": [
       "103"
      ]
     },
     "execution_count": 12,
     "metadata": {},
     "output_type": "execute_result"
    }
   ],
   "source": [
    "BADGEHOLDERS = set([a['recipient'].lower() for a in relevant_badgeholder_attestations])\n",
    "len(BADGEHOLDERS)"
   ]
  },
  {
   "cell_type": "code",
   "execution_count": 13,
   "id": "f1684da2",
   "metadata": {},
   "outputs": [
    {
     "name": "stdout",
     "output_type": "stream",
     "text": [
      "188\n"
     ]
    }
   ],
   "source": [
    "ATTESTERS = {}\n",
    "for addr in BADGEHOLDERS:\n",
    "    if addr not in ATTESTERS:\n",
    "        ATTESTERS.update({\n",
    "            addr: {\n",
    "                'is_citizen': True,\n",
    "                'is_top_delegate': False,\n",
    "                'governance_membership': set()                \n",
    "            }\n",
    "        })\n",
    "for addr in DELEGATES:\n",
    "    if addr not in ATTESTERS:\n",
    "        ATTESTERS.update({\n",
    "            addr: {\n",
    "                'is_citizen': False,\n",
    "                'is_top_delegate': True,\n",
    "                'governance_membership': set()\n",
    "            }\n",
    "        })\n",
    "    else:\n",
    "        ATTESTERS[addr]['is_top_delegate'] = True\n",
    "\n",
    "for a in relevant_gov_council_attestations:\n",
    "    addr = a['recipient'].lower()\n",
    "    if addr in ATTESTERS:\n",
    "        ATTESTERS[addr]['governance_membership'].add(a['govRole'])  \n",
    "        \n",
    "for addr in ATTESTERS:\n",
    "    ATTESTERS[addr]['governance_membership'] = list(ATTESTERS[addr]['governance_membership'])    \n",
    "\n",
    "print(len(ATTESTERS.keys()))"
   ]
  },
  {
   "cell_type": "markdown",
   "id": "864b9802-3160-4c7f-89fd-f59d1186f6c5",
   "metadata": {},
   "source": [
    "# Create attestations dataframe"
   ]
  },
  {
   "cell_type": "code",
   "execution_count": 14,
   "id": "8d452aac-9e8f-466f-a068-572ce9c76f90",
   "metadata": {},
   "outputs": [],
   "source": [
    "def convert_farcaster(farcaster_id):\n",
    "    return int(farcaster_id['hex'], 16) if farcaster_id else None"
   ]
  },
  {
   "cell_type": "code",
   "execution_count": 15,
   "id": "ff937d48",
   "metadata": {},
   "outputs": [
    {
     "name": "stdout",
     "output_type": "stream",
     "text": [
      "Reviewed impact attestations: 371\n",
      "Relevant impact attestations: 68\n"
     ]
    }
   ],
   "source": [
    "mgl_attester = '0x7484aABFef9f39464F332e632047983b67571C0a'\n",
    "\n",
    "reviewed_attestations = []\n",
    "relevant_impact_attestations = []\n",
    "for attestation in impact_attestation_data:\n",
    "\n",
    "    a = attestation.copy()\n",
    "    fid = convert_farcaster(a['farcasterID'])\n",
    "    a['farcasterID'] = fid\n",
    "    a['timeCreated'] = datetime.datetime.utcfromtimestamp(a['timeCreated'])\n",
    "    \n",
    "    if a['attester'] != mgl_attester:\n",
    "        a.update({'status': 'unknown_signer'})\n",
    "        reviewed_attestations.append(a)\n",
    "        continue\n",
    "        \n",
    "    if a['projectRegUID'] not in PROJECTS:\n",
    "        a.update({'status': 'unknown_project'})\n",
    "        reviewed_attestations.append(a)\n",
    "        continue\n",
    "\n",
    "    user_addresses = FARCASTER.get(fid, set())\n",
    "    if not len(user_addresses):\n",
    "        a.update({'status': 'farcaster_has_no_eoa'})\n",
    "        reviewed_attestations.append(a)\n",
    "        continue\n",
    "    \n",
    "    linked_addresses = user_addresses.intersection(set(ATTESTERS.keys()))\n",
    "    if not linked_addresses:\n",
    "        a.update({'status': 'farcaster_not_gov_participant'})\n",
    "        reviewed_attestations.append(a)\n",
    "        continue\n",
    "\n",
    "    if len(linked_addresses) > 1:\n",
    "        print(fid)\n",
    "    linked_address = linked_addresses.pop()\n",
    "        \n",
    "    qs = a.get('metadata', {}).get('impactAttestations', [])\n",
    "    if len(qs) < 2:\n",
    "        a.update({'status': 'missing_metadata'})\n",
    "        reviewed_attestations.append(a)\n",
    "        continue\n",
    "    \n",
    "    nps = pmf = None\n",
    "    for q in qs:\n",
    "        val = q.get('value')\n",
    "        if not val:\n",
    "            continue\n",
    "        if q['name'] == 'Likely to Recommend':\n",
    "            nps = val\n",
    "        elif q['name'] == 'Feeling if didnt exist':\n",
    "            pmf = val\n",
    "    \n",
    "    if not (nps or pmf):\n",
    "        a.update({'status': 'missing_scores'})\n",
    "        reviewed_attestations.append(a)\n",
    "        continue\n",
    "\n",
    "    a.update({'status': 'OK'})\n",
    "    reviewed_attestations.append(a)\n",
    "    relevant_impact_attestations.append({\n",
    "        'id': a['id'].lower(),\n",
    "        'attester': a['attester'].lower(),\n",
    "        'recipient': a['recipient'].lower(),\n",
    "        'linkedAddress': linked_address,\n",
    "        'farcasterID': fid,\n",
    "        'projectRegUID': a['projectRegUID'].lower(),\n",
    "        'timeCreated': a['timeCreated'],\n",
    "        'issuer': a['issuer'],\n",
    "        'metadataurl': a['metadataurl'],\n",
    "        'nps_score': pd.to_numeric(nps),\n",
    "        'pmf_score': pd.to_numeric(pmf)\n",
    "    })\n",
    "    \n",
    "print(\"Reviewed impact attestations:\", len(reviewed_attestations))\n",
    "print(\"Relevant impact attestations:\", len(relevant_impact_attestations))"
   ]
  },
  {
   "cell_type": "code",
   "execution_count": 16,
   "id": "a2f784f0",
   "metadata": {},
   "outputs": [
    {
     "data": {
      "text/html": [
       "<div>\n",
       "<style scoped>\n",
       "    .dataframe tbody tr th:only-of-type {\n",
       "        vertical-align: middle;\n",
       "    }\n",
       "\n",
       "    .dataframe tbody tr th {\n",
       "        vertical-align: top;\n",
       "    }\n",
       "\n",
       "    .dataframe thead th {\n",
       "        text-align: right;\n",
       "    }\n",
       "</style>\n",
       "<table border=\"1\" class=\"dataframe\">\n",
       "  <thead>\n",
       "    <tr style=\"text-align: right;\">\n",
       "      <th></th>\n",
       "      <th>67</th>\n",
       "    </tr>\n",
       "  </thead>\n",
       "  <tbody>\n",
       "    <tr>\n",
       "      <th>id</th>\n",
       "      <td>0xe7b8fbea065ab151b55bf4a84cc06ccb3909a46007d1...</td>\n",
       "    </tr>\n",
       "    <tr>\n",
       "      <th>attester</th>\n",
       "      <td>0x7484aabfef9f39464f332e632047983b67571c0a</td>\n",
       "    </tr>\n",
       "    <tr>\n",
       "      <th>recipient</th>\n",
       "      <td>0x9934465ee73beaf148b1b3ff232c8cd86c4c2c63</td>\n",
       "    </tr>\n",
       "    <tr>\n",
       "      <th>linkedAddress</th>\n",
       "      <td>0x64fed9e56b548343e7bb47c49ecd7ffa9f1a34fe</td>\n",
       "    </tr>\n",
       "    <tr>\n",
       "      <th>farcasterID</th>\n",
       "      <td>777864</td>\n",
       "    </tr>\n",
       "    <tr>\n",
       "      <th>projectRegUID</th>\n",
       "      <td>0xe2247097961708233325f253d676ba2f9d8011147e1b...</td>\n",
       "    </tr>\n",
       "    <tr>\n",
       "      <th>timeCreated</th>\n",
       "      <td>2024-10-18 16:43:39</td>\n",
       "    </tr>\n",
       "    <tr>\n",
       "      <th>issuer</th>\n",
       "      <td>MGL</td>\n",
       "    </tr>\n",
       "    <tr>\n",
       "      <th>metadataurl</th>\n",
       "      <td>https://gateway.pinata.cloud/ipfs/QmW5U7WHVmXs...</td>\n",
       "    </tr>\n",
       "    <tr>\n",
       "      <th>nps_score</th>\n",
       "      <td>6.0</td>\n",
       "    </tr>\n",
       "    <tr>\n",
       "      <th>pmf_score</th>\n",
       "      <td>2</td>\n",
       "    </tr>\n",
       "  </tbody>\n",
       "</table>\n",
       "</div>"
      ],
      "text/plain": [
       "                                                              67\n",
       "id             0xe7b8fbea065ab151b55bf4a84cc06ccb3909a46007d1...\n",
       "attester              0x7484aabfef9f39464f332e632047983b67571c0a\n",
       "recipient             0x9934465ee73beaf148b1b3ff232c8cd86c4c2c63\n",
       "linkedAddress         0x64fed9e56b548343e7bb47c49ecd7ffa9f1a34fe\n",
       "farcasterID                                               777864\n",
       "projectRegUID  0xe2247097961708233325f253d676ba2f9d8011147e1b...\n",
       "timeCreated                                  2024-10-18 16:43:39\n",
       "issuer                                                       MGL\n",
       "metadataurl    https://gateway.pinata.cloud/ipfs/QmW5U7WHVmXs...\n",
       "nps_score                                                    6.0\n",
       "pmf_score                                                      2"
      ]
     },
     "execution_count": 16,
     "metadata": {},
     "output_type": "execute_result"
    }
   ],
   "source": [
    "df_attestations_actual = pd.DataFrame(relevant_impact_attestations)\n",
    "df_attestations_actual.tail(1).T"
   ]
  },
  {
   "cell_type": "code",
   "execution_count": 17,
   "id": "a7d4634a-1380-4057-97d4-1e6e205f455c",
   "metadata": {},
   "outputs": [
    {
     "data": {
      "text/plain": [
       "farcasterID\n",
       "484399    25\n",
       "191212    15\n",
       "21291     11\n",
       "4469       8\n",
       "18344      4\n",
       "429828     4\n",
       "20605      2\n",
       "6187       2\n",
       "14496      2\n",
       "13462      1\n",
       "18138      1\n",
       "320694     1\n",
       "260400     1\n",
       "325302     1\n",
       "189380     1\n",
       "838        1\n",
       "295767     1\n",
       "217355     1\n",
       "2588       1\n",
       "Name: count, dtype: int64"
      ]
     },
     "execution_count": 17,
     "metadata": {},
     "output_type": "execute_result"
    }
   ],
   "source": [
    "df_reviewed = pd.DataFrame(reviewed_attestations)\n",
    "df_reviewed[df_reviewed['status'] == 'farcaster_not_gov_participant']['farcasterID'].value_counts()"
   ]
  },
  {
   "cell_type": "markdown",
   "id": "35247a47-a521-42e7-b061-f9cc22c63b1f",
   "metadata": {},
   "source": [
    "# Implement a few of the metrics"
   ]
  },
  {
   "cell_type": "code",
   "execution_count": 18,
   "id": "7e311a74",
   "metadata": {},
   "outputs": [
    {
     "data": {
      "text/plain": [
       "68"
      ]
     },
     "execution_count": 18,
     "metadata": {},
     "output_type": "execute_result"
    }
   ],
   "source": [
    "df = df_attestations_actual.copy()\n",
    "df['is_citizen'] = df.linkedAddress.apply(lambda x: ATTESTERS[x]['is_citizen'])\n",
    "df['is_top_delegate'] = df.linkedAddress.apply(lambda x: ATTESTERS[x]['is_top_delegate'])\n",
    "df['governance_membership'] = df.linkedAddress.apply(lambda x: ATTESTERS[x]['governance_membership'])\n",
    "len(df)"
   ]
  },
  {
   "cell_type": "code",
   "execution_count": 19,
   "id": "4c66f3ec",
   "metadata": {},
   "outputs": [],
   "source": [
    "def most_positive_superlative(ref_uid):\n",
    "    dff = df[df['projectRegUID'] == ref_uid]\n",
    "    num_reviews = len(dff)\n",
    "    pmf_pos_reviews = (dff['pmf_score'] > 2).sum() / num_reviews\n",
    "    nps_pos_reviews = (dff['nps_score'] > 8).sum() / num_reviews\n",
    "    \n",
    "    result = (num_reviews >= 20) and (pmf_pos_reviews >= .95) and (nps_pos_reviews >= .95)\n",
    "    \n",
    "    return str(result)\n",
    "\n",
    "def cant_live_without_superlative(ref_uid):\n",
    "    dff = df[df['projectRegUID'] == ref_uid]\n",
    "    num_reviews = len(dff)\n",
    "    pmf_pos_reviews = (dff['pmf_score'] > 2).sum() / num_reviews\n",
    "    \n",
    "    result = (num_reviews >= 20) and (pmf_pos_reviews >= .90)\n",
    "    \n",
    "    return str(result)\n",
    "\n",
    "def ratings_distribution(ref_uid):\n",
    "    dff = df[df['projectRegUID'] == ref_uid]\n",
    "    dff_citizens = dff[dff.is_citizen == True]\n",
    "    dff_delegates = dff[dff.is_top_delegate == True]\n",
    "\n",
    "    def calculate_distribution(group, score):\n",
    "        total = len(group)\n",
    "        if not total:\n",
    "            return None\n",
    "        return (group['pmf_score'] == score).sum() / total\n",
    "    \n",
    "    return {\n",
    "        'citizens': {\n",
    "            'extremely_upset': calculate_distribution(dff_citizens, 3),\n",
    "            'somewhat_upset': calculate_distribution(dff_citizens, 2),\n",
    "            'neutral': calculate_distribution(dff_citizens, 1)\n",
    "        },\n",
    "        'top_delegates': {\n",
    "            'extremely_upset': calculate_distribution(dff_delegates, 3),\n",
    "            'somewhat_upset': calculate_distribution(dff_delegates, 2),\n",
    "            'neutral': calculate_distribution(dff_delegates, 1)\n",
    "        }\n",
    "    }\n",
    "\n",
    "def councils_distribution(ref_uid):\n",
    "    dff = df[df['projectRegUID'] == ref_uid]\n",
    "    result = {}\n",
    "    for council in COUNCILS:\n",
    "        dff_council = dff[dff['governance_membership'].apply(lambda x: council in x)]\n",
    "        if dff_council.empty:\n",
    "            continue\n",
    "        result.update({\n",
    "            council.replace(' ','_').lower(): {\n",
    "                'count_attestations': len(dff_council),\n",
    "                'avg_pmf_score': dff_council['pmf_score'].mean(),\n",
    "                'avg_nps_score': dff_council['nps_score'].mean()\n",
    "            }\n",
    "        })\n",
    "    return result"
   ]
  },
  {
   "cell_type": "code",
   "execution_count": 20,
   "id": "5ad94884",
   "metadata": {},
   "outputs": [],
   "source": [
    "metrics = []\n",
    "metrics.append({\n",
    "    'name': 'count_total_attestations',\n",
    "    'description': 'Number of Attestations',\n",
    "    'data': df.groupby('projectRegUID')['id'].count().to_dict()\n",
    "})\n",
    "metrics.append({\n",
    "    'name': 'count_citizen_attestations',\n",
    "    'description': 'Number of Attestations by Citizens',\n",
    "    'data': df[df.is_citizen].groupby('projectRegUID')['id'].count().to_dict()\n",
    "})\n",
    "metrics.append({\n",
    "    'name': 'count_delegate_attestations',\n",
    "    'description': 'Number of Attestations by Top Delegates',\n",
    "    'data': df[df.is_top_delegate].groupby('projectRegUID')['id'].count().to_dict()    \n",
    "})\n",
    "metrics.append({\n",
    "    'name': 'avg_nps_score',\n",
    "    'description': 'Average NPS score of Citizens and Top Delegates',\n",
    "    'data': df.groupby('projectRegUID')['nps_score'].mean().to_dict()\n",
    "})\n",
    "metrics.append({\n",
    "    'name': 'most_positive_superlative',\n",
    "    'description': 'Most positive superlative (20 reviews, 95% high PMF and 95% high NPS)',\n",
    "    'data': {uid: most_positive_superlative(uid) for uid in df['projectRegUID'].unique()}\n",
    "})\n",
    "metrics.append({\n",
    "    'name': 'cant_live_without_superlative',\n",
    "    'description': \"Can't live without superlative (20 reviews, 90% high PMF)\",\n",
    "    'data': {uid: cant_live_without_superlative(uid) for uid in df['projectRegUID'].unique()}\n",
    "})\n",
    "metrics.append({\n",
    "    'name': 'percentage_distributions',\n",
    "    'description': \"Percentage distribution of different ratings by citizens and top delegates\",\n",
    "    'data': {uid: ratings_distribution(uid) for uid in df['projectRegUID'].unique()}\n",
    "})    \n",
    "metrics.append({\n",
    "    'name': 'elected_governance_reviews',\n",
    "    'description': 'Reviews from elected governance members',\n",
    "    'data': {uid: councils_distribution(uid) for uid in df['projectRegUID'].unique()}\n",
    "})"
   ]
  },
  {
   "cell_type": "code",
   "execution_count": 21,
   "id": "45f84684",
   "metadata": {},
   "outputs": [],
   "source": [
    "with open(\"data/attestation_metrics.json\", \"w\") as f:\n",
    "    json.dump(metrics,f,indent=2)"
   ]
  },
  {
   "cell_type": "code",
   "execution_count": 22,
   "id": "03940636",
   "metadata": {},
   "outputs": [],
   "source": [
    "pd.DataFrame(reviewed_attestations).to_csv(\"data/normalized_attestations.csv\")"
   ]
  }
 ],
 "metadata": {
  "kernelspec": {
   "display_name": "Python 3 (ipykernel)",
   "language": "python",
   "name": "python3"
  },
  "language_info": {
   "codemirror_mode": {
    "name": "ipython",
    "version": 3
   },
   "file_extension": ".py",
   "mimetype": "text/x-python",
   "name": "python",
   "nbconvert_exporter": "python",
   "pygments_lexer": "ipython3",
   "version": "3.11.7"
  }
 },
 "nbformat": 4,
 "nbformat_minor": 5
}
