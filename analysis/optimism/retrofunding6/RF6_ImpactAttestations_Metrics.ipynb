{
 "cells": [
  {
   "cell_type": "markdown",
   "id": "4e3d661c",
   "metadata": {},
   "source": [
    "# RF6 Impact Attestation Metrics\n",
    "\n",
    "Spec [here](https://plaid-cement-e44.notion.site/Impact-Attestations-Data-b8b1c79a624c46ad94305c74def64783)."
   ]
  },
  {
   "cell_type": "code",
   "execution_count": 1,
   "id": "7b36248f",
   "metadata": {},
   "outputs": [],
   "source": [
    "import datetime\n",
    "import json\n",
    "import pandas as pd\n",
    "\n",
    "from scripts.agora import agora_api\n",
    "from scripts.farcaster import load_farcaster\n",
    "from scripts.metrics import calculate_metrics"
   ]
  },
  {
   "cell_type": "markdown",
   "id": "46eeb58a",
   "metadata": {},
   "source": [
    "# Load data"
   ]
  },
  {
   "cell_type": "code",
   "execution_count": 2,
   "id": "38837413",
   "metadata": {},
   "outputs": [],
   "source": [
    "f = load_farcaster()\n",
    "FARCASTER = pd.DataFrame(f).groupby('fid')['address'].apply(set).to_dict()"
   ]
  },
  {
   "cell_type": "code",
   "execution_count": 3,
   "id": "ded05a5e",
   "metadata": {},
   "outputs": [
    {
     "name": "stdout",
     "output_type": "stream",
     "text": [
      "Fetched a total of 100 items from delegates.\n",
      "Fetched 100 items, offset now at 100\n",
      "Fetched a total of 142 items from retrofunding/rounds/6/projects.\n"
     ]
    }
   ],
   "source": [
    "delegate_data = agora_api('delegates', params={'limit': 100, 'offset': 0, 'sort': 'most_delegators'})\n",
    "rf6_projects = agora_api('retrofunding/rounds/6/projects')\n",
    "\n",
    "DELEGATES = [x['address'].lower() for x in delegate_data]\n",
    "AGORA_IDS = [x['projectId'] for x in rf6_projects]"
   ]
  },
  {
   "cell_type": "code",
   "execution_count": 4,
   "id": "b4f706b5",
   "metadata": {},
   "outputs": [
    {
     "name": "stdout",
     "output_type": "stream",
     "text": [
      "Project attestations: 4267\n",
      "Application attestations: 407\n",
      "Badgeholder attestations: 305\n",
      "Gov Council attestations: 217\n",
      "Impact attestations: 426\n"
     ]
    }
   ],
   "source": [
    "def load_json(json_path):\n",
    "    with open(json_path, 'r') as f:\n",
    "        data = json.load(f)\n",
    "    return data\n",
    "\n",
    "project_attestation_data = load_json('data/attestations/472.json')\n",
    "print(\"Project attestations:\", len(project_attestation_data))\n",
    "\n",
    "app_attestation_data = load_json('data/attestations/609.json')\n",
    "print(\"Application attestations:\", len(app_attestation_data))\n",
    "\n",
    "badgeholder_attestation_data = load_json('data/attestations/599.json')\n",
    "print(\"Badgeholder attestations:\", len(badgeholder_attestation_data))\n",
    "\n",
    "gov_council_attestation_data = load_json('data/attestations/141.json')\n",
    "print(\"Gov Council attestations:\", len(gov_council_attestation_data))\n",
    "\n",
    "impact_attestation_data = load_json('data/attestations/566.json')\n",
    "print(\"Impact attestations:\", len(impact_attestation_data))"
   ]
  },
  {
   "cell_type": "code",
   "execution_count": 5,
   "id": "b24d3b72-79a0-4780-90bf-bf052ef25795",
   "metadata": {},
   "outputs": [
    {
     "name": "stdout",
     "output_type": "stream",
     "text": [
      "Projects: 3040\n"
     ]
    }
   ],
   "source": [
    "ATTESTER_ADDR = \"0xf6872d315cc2e1aff6abae5dd814fd54755fe97c\"\n",
    "\n",
    "df_project_metadata = pd.DataFrame(project_attestation_data)\n",
    "df_project_metadata = df_project_metadata[df_project_metadata.attester.str.lower() == ATTESTER_ADDR]\n",
    "df_project_metadata.sort_values(by=\"timeCreated\", ascending=False, inplace=True)\n",
    "df_project_metadata.drop_duplicates(subset=\"projectRefUID\", keep=\"first\", inplace=True)\n",
    "\n",
    "PROJECTS = list(df_project_metadata['projectRefUID'].unique())\n",
    "print(\"Projects:\", len(PROJECTS))"
   ]
  },
  {
   "cell_type": "code",
   "execution_count": 6,
   "id": "dfde5b76-9a43-461d-ab00-9891a05656b4",
   "metadata": {},
   "outputs": [
    {
     "name": "stdout",
     "output_type": "stream",
     "text": [
      "Applications: 143\n"
     ]
    }
   ],
   "source": [
    "df_applications = pd.DataFrame(app_attestation_data)\n",
    "df_applications = df_applications[df_applications.attester.str.lower() == ATTESTER_ADDR]\n",
    "df_applications['round'] = df_applications['round'].apply(lambda x: str(x))\n",
    "df_applications.sort_values(by=\"timeCreated\", ascending=False, inplace=True)\n",
    "df_applications.drop_duplicates(subset=\"metadataSnapshotRefUID\", keep=\"first\", inplace=True)\n",
    "\n",
    "latest_metadata = list(df_project_metadata.id.unique())\n",
    "df_applications = df_applications[df_applications.metadataSnapshotRefUID.isin(latest_metadata)]\n",
    "print(\"Applications:\", len(df_applications))"
   ]
  },
  {
   "cell_type": "markdown",
   "id": "2e8015a5-f4b3-4851-a310-564f4d79f936",
   "metadata": {},
   "source": [
    "# Clean / filter attestation data"
   ]
  },
  {
   "cell_type": "code",
   "execution_count": 7,
   "id": "ff1c8e6b",
   "metadata": {},
   "outputs": [
    {
     "name": "stdout",
     "output_type": "stream",
     "text": [
      "Relevant badgeholder attestations: 200\n"
     ]
    }
   ],
   "source": [
    "relevant_badgeholder_attestations = []\n",
    "for a in badgeholder_attestation_data:\n",
    "    if a['attester'] != '0xE4553b743E74dA3424Ac51f8C1E586fd43aE226F':\n",
    "        continue\n",
    "    if a['voterType'] == 'Guest':\n",
    "        continue\n",
    "    relevant_badgeholder_attestations.append({\n",
    "        'id': a['id'].lower(),\n",
    "        'attester': a['attester'].lower(),\n",
    "        'recipient': a['recipient'].lower(),\n",
    "        'timeCreated': datetime.datetime.utcfromtimestamp(a['timeCreated'])\n",
    "    })\n",
    "print(\"Relevant badgeholder attestations:\", len(relevant_badgeholder_attestations))  \n",
    "BADGEHOLDERS = set([a['recipient'].lower() for a in relevant_badgeholder_attestations])"
   ]
  },
  {
   "cell_type": "code",
   "execution_count": 8,
   "id": "6d8e3482",
   "metadata": {},
   "outputs": [
    {
     "name": "stdout",
     "output_type": "stream",
     "text": [
      "Relevant gov council attestations: 60\n"
     ]
    },
    {
     "data": {
      "text/plain": [
       "['Grants Council',\n",
       " 'Anticapture Commission',\n",
       " 'Developer Advisory Board',\n",
       " 'Code of Conduct',\n",
       " 'Security Council']"
      ]
     },
     "execution_count": 8,
     "metadata": {},
     "output_type": "execute_result"
    }
   ],
   "source": [
    "mapped_roles = {\n",
    "    'ACC (Second half)': 'Anticapture Commission',\n",
    "    'Anticapture Commission Member': 'Anticapture Commission',\n",
    "    'Badgeholder Reviewer': None,\n",
    "    'Code of Conduct Council': 'Code of Conduct',\n",
    "    'Code of Conduct Council Lead': 'Code of Conduct',\n",
    "    'Code of Conduct Council Member': 'Code of Conduct',\n",
    "    'Developer Advisory Board Lead': 'Developer Advisory Board',\n",
    "    'Developer Advisory Board Member': 'Developer Advisory Board',\n",
    "    'Optimism Grants Council Lead': 'Grants Council',\n",
    "    'Optimism Grants Council Member': 'Grants Council',\n",
    "    'Security Council Lead': 'Security Council',\n",
    "    'Security Council Member': 'Security Council',\n",
    "}\n",
    "relevant_gov_council_attestations = []\n",
    "for a in gov_council_attestation_data:\n",
    "    if a['attester'] != '0xE4553b743E74dA3424Ac51f8C1E586fd43aE226F':\n",
    "        continue\n",
    "    if a['govSeason'] not in ['5', '6']:\n",
    "        continue\n",
    "    gov_role = mapped_roles.get(a['govRole'], 'unknown')\n",
    "    if not gov_role:\n",
    "        continue\n",
    "    if gov_role == 'unknown':\n",
    "        print(\"Unknown role:\", a['govRole'])\n",
    "        continue\n",
    "    relevant_gov_council_attestations.append({\n",
    "        'id': a['id'].lower(),\n",
    "        'attester': a['attester'].lower(),\n",
    "        'recipient': a['recipient'].lower(),\n",
    "        'govRole': gov_role,\n",
    "        'timeCreated': datetime.datetime.utcfromtimestamp(a['timeCreated'])\n",
    "    })\n",
    "print(\"Relevant gov council attestations:\", len(relevant_gov_council_attestations))   \n",
    "COUNCILS = list(pd.DataFrame(relevant_gov_council_attestations)['govRole'].unique())\n",
    "COUNCILS"
   ]
  },
  {
   "cell_type": "markdown",
   "id": "b3a30c6d",
   "metadata": {},
   "source": [
    "# Determine approved attestations for RF6"
   ]
  },
  {
   "cell_type": "code",
   "execution_count": 9,
   "id": "f1684da2",
   "metadata": {},
   "outputs": [
    {
     "name": "stdout",
     "output_type": "stream",
     "text": [
      "188\n"
     ]
    }
   ],
   "source": [
    "ATTESTERS = {}\n",
    "for addr in BADGEHOLDERS:\n",
    "    if addr not in ATTESTERS:\n",
    "        ATTESTERS.update({\n",
    "            addr: {\n",
    "                'is_citizen': True,\n",
    "                'is_top_delegate': False,\n",
    "                'governance_membership': set()                \n",
    "            }\n",
    "        })\n",
    "for addr in DELEGATES:\n",
    "    if addr not in ATTESTERS:\n",
    "        ATTESTERS.update({\n",
    "            addr: {\n",
    "                'is_citizen': False,\n",
    "                'is_top_delegate': True,\n",
    "                'governance_membership': set()\n",
    "            }\n",
    "        })\n",
    "    else:\n",
    "        ATTESTERS[addr]['is_top_delegate'] = True\n",
    "\n",
    "for a in relevant_gov_council_attestations:\n",
    "    addr = a['recipient'].lower()\n",
    "    if addr in ATTESTERS:\n",
    "        ATTESTERS[addr]['governance_membership'].add(a['govRole'])  \n",
    "        \n",
    "for addr in ATTESTERS:\n",
    "    ATTESTERS[addr]['governance_membership'] = list(ATTESTERS[addr]['governance_membership'])    \n",
    "\n",
    "print(len(ATTESTERS.keys()))"
   ]
  },
  {
   "cell_type": "markdown",
   "id": "864b9802-3160-4c7f-89fd-f59d1186f6c5",
   "metadata": {},
   "source": [
    "# Create attestations dataframe"
   ]
  },
  {
   "cell_type": "code",
   "execution_count": 10,
   "id": "8d452aac-9e8f-466f-a068-572ce9c76f90",
   "metadata": {},
   "outputs": [],
   "source": [
    "def convert_farcaster(farcaster_id):\n",
    "    return int(farcaster_id['hex'], 16) if farcaster_id else None"
   ]
  },
  {
   "cell_type": "code",
   "execution_count": 11,
   "id": "ff937d48",
   "metadata": {},
   "outputs": [
    {
     "name": "stdout",
     "output_type": "stream",
     "text": [
      "Reviewed impact attestations: 426\n"
     ]
    },
    {
     "data": {
      "text/plain": [
       "status\n",
       "farcaster_not_gov_participant    97\n",
       "unknown_project                  93\n",
       "OK                               85\n",
       "farcaster_has_no_eoa             75\n",
       "unknown_signer                   67\n",
       "missing_metadata                  9\n",
       "Name: count, dtype: int64"
      ]
     },
     "execution_count": 11,
     "metadata": {},
     "output_type": "execute_result"
    }
   ],
   "source": [
    "mgl_attester = '0x7484aABFef9f39464F332e632047983b67571C0a'\n",
    "\n",
    "reviewed_attestations = []\n",
    "relevant_impact_attestations = []\n",
    "for attestation in impact_attestation_data:\n",
    "\n",
    "    a = attestation.copy()\n",
    "    fid = convert_farcaster(a['farcasterID'])\n",
    "    a['farcasterID'] = fid\n",
    "    a['timeCreated'] = datetime.datetime.utcfromtimestamp(a['timeCreated'])\n",
    "    \n",
    "    if a['attester'] != mgl_attester:\n",
    "        a.update({'status': 'unknown_signer'})\n",
    "        reviewed_attestations.append(a)\n",
    "        continue\n",
    "        \n",
    "    if a['projectRegUID'] not in PROJECTS:\n",
    "        a.update({'status': 'unknown_project'})\n",
    "        reviewed_attestations.append(a)\n",
    "        continue\n",
    "\n",
    "    user_addresses = FARCASTER.get(fid, set())\n",
    "    if not len(user_addresses):\n",
    "        a.update({'status': 'farcaster_has_no_eoa'})\n",
    "        reviewed_attestations.append(a)\n",
    "        continue\n",
    "    \n",
    "    linked_addresses = user_addresses.intersection(set(ATTESTERS.keys()))\n",
    "    if not linked_addresses:\n",
    "        a.update({'status': 'farcaster_not_gov_participant'})\n",
    "        reviewed_attestations.append(a)\n",
    "        continue\n",
    "\n",
    "    if len(linked_addresses) > 1:\n",
    "        print(fid)\n",
    "    linked_address = linked_addresses.pop()\n",
    "        \n",
    "    qs = a.get('metadata', {}).get('impactAttestations', [])\n",
    "    if len(qs) < 2:\n",
    "        a.update({'status': 'missing_metadata'})\n",
    "        reviewed_attestations.append(a)\n",
    "        continue\n",
    "    \n",
    "    nps = pmf = None\n",
    "    for q in qs:\n",
    "        val = q.get('value')\n",
    "        if not val:\n",
    "            continue\n",
    "        if q['name'] == 'Likely to Recommend':\n",
    "            nps = val\n",
    "        elif q['name'] == 'Feeling if didnt exist':\n",
    "            pmf = val\n",
    "    \n",
    "    if not (nps or pmf):\n",
    "        a.update({'status': 'missing_scores'})\n",
    "        reviewed_attestations.append(a)\n",
    "        continue\n",
    "\n",
    "    a.update({'status': 'OK'})\n",
    "    reviewed_attestations.append(a)\n",
    "    relevant_impact_attestations.append({\n",
    "        'id': a['id'].lower(),\n",
    "        'attester': a['attester'].lower(),\n",
    "        'recipient': a['recipient'].lower(),\n",
    "        'linkedAddress': linked_address,\n",
    "        'farcasterID': fid,\n",
    "        'projectRegUID': a['projectRegUID'].lower(),\n",
    "        'timeCreated': a['timeCreated'],\n",
    "        'issuer': a['issuer'],\n",
    "        'metadataurl': a['metadataurl'],\n",
    "        'nps_score': pd.to_numeric(nps),\n",
    "        'pmf_score': pd.to_numeric(pmf)\n",
    "    })\n",
    "    \n",
    "df_normalized_attestations = pd.DataFrame(reviewed_attestations)\n",
    "df_normalized_attestations.to_csv(\"data/normalized_attestations.csv\")    \n",
    "print(\"Reviewed impact attestations:\", len(df_normalized_attestations))\n",
    "df_normalized_attestations['status'].value_counts()"
   ]
  },
  {
   "cell_type": "markdown",
   "id": "35247a47-a521-42e7-b061-f9cc22c63b1f",
   "metadata": {},
   "source": [
    "# Implement metrics on relevant attestations"
   ]
  },
  {
   "cell_type": "code",
   "execution_count": 12,
   "id": "a7d4634a-1380-4057-97d4-1e6e205f455c",
   "metadata": {},
   "outputs": [
    {
     "name": "stdout",
     "output_type": "stream",
     "text": [
      "Relevant impact attestations: 85\n"
     ]
    },
    {
     "data": {
      "text/plain": [
       "projectRegUID\n",
       "0xe2247097961708233325f253d676ba2f9d8011147e1bb08e0e50d55894138dc7    6\n",
       "0x98877a3c5f3d5eee496386ae93a23b17f0f51b70b3041b3c8226f98fbeca09ec    5\n",
       "0x51504348243d8e8fa59cf2ba983d9255373e5eb23fe22a0d18c0d36028561ace    4\n",
       "0xdd197ad6aa36b5d3753c1710960b40f1e23e941b6967444afe36860c3f2e288c    4\n",
       "0x6b68c75e9dcd10c64f2b440e47589eb9ef29e17352055816e4f974401eab2358    4\n",
       "0xfb52bbc12284743f2bf1ad88e2b1b5b3b08d88fa1a7414eefd256ee2ad4e6c73    4\n",
       "0x5e6c436e48e56d6d9622ba5d0be0035c314e2b29d2afc8f5f1ee8ac75cd42532    4\n",
       "0x3ecbf66c1b21342b26acb0f7d4c6b8bbbef168ffafff3f425de3503fd8dfa535    3\n",
       "0x1e08897960cdb18df87f253f4e0f047b2edba189ea7403e5448ed2ba443f0013    3\n",
       "0xbb1e4aadda991e93d4ba4630582f222b2c57c0b0d729e29247cf2a3873936808    3\n",
       "0x4d7ac580e10414ef62d024b14ad94ebd1434efacd1fd3f453560b2916f2606d2    3\n",
       "0xa08c7ab7824d147d6cb87ffb4e86cec454a030d48b8c395bad6d64456be3d911    3\n",
       "0x6aa80764b6082947c3b2de86fe12804eb475b0afb719de50b9eed60b86f20535    3\n",
       "0xa8c946244b7b2b556c9a5bba875d7d86f13de7758e6c16c5b8cf15311ccdb8a9    2\n",
       "0xd77daddc2108d9ea5d87b66d2ec5a8dd6265084b2a3e67ec6b94afe2136ee1c9    2\n",
       "0x4d840826049258b3895326fd67680cca25df9543d67859df49b9ff5635b62598    2\n",
       "0x21baeb053d557821f9ad4050e665332b3f086ecb320aa64f5191eab2fcb0bafa    2\n",
       "0xaa4cf223915387f8e0cd66640f86f4f770d0c1edfc4303ce1d596a735747e673    2\n",
       "0x120cdd8e43ae1efbafdf02eda876e1952c05a52870c8d5a8f56d9ec0f79f586d    2\n",
       "0x8d1971ff2cf36055f986399fc91bff2d3bf815d2cff4f169f154fc70035fc193    2\n",
       "0x4a4f522807b32a1e1362a37c868d107f63407947d4efdc4e9ecc94c0fa77db0c    2\n",
       "0x7fe47a283e3af8e94764ce6ce7f861cf0706572978997fbdfdfe7c2072d541d9    2\n",
       "0x7753d360506e1d538e9a4720677595b2b811b3a3e74b81bd54c52ddfaaf51537    2\n",
       "0xf5af54fc0c301d0714cbbba7624a5f82960590b62196780e4aa841f1ce17214b    2\n",
       "0x6ccd260d86dd63ca323df3563561de58e3c6fc04f94b200ae5dbdfc7c625d562    1\n",
       "0xe67bc412f944dcb88d35a3d1ae9ff86834b28ca921b601a12ddde332e5c59e26    1\n",
       "0x75d2e148d485f9d4b6c09410290d095c4d611419a92a4949f123d7524929ba97    1\n",
       "0x223dc0c33e137fd8032a738c7c8d7001cac203ecec3f37cb39e3c4b46f0c0b52    1\n",
       "0xf718cb944a663318db4e425bfb8aeed45b3718e6cf9f665d17962e9d2cb71ef5    1\n",
       "0xd95c5255033f7bfa9edae64d802ada17b638cd8214836565ba5ec7b6a0252fb3    1\n",
       "0xb35c0226e7701f1e9e63caeb56b2e1a8130c41bc651d1aed009cbcda43b387eb    1\n",
       "0xb9d78191b74ed2c934424b7ba8d7fd8505bb5d1b0f989353edab2130bcf19bbc    1\n",
       "0x2e32e115776c29c86d4f82f20109d78964f8886ee735e86a3a049ede6c822099    1\n",
       "0xf173b116c6383d6d7557d633de525a4535543265d800af3d8b15bc224dbab982    1\n",
       "0x5decc7c7bb5ac6448be3408fd18e5c75738725d739711985e2c55026d2fa1391    1\n",
       "0xb877b0180630c87746f9bc03999b5783ac41c7b82f1dbee4f144b186281f7261    1\n",
       "0xddd8fe12e137d98708193e5149c564a8fa308ff576d65e00e28a60a4223b09f5    1\n",
       "0xa20ade372da3150ca8720c7dc096768f273c60d5d9fddd5c82bd0954126009df    1\n",
       "Name: count, dtype: int64"
      ]
     },
     "execution_count": 12,
     "metadata": {},
     "output_type": "execute_result"
    }
   ],
   "source": [
    "df = pd.DataFrame(relevant_impact_attestations)\n",
    "df['is_citizen'] = df.linkedAddress.apply(lambda x: ATTESTERS[x]['is_citizen'])\n",
    "df['is_top_delegate'] = df.linkedAddress.apply(lambda x: ATTESTERS[x]['is_top_delegate'])\n",
    "df['governance_membership'] = df.linkedAddress.apply(lambda x: ATTESTERS[x]['governance_membership'])\n",
    "print(\"Relevant impact attestations:\", len(df))\n",
    "df['projectRegUID'].value_counts()"
   ]
  },
  {
   "cell_type": "code",
   "execution_count": 13,
   "id": "c13238ae",
   "metadata": {},
   "outputs": [],
   "source": [
    "metrics = calculate_metrics(df)\n",
    "\n",
    "with open(\"data/attestation_metrics.json\", \"w\") as f:\n",
    "    json.dump(metrics,f,indent=2)"
   ]
  },
  {
   "cell_type": "markdown",
   "id": "77784ade-22be-43a0-a82e-989bbd720ea7",
   "metadata": {},
   "source": [
    "# Create dummy attestations"
   ]
  },
  {
   "cell_type": "code",
   "execution_count": 30,
   "id": "8162d42c-23f8-44dc-b00f-a33bcaf4167a",
   "metadata": {},
   "outputs": [],
   "source": [
    "import random\n",
    "import numpy as np\n",
    "import secrets\n",
    "\n",
    "class CustomJSONizer(json.JSONEncoder):\n",
    "    def default(self, obj):\n",
    "        return super().encode(bool(obj)) \\\n",
    "            if isinstance(obj, np.bool_) \\\n",
    "            else super().default(obj)"
   ]
  },
  {
   "cell_type": "code",
   "execution_count": 31,
   "id": "99a44f88-8a6b-48d9-a9c7-d526bb9d2d92",
   "metadata": {},
   "outputs": [],
   "source": [
    "NUM_PROJECTS = 30\n",
    "NUM_ATTESTERS = 100\n",
    "NUM_ATTESTATIONS = 1000\n",
    "PMF_SCALE = 3\n",
    "NPS_SCALE = 10\n",
    "\n",
    "\n",
    "projects = {\n",
    "    p: random.random()\n",
    "    for p in random.choices(PROJECTS, k=NUM_PROJECTS)\n",
    "}\n",
    "\n",
    "attesters = {\n",
    "    addr:ATTESTERS[addr]\n",
    "    for addr in random.choices(list(ATTESTERS.keys()), k=NUM_ATTESTERS)\n",
    "}\n",
    "\n",
    "dummy_attestations = []\n",
    "for i in range(NUM_ATTESTATIONS):\n",
    "    random_project = random.choice(list(projects.keys()))\n",
    "    random_attester = random.choice(list(attesters.keys()))\n",
    "    project_impact = projects.get(random_project)\n",
    "    pmf_score = random.randint(int(project_impact*PMF_SCALE), PMF_SCALE)\n",
    "    nps_score = random.randint(int(project_impact*NPS_SCALE), NPS_SCALE)\n",
    "    dummy_attestations.append({\n",
    "        'id': f\"0x{secrets.token_hex(32)}\",\n",
    "        'attester': random_attester,\n",
    "        'projectRegUID': random_project,\n",
    "        'pmf_score': max(1,pmf_score),\n",
    "        'nps_score': max(1,nps_score),\n",
    "        **attesters[random_attester]\n",
    "    })"
   ]
  },
  {
   "cell_type": "code",
   "execution_count": 32,
   "id": "9cd14962-8c25-40d4-a754-7815fba32c86",
   "metadata": {},
   "outputs": [],
   "source": [
    "df_dummy = pd.DataFrame(dummy_attestations)\n",
    "dummy_metrics = calculate_metrics(df_dummy)"
   ]
  },
  {
   "cell_type": "code",
   "execution_count": 33,
   "id": "a18e6de4-b94d-43d5-a668-d972b60c744d",
   "metadata": {},
   "outputs": [],
   "source": [
    "with open(\"data/dummy_metrics_v2.json\", \"w\") as f:\n",
    "    json.dump(dummy_metrics, f, indent=2, cls=CustomJSONizer)"
   ]
  },
  {
   "cell_type": "code",
   "execution_count": null,
   "id": "2dff956b-79ce-4a0f-ab58-1ac192cf2113",
   "metadata": {},
   "outputs": [],
   "source": []
  }
 ],
 "metadata": {
  "kernelspec": {
   "display_name": "Python 3 (ipykernel)",
   "language": "python",
   "name": "python3"
  },
  "language_info": {
   "codemirror_mode": {
    "name": "ipython",
    "version": 3
   },
   "file_extension": ".py",
   "mimetype": "text/x-python",
   "name": "python",
   "nbconvert_exporter": "python",
   "pygments_lexer": "ipython3",
   "version": "3.11.7"
  }
 },
 "nbformat": 4,
 "nbformat_minor": 5
}
