{
 "cells": [
  {
   "cell_type": "markdown",
   "id": "4e3d661c",
   "metadata": {},
   "source": [
    "# RF6 Project Contributors"
   ]
  },
  {
   "cell_type": "code",
   "execution_count": 1,
   "id": "7b36248f",
   "metadata": {},
   "outputs": [],
   "source": [
    "import json\n",
    "import pandas as pd\n",
    "from scripts.agora import agora_api\n",
    "from scripts.farcaster import load_farcaster"
   ]
  },
  {
   "cell_type": "markdown",
   "id": "ced526cd-53e0-4e37-b9cf-6c3e23d6d37f",
   "metadata": {},
   "source": [
    "# Process Farcaster and Badgeholders"
   ]
  },
  {
   "cell_type": "code",
   "execution_count": 2,
   "id": "38837413",
   "metadata": {},
   "outputs": [],
   "source": [
    "#refresh_farcaster()\n",
    "f = load_farcaster()\n",
    "\n",
    "farcaster_users = pd.DataFrame(f)[['fid', 'username']].drop_duplicates().set_index('fid')['username'].to_dict()\n",
    "farcaster_linked_addresses = pd.DataFrame(f)[['fid', 'address']].dropna().groupby('fid')['address'].apply(set).to_dict()\n",
    "farcaster_address_to_id = pd.DataFrame(f)[['fid', 'address']].dropna().set_index('address')['fid'].to_dict()"
   ]
  },
  {
   "cell_type": "code",
   "execution_count": 3,
   "id": "b4f706b5",
   "metadata": {},
   "outputs": [
    {
     "name": "stdout",
     "output_type": "stream",
     "text": [
      "Badgeholder attestations: 305\n"
     ]
    }
   ],
   "source": [
    "def load_json(json_path):\n",
    "    with open(json_path, 'r') as f:\n",
    "        data = json.load(f)\n",
    "    return data\n",
    "\n",
    "badgeholder_attestation_data = load_json('data/attestations/599.json')\n",
    "print(\"Badgeholder attestations:\", len(badgeholder_attestation_data))"
   ]
  },
  {
   "cell_type": "code",
   "execution_count": 4,
   "id": "ff1c8e6b",
   "metadata": {},
   "outputs": [
    {
     "data": {
      "text/html": [
       "<div>\n",
       "<style scoped>\n",
       "    .dataframe tbody tr th:only-of-type {\n",
       "        vertical-align: middle;\n",
       "    }\n",
       "\n",
       "    .dataframe tbody tr th {\n",
       "        vertical-align: top;\n",
       "    }\n",
       "\n",
       "    .dataframe thead th {\n",
       "        text-align: right;\n",
       "    }\n",
       "</style>\n",
       "<table border=\"1\" class=\"dataframe\">\n",
       "  <thead>\n",
       "    <tr style=\"text-align: right;\">\n",
       "      <th></th>\n",
       "      <th>address</th>\n",
       "      <th>farcaster_id</th>\n",
       "      <th>farcaster_username</th>\n",
       "      <th>source</th>\n",
       "    </tr>\n",
       "  </thead>\n",
       "  <tbody>\n",
       "    <tr>\n",
       "      <th>419</th>\n",
       "      <td>0xfb0a98121c3939657e59f835c66cfe20abb0cd4f</td>\n",
       "      <td>233135</td>\n",
       "      <td>krzkaczor</td>\n",
       "      <td>attestation_schema_599</td>\n",
       "    </tr>\n",
       "  </tbody>\n",
       "</table>\n",
       "</div>"
      ],
      "text/plain": [
       "                                        address  farcaster_id  \\\n",
       "419  0xfb0a98121c3939657e59f835c66cfe20abb0cd4f        233135   \n",
       "\n",
       "    farcaster_username                  source  \n",
       "419          krzkaczor  attestation_schema_599  "
      ]
     },
     "execution_count": 4,
     "metadata": {},
     "output_type": "execute_result"
    }
   ],
   "source": [
    "def convert_farcaster(farcaster_id):\n",
    "    return int(farcaster_id['hex'], 16) if farcaster_id else None\n",
    "\n",
    "badgeholders = []\n",
    "\n",
    "for a in badgeholder_attestation_data:\n",
    "    if a['attester'] != '0xE4553b743E74dA3424Ac51f8C1E586fd43aE226F':\n",
    "        continue\n",
    "    if a['voterType'] == 'Guest':\n",
    "        continue\n",
    "\n",
    "    addr = a['recipient'].lower()\n",
    "    fid = convert_farcaster(a['farcasterID'])\n",
    "    username = farcaster_users.get(fid, '')\n",
    "    badgeholders.append({\n",
    "        'address': addr,\n",
    "        'farcaster_id': fid,\n",
    "        'farcaster_username': username,\n",
    "        'source': 'attestation_schema_599'\n",
    "    })\n",
    "    linked_addresses = farcaster_linked_addresses.get(fid, [])\n",
    "    for addr in linked_addresses:\n",
    "        badgeholders.append({\n",
    "            'address': addr.lower(),\n",
    "            'farcaster_id': fid,\n",
    "            'farcaster_username': username,\n",
    "            'source': 'farcaster_linked_address'\n",
    "        })\n",
    "\n",
    "df_badgeholders = pd.DataFrame(badgeholders)\n",
    "badgeholder_fids = set(df_badgeholders['farcaster_id'].unique())\n",
    "df_badgeholders.tail(1)"
   ]
  },
  {
   "cell_type": "code",
   "execution_count": 5,
   "id": "ded05a5e",
   "metadata": {},
   "outputs": [
    {
     "name": "stdout",
     "output_type": "stream",
     "text": [
      "Fetched 100 items, offset now at 100\n",
      "Fetched a total of 142 items from retrofunding/rounds/6/projects.\n"
     ]
    }
   ],
   "source": [
    "rf6_projects = agora_api('retrofunding/rounds/6/projects')"
   ]
  },
  {
   "cell_type": "code",
   "execution_count": 6,
   "id": "35461547-d241-40f9-b777-e0b2e6de1574",
   "metadata": {},
   "outputs": [
    {
     "data": {
      "text/html": [
       "<div>\n",
       "<style scoped>\n",
       "    .dataframe tbody tr th:only-of-type {\n",
       "        vertical-align: middle;\n",
       "    }\n",
       "\n",
       "    .dataframe tbody tr th {\n",
       "        vertical-align: top;\n",
       "    }\n",
       "\n",
       "    .dataframe thead th {\n",
       "        text-align: right;\n",
       "    }\n",
       "</style>\n",
       "<table border=\"1\" class=\"dataframe\">\n",
       "  <thead>\n",
       "    <tr style=\"text-align: right;\">\n",
       "      <th></th>\n",
       "      <th>applicationId</th>\n",
       "      <th>projectId</th>\n",
       "      <th>applicationCategory</th>\n",
       "      <th>organization_name</th>\n",
       "      <th>name</th>\n",
       "      <th>has_github</th>\n",
       "      <th>has_contracts</th>\n",
       "      <th>has_venture_funding</th>\n",
       "      <th>has_revenue</th>\n",
       "      <th>past_grants</th>\n",
       "      <th>past_retrofunding</th>\n",
       "      <th>team_usernames</th>\n",
       "      <th>num_badgeholders</th>\n",
       "    </tr>\n",
       "  </thead>\n",
       "  <tbody>\n",
       "    <tr>\n",
       "      <th>18</th>\n",
       "      <td>0x28d507c6d2707ff3a7cd27232802d151bf429942b505...</td>\n",
       "      <td>0x016368b1434c826732ce14ef749ffc8f22a287e8845e...</td>\n",
       "      <td>GOVERNANCE_ANALYTICS</td>\n",
       "      <td>None</td>\n",
       "      <td>the1opus</td>\n",
       "      <td>False</td>\n",
       "      <td>False</td>\n",
       "      <td>False</td>\n",
       "      <td>False</td>\n",
       "      <td>0.0</td>\n",
       "      <td>0.0</td>\n",
       "      <td>[ecohealing]</td>\n",
       "      <td>0</td>\n",
       "    </tr>\n",
       "  </tbody>\n",
       "</table>\n",
       "</div>"
      ],
      "text/plain": [
       "                                        applicationId  \\\n",
       "18  0x28d507c6d2707ff3a7cd27232802d151bf429942b505...   \n",
       "\n",
       "                                            projectId   applicationCategory  \\\n",
       "18  0x016368b1434c826732ce14ef749ffc8f22a287e8845e...  GOVERNANCE_ANALYTICS   \n",
       "\n",
       "   organization_name      name  has_github  has_contracts  \\\n",
       "18              None  the1opus       False          False   \n",
       "\n",
       "    has_venture_funding  has_revenue  past_grants  past_retrofunding  \\\n",
       "18                False        False          0.0                0.0   \n",
       "\n",
       "   team_usernames  num_badgeholders  \n",
       "18   [ecohealing]                 0  "
      ]
     },
     "execution_count": 6,
     "metadata": {},
     "output_type": "execute_result"
    }
   ],
   "source": [
    "df = pd.DataFrame(rf6_projects)\n",
    "df['organization_name'] = df['organization'].apply(lambda x: x.get('name') if isinstance(x, dict) else None)\n",
    "df['team_fids'] = df['team'].apply(lambda team: [x['fid'] for x in team] if isinstance(team, list) else [])\n",
    "df['num_badgeholders'] = df['team_fids'].apply(lambda x: len(set(x).intersection(badgeholder_fids)))\n",
    "df['team_usernames'] = df['team'].apply(lambda team: [x['username'] for x in team] if isinstance(team, list) else [])\n",
    "df['has_github'] = df['github'].apply(lambda x: len(x)>0)\n",
    "df['has_contracts'] = df['contracts'].apply(lambda x: len(x)>0)\n",
    "df['has_venture_funding'] = df['grantsAndFunding'].apply(lambda x: len(x.get('ventureFunding',[]))>0)\n",
    "df['has_revenue'] = df['grantsAndFunding'].apply(lambda x: len(x.get('revenue',[]))>0)\n",
    "\n",
    "def get_grants(g):\n",
    "    lst = g.get('grants')\n",
    "    total = 0\n",
    "    if lst:\n",
    "        for x in lst:\n",
    "            a = x['amount']\n",
    "            try:\n",
    "                total += pd.to_numeric(a)\n",
    "            except:\n",
    "                a = 0\n",
    "    return total\n",
    "\n",
    "df['past_grants'] = df['grantsAndFunding'].apply(get_grants)\n",
    "df['past_retrofunding'] = df['grantsAndFunding'].apply(lambda rf: sum([pd.to_numeric(x['amount']) for x in rf.get('retroFunding', [{'amount': 0}])]))\n",
    "\n",
    "cols = [\n",
    "    'applicationId', 'projectId', 'applicationCategory', 'organization_name', 'name',\n",
    "    'has_github', 'has_contracts', 'has_venture_funding',\n",
    "    'has_revenue', 'past_grants', 'past_retrofunding', 'team_usernames', 'num_badgeholders'\n",
    "]\n",
    "\n",
    "df_projects = df[cols].sort_values(by=['organization_name', 'name'])\n",
    "df_projects.tail(1)"
   ]
  },
  {
   "cell_type": "code",
   "execution_count": 7,
   "id": "b79d5f5e-25fe-4f5e-ad85-244b1d69c4f1",
   "metadata": {},
   "outputs": [
    {
     "data": {
      "text/html": [
       "<div>\n",
       "<style scoped>\n",
       "    .dataframe tbody tr th:only-of-type {\n",
       "        vertical-align: middle;\n",
       "    }\n",
       "\n",
       "    .dataframe tbody tr th {\n",
       "        vertical-align: top;\n",
       "    }\n",
       "\n",
       "    .dataframe thead th {\n",
       "        text-align: right;\n",
       "    }\n",
       "</style>\n",
       "<table border=\"1\" class=\"dataframe\">\n",
       "  <thead>\n",
       "    <tr style=\"text-align: right;\">\n",
       "      <th></th>\n",
       "      <th>fid</th>\n",
       "      <th>username</th>\n",
       "      <th>organization_name</th>\n",
       "      <th>project_name</th>\n",
       "      <th>project_id</th>\n",
       "      <th>is_badgeholder</th>\n",
       "    </tr>\n",
       "  </thead>\n",
       "  <tbody>\n",
       "    <tr>\n",
       "      <th>123</th>\n",
       "      <td>259525</td>\n",
       "      <td>zulfian666</td>\n",
       "      <td>None</td>\n",
       "      <td>Tadpole</td>\n",
       "      <td>0xe3dc2b3eea3c439d3662eab18bee971125398397a9eb...</td>\n",
       "      <td>False</td>\n",
       "    </tr>\n",
       "  </tbody>\n",
       "</table>\n",
       "</div>"
      ],
      "text/plain": [
       "        fid    username organization_name project_name  \\\n",
       "123  259525  zulfian666              None      Tadpole   \n",
       "\n",
       "                                            project_id  is_badgeholder  \n",
       "123  0xe3dc2b3eea3c439d3662eab18bee971125398397a9eb...           False  "
      ]
     },
     "execution_count": 7,
     "metadata": {},
     "output_type": "execute_result"
    }
   ],
   "source": [
    "users = []\n",
    "for app in rf6_projects:\n",
    "    org = app.get('organization', {})\n",
    "    org_name = org.get('name') if org else None\n",
    "    team = app.get('team')\n",
    "    if not team:\n",
    "        continue\n",
    "    for u in team:\n",
    "        users.append({\n",
    "            'fid': u['fid'],\n",
    "            'username': u['username'],\n",
    "            'organization_name': org_name,            \n",
    "            'project_name': app['name'],\n",
    "            'project_id': app['projectId'],\n",
    "            'is_badgeholder': u['fid'] in badgeholder_fids\n",
    "        })\n",
    "\n",
    "df_users = pd.DataFrame(users).sort_values(by=['username', 'organization_name', 'project_name'])\n",
    "df_users.tail(1)"
   ]
  },
  {
   "cell_type": "code",
   "execution_count": 8,
   "id": "373c0239-3db8-4435-a335-73948ab5c2da",
   "metadata": {},
   "outputs": [],
   "source": [
    "df_projects.to_csv('data/rf6_project_applications.csv', index=0)\n",
    "df_users.to_csv('data/rf6_users_by_project.csv', index=0)"
   ]
  }
 ],
 "metadata": {
  "kernelspec": {
   "display_name": "Python 3 (ipykernel)",
   "language": "python",
   "name": "python3"
  },
  "language_info": {
   "codemirror_mode": {
    "name": "ipython",
    "version": 3
   },
   "file_extension": ".py",
   "mimetype": "text/x-python",
   "name": "python",
   "nbconvert_exporter": "python",
   "pygments_lexer": "ipython3",
   "version": "3.11.7"
  }
 },
 "nbformat": 4,
 "nbformat_minor": 5
}
