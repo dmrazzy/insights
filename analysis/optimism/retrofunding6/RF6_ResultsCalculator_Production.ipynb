{
 "cells": [
  {
   "cell_type": "code",
   "execution_count": 1,
   "id": "51df3609-f53e-43d5-a547-12df0065ad61",
   "metadata": {},
   "outputs": [],
   "source": [
    "from collections import defaultdict\n",
    "import json\n",
    "import numpy as np\n",
    "import pandas as pd\n",
    "import requests\n",
    "\n",
    "from scripts.scorer import scorer\n",
    "from scripts.processing import process_csv_ballots"
   ]
  },
  {
   "cell_type": "markdown",
   "id": "37cbbde8",
   "metadata": {},
   "source": [
    "# 1. Setup and pre-processing"
   ]
  },
  {
   "cell_type": "code",
   "execution_count": 2,
   "id": "72fe006a",
   "metadata": {},
   "outputs": [
    {
     "data": {
      "text/html": [
       "<div>\n",
       "<style scoped>\n",
       "    .dataframe tbody tr th:only-of-type {\n",
       "        vertical-align: middle;\n",
       "    }\n",
       "\n",
       "    .dataframe tbody tr th {\n",
       "        vertical-align: top;\n",
       "    }\n",
       "\n",
       "    .dataframe thead th {\n",
       "        text-align: right;\n",
       "    }\n",
       "</style>\n",
       "<table border=\"1\" class=\"dataframe\">\n",
       "  <thead>\n",
       "    <tr style=\"text-align: right;\">\n",
       "      <th></th>\n",
       "      <th>id</th>\n",
       "      <th>applicationId</th>\n",
       "      <th>projectId</th>\n",
       "      <th>name</th>\n",
       "      <th>organization</th>\n",
       "      <th>applicationCategory</th>\n",
       "    </tr>\n",
       "  </thead>\n",
       "  <tbody>\n",
       "    <tr>\n",
       "      <th>87</th>\n",
       "      <td>0xfff56c5353549a3386322a5dfa17c259c3b6728d94f1...</td>\n",
       "      <td>0xfff56c5353549a3386322a5dfa17c259c3b6728d94f1...</td>\n",
       "      <td>0xd40ddc75030d57f8bad628a6563e33363f2a81ffa5fd...</td>\n",
       "      <td>Optimism Grant analytics: Grant3</td>\n",
       "      <td>OP Grants Tracker</td>\n",
       "      <td>GOVERNANCE_ANALYTICS</td>\n",
       "    </tr>\n",
       "  </tbody>\n",
       "</table>\n",
       "</div>"
      ],
      "text/plain": [
       "                                                   id  \\\n",
       "87  0xfff56c5353549a3386322a5dfa17c259c3b6728d94f1...   \n",
       "\n",
       "                                        applicationId  \\\n",
       "87  0xfff56c5353549a3386322a5dfa17c259c3b6728d94f1...   \n",
       "\n",
       "                                            projectId  \\\n",
       "87  0xd40ddc75030d57f8bad628a6563e33363f2a81ffa5fd...   \n",
       "\n",
       "                                name       organization   applicationCategory  \n",
       "87  Optimism Grant analytics: Grant3  OP Grants Tracker  GOVERNANCE_ANALYTICS  "
      ]
     },
     "execution_count": 2,
     "metadata": {},
     "output_type": "execute_result"
    }
   ],
   "source": [
    "df_projects = pd.read_csv('data/_local/rf6_projects.csv', index_col=0)\n",
    "df_projects.tail(1)"
   ]
  },
  {
   "cell_type": "code",
   "execution_count": 3,
   "id": "a09d93dd",
   "metadata": {},
   "outputs": [],
   "source": [
    "CATEGORIES = df_projects['applicationCategory'].unique()\n",
    "PROJECT_CATEGORIES = df_projects.groupby('applicationCategory')['applicationId'].apply(list).to_dict()"
   ]
  },
  {
   "cell_type": "code",
   "execution_count": 4,
   "id": "4ab554bd-54c2-4d71-a830-09b176bd4814",
   "metadata": {},
   "outputs": [
    {
     "name": "stdout",
     "output_type": "stream",
     "text": [
      "Ballots: 50\n"
     ]
    }
   ],
   "source": [
    "raw_voting_data = process_csv_ballots('data/_local/rf6_votes.csv', project_categories=PROJECT_CATEGORIES)\n",
    "\n",
    "NUM_VOTERS = len(raw_voting_data)\n",
    "print(\"Ballots:\", NUM_VOTERS)"
   ]
  },
  {
   "cell_type": "code",
   "execution_count": 5,
   "id": "35fce79f-8adc-44a0-9f10-650c9c617090",
   "metadata": {},
   "outputs": [
    {
     "name": "stdout",
     "output_type": "stream",
     "text": [
      "Projects: 88\n"
     ]
    }
   ],
   "source": [
    "PROJECTS = list(set([\n",
    "    list(p.keys())[0] for vote in raw_voting_data\n",
    "    for p in vote['project_allocations']\n",
    "]))\n",
    "NUM_PROJECTS = len(PROJECTS)\n",
    "print(\"Projects:\", NUM_PROJECTS)"
   ]
  },
  {
   "cell_type": "markdown",
   "id": "21a65c67",
   "metadata": {},
   "source": [
    "# 2. Calculate median budget totals and category allocations"
   ]
  },
  {
   "cell_type": "code",
   "execution_count": 6,
   "id": "8f51d8c6-9388-45fd-a3dd-0874f083c71a",
   "metadata": {},
   "outputs": [
    {
     "name": "stdout",
     "output_type": "stream",
     "text": [
      "\n",
      "Median Budget: 2,500,000\n",
      "\n",
      "Category: GOVERNANCE_INFRA_AND_TOOLING\n",
      "-----------------\n",
      "Median Allocation: 39.934%\n",
      "Total Projects: 46\n",
      "Check: Sum of Project Allocations Within Category: 100.0%\n",
      "\n",
      "\n",
      "Category: GOVERNANCE_LEADERSHIP\n",
      "-----------------\n",
      "Median Allocation: 29.951%\n",
      "Total Projects: 20\n",
      "Check: Sum of Project Allocations Within Category: 100.0%\n",
      "\n",
      "\n",
      "Category: GOVERNANCE_ANALYTICS\n",
      "-----------------\n",
      "Median Allocation: 30.115%\n",
      "Total Projects: 22\n",
      "Check: Sum of Project Allocations Within Category: 100.0%\n",
      "\n"
     ]
    }
   ],
   "source": [
    "budget_allocation = []\n",
    "category_scores = defaultdict(list)\n",
    "project_scores = defaultdict(lambda: defaultdict(list))\n",
    "for ballot in raw_voting_data:\n",
    "    \n",
    "    budget_allocation.append(ballot['budget'])\n",
    "    assigned_category = ballot['category_assignment']\n",
    "\n",
    "    for category_allocations in ballot['category_allocations']:\n",
    "        category = list(category_allocations.keys())[0]\n",
    "        category_percentage = float(list(category_allocations.values())[0])\n",
    "        category_scores[category].append(category_percentage)\n",
    "\n",
    "    for project_allocations in ballot['project_allocations']:\n",
    "        project = list(project_allocations.keys())[0]\n",
    "        project_percentage = list(project_allocations.values())[0]\n",
    "        if pd.isnull(project_percentage):\n",
    "            continue\n",
    "        project_percentage = float(project_percentage)\n",
    "        project_scores[assigned_category][project].append(project_percentage)\n",
    "\n",
    "# Step 1A. Calculate total funding for the round based on median budget vote\n",
    "median_total_budget = np.median(budget_allocation)\n",
    "print(f\"\\nMedian Budget: {median_total_budget:,.0f}\")\n",
    "\n",
    "# Step 1B. Calculate medians for categories and normalize to weights across categories\n",
    "category_medians = {k: np.median(v)/100 for k, v in category_scores.items()}    \n",
    "category_total = sum(category_medians.values())\n",
    "category_weights = {k: v/category_total for k, v in category_medians.items()}\n",
    "\n",
    "# Step 2. Calculate medians for projects and normalize to weights within a category\n",
    "project_weights = defaultdict(lambda: defaultdict(list))\n",
    "for category, project_dict in project_scores.items():\n",
    "    for project, scores in project_dict.items():\n",
    "        project_weights[category][project] = np.median(scores) / 100\n",
    "    category_subtotal = sum(project_weights[category].values())\n",
    "    for k, v in project_weights[category].items():\n",
    "        project_weights[category][k] = v/category_subtotal \n",
    "\n",
    "# Check the results makes sense\n",
    "\n",
    "for c in CATEGORIES:\n",
    "    print(\"\\nCategory:\", c)\n",
    "    print(\"-----------------\")\n",
    "    print(f\"Median Allocation: {category_weights[c]*100:.3f}%\")\n",
    "    print(\"Total Projects:\", len(project_weights[c]))\n",
    "#     for project in project_weights[c]:\n",
    "#         print(f\"{project}: {project_weights[c][project]*100:,.2f}%\")\n",
    "    print(f\"Check: Sum of Project Allocations Within Category: {sum(project_weights[c].values())*100:.1f}%\\n\")"
   ]
  },
  {
   "cell_type": "markdown",
   "id": "2170a1c7",
   "metadata": {},
   "source": [
    "# 3. Normalize and allocate funding"
   ]
  },
  {
   "cell_type": "code",
   "execution_count": 7,
   "id": "4fd09186-a7c9-4f06-9057-dd79d7e38fac",
   "metadata": {},
   "outputs": [],
   "source": [
    "MIN_CAP = 1_000\n",
    "MAX_CAP_PCT = .125\n",
    "MAX_CAP = median_total_budget * MAX_CAP_PCT"
   ]
  },
  {
   "cell_type": "code",
   "execution_count": 8,
   "id": "08d0fd7f",
   "metadata": {},
   "outputs": [
    {
     "name": "stdout",
     "output_type": "stream",
     "text": [
      "\n",
      "Category: GOVERNANCE_ANALYTICS 0.30115309738930757\n",
      "\n",
      "Category: GOVERNANCE_INFRA_AND_TOOLING 0.3993410872061099\n",
      "\n",
      "Category: GOVERNANCE_LEADERSHIP 0.2995058154045824\n"
     ]
    }
   ],
   "source": [
    "# Step 3. Create an initial series of project funding allocations\n",
    "initial_project_allocations = pd.Series()\n",
    "for category, projects in project_weights.items():\n",
    "    print(\"\\nCategory:\", category, category_weights[category])\n",
    "    for project, score in projects.items():\n",
    "        normalized_score = score * category_weights[category]\n",
    "        #print(f\"{project}: {normalized_score*100:.2f}%\")\n",
    "        initial_project_allocations.loc[project] = normalized_score * median_total_budget"
   ]
  },
  {
   "cell_type": "code",
   "execution_count": 9,
   "id": "3d7e0431-0a88-4e89-9d79-6c01f611dbb7",
   "metadata": {},
   "outputs": [
    {
     "name": "stdout",
     "output_type": "stream",
     "text": [
      "Final Results:\n",
      " - Projects: 88\n",
      " - Voters: 50\n",
      " - Funding Available: 2500000.0\n",
      " - Funding Awarded: 2500000\n"
     ]
    },
    {
     "data": {
      "image/png": "[encoded data removed]",
      "text/plain": [
       "<Figure size 640x480 with 1 Axes>"
      ]
     },
     "metadata": {},
     "output_type": "display_data"
    }
   ],
   "source": [
    "def allocate_funding(project_scores, funding_balance):\n",
    "    \"\"\"\n",
    "    Helper for allocating and redistributing funding balances\n",
    "    \"\"\"\n",
    "    score_balance = project_scores.sum()\n",
    "    allocations = pd.Series()\n",
    "    \n",
    "    for project, score in project_scores.sort_values(ascending=False).items():\n",
    "        uncapped_funding_alloc = score / score_balance * funding_balance\n",
    "        capped_funding_alloc = min(uncapped_funding_alloc, MAX_CAP)\n",
    "        allocations.loc[project] = capped_funding_alloc\n",
    "        funding_balance -= capped_funding_alloc\n",
    "        score_balance -= score\n",
    "\n",
    "    return allocations\n",
    "\n",
    "# Step 4. Implement max cap and redistribute excess\n",
    "capped_allocations = allocate_funding(initial_project_allocations, median_total_budget)\n",
    "\n",
    "# Step 5. Set the funding for projects below the minimum cap to 0\n",
    "capped_allocations.loc[capped_allocations < MIN_CAP] = 0\n",
    "\n",
    "# Step 6. Allocate the remaining funding to projects below the maximum cap\n",
    "max_cap_funding = capped_allocations[capped_allocations == MAX_CAP].sum()\n",
    "remaining_funding = median_total_budget - max_cap_funding\n",
    "remaining_projects = capped_allocations[capped_allocations < MAX_CAP]\n",
    "capped_allocations.update(allocate_funding(remaining_projects, funding_balance=remaining_funding))\n",
    "\n",
    "# Check the results\n",
    "capped_allocations.plot(xticks=[])\n",
    "print(\"Final Results:\")\n",
    "print(\" - Projects:\", NUM_PROJECTS)\n",
    "print(\" - Voters:\", NUM_VOTERS)\n",
    "print(\" - Funding Available:\", median_total_budget)\n",
    "print(\" - Funding Awarded:\", round(capped_allocations.sum()))"
   ]
  },
  {
   "cell_type": "code",
   "execution_count": 10,
   "id": "fd3e28e2",
   "metadata": {},
   "outputs": [],
   "source": [
    "export_data = capped_allocations.copy().rename('rf6Reward').reset_index()\n",
    "export_data.rename(columns={'index': 'projectId'}, inplace=True)\n",
    "pc = {}\n",
    "for c, plist in PROJECT_CATEGORIES.items():\n",
    "    for p in plist:\n",
    "        pc.update({p:c})\n",
    "export_data['category'] = export_data['projectId'].map(pc)\n",
    "\n",
    "(\n",
    "    export_data.set_index('projectId')\n",
    "    .join(df_projects.set_index('applicationId')['name'])\n",
    "    .to_csv('data/_local/rf6_results.csv')\n",
    ")"
   ]
  }
 ],
 "metadata": {
  "kernelspec": {
   "display_name": "Python 3 (ipykernel)",
   "language": "python",
   "name": "python3"
  },
  "language_info": {
   "codemirror_mode": {
    "name": "ipython",
    "version": 3
   },
   "file_extension": ".py",
   "mimetype": "text/x-python",
   "name": "python",
   "nbconvert_exporter": "python",
   "pygments_lexer": "ipython3",
   "version": "3.11.5"
  }
 },
 "nbformat": 4,
 "nbformat_minor": 5
}
