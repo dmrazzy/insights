{
 "cells": [
  {
   "cell_type": "code",
   "execution_count": 1,
   "id": "51df3609-f53e-43d5-a547-12df0065ad61",
   "metadata": {},
   "outputs": [],
   "source": [
    "import pandas as pd\n",
    "\n",
    "from scripts.processing import process_datasets, load_datasets\n",
    "from scripts.scorer import scorer, simulate_scorer"
   ]
  },
  {
   "cell_type": "code",
   "execution_count": 2,
   "id": "ce14822d",
   "metadata": {},
   "outputs": [
    {
     "name": "stdout",
     "output_type": "stream",
     "text": [
      "Voters dataframe length: 178\n",
      "Actual voters length: 138\n",
      "Voters dataframe length after filtering: 138\n",
      "Processing complete.\n"
     ]
    }
   ],
   "source": [
    "process_datasets(\n",
    "    ballots_csv_path='data/_local/rf6_votes.csv',\n",
    "    voters_csv_path='data/_local/rf6_voters.csv',\n",
    "    projects_csv_path='data/_local/rf6_projects.csv',\n",
    "    output_dir='data/_local/clean'\n",
    ")\n",
    "\n",
    "voting_data, df_all_votes, df_voters, df_projects = load_datasets('data/_local/clean')"
   ]
  },
  {
   "cell_type": "code",
   "execution_count": 3,
   "id": "82c282a7-9919-4ae4-8e62-763532412d35",
   "metadata": {},
   "outputs": [
    {
     "name": "stdout",
     "output_type": "stream",
     "text": [
      "\n",
      "Median Budget: 2,400,000\n",
      "\n",
      "Category: GOVERNANCE_INFRA_AND_TOOLING\n",
      "-----------------\n",
      "Median Allocation: 41.891%\n",
      "\n",
      "Category: GOVERNANCE_LEADERSHIP\n",
      "-----------------\n",
      "Median Allocation: 27.961%\n",
      "\n",
      "Category: GOVERNANCE_ANALYTICS\n",
      "-----------------\n",
      "Median Allocation: 30.149%\n"
     ]
    }
   ],
   "source": [
    "all_voters = citizens = (\n",
    "    simulate_scorer(\n",
    "        ballots_data=voting_data,\n",
    "        addresses=list(df_voters.index)\n",
    "    ).join(\n",
    "        df_projects[['name', 'organization', 'category']]\n",
    "    )\n",
    ").to_csv('data/_local/rf6_results_final.csv')"
   ]
  },
  {
   "cell_type": "code",
   "execution_count": 4,
   "id": "aa08390a",
   "metadata": {},
   "outputs": [
    {
     "name": "stdout",
     "output_type": "stream",
     "text": [
      "\n",
      "Median Budget: 2,000,000\n",
      "\n",
      "Category: GOVERNANCE_INFRA_AND_TOOLING\n",
      "-----------------\n",
      "Median Allocation: 50.000%\n",
      "\n",
      "Category: GOVERNANCE_LEADERSHIP\n",
      "-----------------\n",
      "Median Allocation: 25.000%\n",
      "\n",
      "Category: GOVERNANCE_ANALYTICS\n",
      "-----------------\n",
      "Median Allocation: 25.000%\n"
     ]
    }
   ],
   "source": [
    "citizens = (\n",
    "    simulate_scorer(\n",
    "        ballots_data=voting_data,\n",
    "        addresses=list(df_voters[df_voters['is_citizen']==True].index)\n",
    "    ).join(\n",
    "        df_projects[['name', 'organization', 'category']]\n",
    "    )\n",
    ").to_csv('data/_local/rf6_results_guests.csv')"
   ]
  },
  {
   "cell_type": "code",
   "execution_count": 5,
   "id": "3faa7b44",
   "metadata": {},
   "outputs": [
    {
     "name": "stdout",
     "output_type": "stream",
     "text": [
      "\n",
      "Median Budget: 2,500,000\n",
      "\n",
      "Category: GOVERNANCE_INFRA_AND_TOOLING\n",
      "-----------------\n",
      "Median Allocation: 40.070%\n",
      "\n",
      "Category: GOVERNANCE_LEADERSHIP\n",
      "-----------------\n",
      "Median Allocation: 29.840%\n",
      "\n",
      "Category: GOVERNANCE_ANALYTICS\n",
      "-----------------\n",
      "Median Allocation: 30.090%\n"
     ]
    }
   ],
   "source": [
    "guests = (\n",
    "    simulate_scorer(\n",
    "        ballots_data=voting_data,\n",
    "        addresses=list(df_voters[df_voters['is_citizen']==False].index)\n",
    "    ).join(\n",
    "        df_projects[['name', 'organization', 'category']]\n",
    "    )\n",
    ").to_csv('data/_local/rf6_results_guests.csv')"
   ]
  }
 ],
 "metadata": {
  "kernelspec": {
   "display_name": "Python 3 (ipykernel)",
   "language": "python",
   "name": "python3"
  },
  "language_info": {
   "codemirror_mode": {
    "name": "ipython",
    "version": 3
   },
   "file_extension": ".py",
   "mimetype": "text/x-python",
   "name": "python",
   "nbconvert_exporter": "python",
   "pygments_lexer": "ipython3",
   "version": "3.11.7"
  }
 },
 "nbformat": 4,
 "nbformat_minor": 5
}
