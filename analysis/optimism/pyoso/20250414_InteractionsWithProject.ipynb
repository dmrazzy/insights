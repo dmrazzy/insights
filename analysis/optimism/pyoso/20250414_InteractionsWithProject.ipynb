{
 "cells": [
  {
   "cell_type": "code",
   "execution_count": 1,
   "id": "0c80d510-f0ef-480f-a94c-71f72319e6f9",
   "metadata": {},
   "outputs": [],
   "source": [
    "from google.cloud import bigquery\n",
    "from dotenv import load_dotenv\n",
    "import json\n",
    "import os\n",
    "import pandas as pd\n",
    "from pyoso import Client\n",
    "import requests\n",
    "\n",
    "load_dotenv()\n",
    "OSO_API_KEY = os.environ['OSO_API_KEY']\n",
    "AGORA_API_KEY = os.environ['AGORA_API_KEY']\n",
    "GCP_PROJECT = 'opensource-observer'\n",
    "os.environ['GOOGLE_APPLICATION_CREDENTIALS'] = '../../../oso_gcp_credentials.json'\n",
    "\n",
    "client = Client(api_key=OSO_API_KEY)\n",
    "bq_client = bigquery.Client(GCP_PROJECT)"
   ]
  },
  {
   "cell_type": "code",
   "execution_count": 2,
   "id": "941a97ea-f1aa-4ffd-aa07-99b3e79ce559",
   "metadata": {},
   "outputs": [],
   "source": [
    "def stringify(arr):\n",
    "    return \"'\" + \"','\".join(arr) + \"'\""
   ]
  },
  {
   "cell_type": "markdown",
   "id": "01744b1a-5821-44d9-8b03-ba365a7665a6",
   "metadata": {},
   "source": [
    "# Lookup addresses"
   ]
  },
  {
   "cell_type": "code",
   "execution_count": 11,
   "id": "884f280c-e309-418b-ac09-73ad99269ea1",
   "metadata": {},
   "outputs": [
    {
     "name": "stdout",
     "output_type": "stream",
     "text": [
      "100\n"
     ]
    }
   ],
   "source": [
    "def fetch_delegates():\n",
    "    url = 'https://vote.optimism.io/api/v1/delegates'\n",
    "    params = {'limit': 100, 'offset': 0, 'sort': 'most_delegators'}\n",
    "    headers = {\n",
    "        'accept': 'application/json',\n",
    "        'Authorization': f'Bearer {AGORA_API_KEY}'\n",
    "    }\n",
    "    response = requests.get(url, params=params, headers=headers)\n",
    "    if response.status_code == 200:\n",
    "        agora_data = response.json()\n",
    "    else:\n",
    "        print(f\"Request failed with status code: {response.status_code}\")\n",
    "        print(response.text)\n",
    "    return agora_data\n",
    "\n",
    "delegate_result = fetch_delegates()\n",
    "delegates = [x['address'].lower() for x in delegate_result['data']]\n",
    "print(len(delegates))"
   ]
  },
  {
   "cell_type": "code",
   "execution_count": 12,
   "id": "c1814495-10f3-4986-ba97-72b649ca710f",
   "metadata": {},
   "outputs": [
    {
     "name": "stdout",
     "output_type": "stream",
     "text": [
      "132\n"
     ]
    }
   ],
   "source": [
    "bq_result = bq_client.query(f\"SELECT DISTINCT LOWER(address) FROM `{GCP_PROJECT}.op_atlas.badgeholder`\")\n",
    "badgeholders = [x[0] for x in bq_result.result()]\n",
    "print(len(badgeholders))"
   ]
  },
  {
   "cell_type": "code",
   "execution_count": 13,
   "id": "b7fe157a-f3e6-4b7c-9f1e-f6657e675d8b",
   "metadata": {},
   "outputs": [
    {
     "name": "stdout",
     "output_type": "stream",
     "text": [
      "214\n"
     ]
    }
   ],
   "source": [
    "ADDRESSES = list(set(delegates + badgeholders))\n",
    "print(len(ADDRESSES))"
   ]
  },
  {
   "cell_type": "markdown",
   "id": "54e5fdc4-dd04-4487-8e60-571c296a0d7b",
   "metadata": {},
   "source": [
    "# Lookup project users"
   ]
  },
  {
   "cell_type": "code",
   "execution_count": 42,
   "id": "319fab2d-c1d3-4fdb-9e28-10e1c01c8791",
   "metadata": {},
   "outputs": [],
   "source": [
    "df = client.to_pandas(f\"\"\"\n",
    "\n",
    "    WITH filtered_events AS (\n",
    "      SELECT\n",
    "        from_artifact_name,\n",
    "        to_artifact_id\n",
    "      FROM int_events__blockchain\n",
    "      WHERE\n",
    "        time >= DATE '2024-10-01'\n",
    "        AND from_artifact_name IN ({stringify(ADDRESSES)})\n",
    "        AND event_source != 'WORLDCHAIN'\n",
    "    ),\n",
    "    project_users AS (\n",
    "      SELECT\n",
    "        abp.project_id,\n",
    "        COUNT(DISTINCT e.from_artifact_name) AS num_addresses\n",
    "      FROM filtered_events AS e\n",
    "      JOIN artifacts_by_project_v1 AS abp ON e.to_artifact_id = abp.artifact_id\n",
    "      WHERE abp.project_source = 'OP_ATLAS'\n",
    "      GROUP BY 1\n",
    "    ),\n",
    "    worldchain_projects AS (\n",
    "      SELECT\n",
    "          project_id,\n",
    "          COUNT(DISTINCT artifact_id) AS num_addresses\n",
    "      FROM artifacts_by_project_v1\n",
    "      WHERE artifact_source = 'WORLDCHAIN'\n",
    "      GROUP BY 1\n",
    "    )\n",
    "    SELECT\n",
    "      p.project_id AS oso_project_id,\n",
    "      p.project_name AS atlas_project_id,\n",
    "      p.display_name AS project_name,\n",
    "      COALESCE(project_users.num_addresses, 0) AS num_addresses,\n",
    "      COALESCE(worldchain_projects.num_addresses, 0) AS worldchain_addresses\n",
    "    FROM projects_v1 AS p\n",
    "    JOIN projects_by_collection_v1 AS pbc ON p.project_id = pbc.project_id\n",
    "    LEFT JOIN project_users ON p.project_id = project_users.project_id\n",
    "    LEFT JOIN worldchain_projects ON p.project_id = worldchain_projects.project_id\n",
    "    WHERE pbc.collection_name = '8-1'\n",
    "\n",
    "\"\"\")"
   ]
  },
  {
   "cell_type": "code",
   "execution_count": 44,
   "id": "2a5b75d7-8681-454d-9c3e-5e81e57a1378",
   "metadata": {},
   "outputs": [],
   "source": [
    "#df.to_csv(\"interactions_with_project.csv\")"
   ]
  }
 ],
 "metadata": {
  "kernelspec": {
   "display_name": "Python 3 (ipykernel)",
   "language": "python",
   "name": "python3"
  },
  "language_info": {
   "codemirror_mode": {
    "name": "ipython",
    "version": 3
   },
   "file_extension": ".py",
   "mimetype": "text/x-python",
   "name": "python",
   "nbconvert_exporter": "python",
   "pygments_lexer": "ipython3",
   "version": "3.11.7"
  }
 },
 "nbformat": 4,
 "nbformat_minor": 5
}
