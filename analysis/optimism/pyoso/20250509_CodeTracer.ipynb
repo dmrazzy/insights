{
 "cells": [
  {
   "cell_type": "code",
   "execution_count": 1,
   "id": "ea7494be-95dc-492f-ac33-9c1f92e5c01e",
   "metadata": {},
   "outputs": [],
   "source": [
    "from dotenv import load_dotenv\n",
    "import os\n",
    "import pandas as pd\n",
    "from pyoso import Client\n",
    "\n",
    "load_dotenv()\n",
    "OSO_API_KEY = os.environ['OSO_API_KEY']\n",
    "client = Client(api_key=OSO_API_KEY)"
   ]
  },
  {
   "cell_type": "code",
   "execution_count": 2,
   "id": "eb2186d0-64ba-41f0-bfcd-7351c1807e5f",
   "metadata": {},
   "outputs": [],
   "source": [
    "# PARAMS\n",
    "START ='2024-01-01'\n",
    "END   ='2025-04-01'\n",
    "OWNER ='metacraft-labs'\n",
    "REPO  ='codetracer'"
   ]
  },
  {
   "cell_type": "code",
   "execution_count": 3,
   "id": "77a729c8-7e8a-4fc7-9827-54d67950e2ae",
   "metadata": {},
   "outputs": [
    {
     "name": "stdout",
     "output_type": "stream",
     "text": [
      "Found 936 devs with star events to the project.\n",
      "Found up to 861 GitHub orgs with commits from these developers.\n",
      "\n",
      "Found 342 GitHub orgs associated with Optimism Onchain Builders.\n",
      "\n",
      "Found the following connections with Onchain Builders:\n",
      "- lidofinance\n"
     ]
    }
   ],
   "source": [
    "stringify = lambda arr: \"'\" + \"','\".join(arr) + \"'\"\n",
    "\n",
    "df_devs = client.to_pandas(f\"\"\"\n",
    "    SELECT DISTINCT from_artifact_name AS github_user\n",
    "    FROM int_events__github\n",
    "    WHERE\n",
    "      time BETWEEN DATE '{START}' AND DATE '{END}'\n",
    "      AND event_type = 'STARRED'\n",
    "      AND to_artifact_namespace = '{OWNER}'\n",
    "      AND to_artifact_name = '{REPO}'\n",
    "\"\"\")\n",
    "\n",
    "devs_list = df_devs['github_user'].tolist()\n",
    "print(f\"Found {len(devs_list)} devs with star events to the project.\")\n",
    "\n",
    "df_repos = client.to_pandas(f\"\"\"\n",
    "   SELECT\n",
    "    from_artifact_name AS github_user,\n",
    "    to_artifact_namespace AS repo_owner,\n",
    "    SUM(amount) AS num_events\n",
    "  FROM int_events__github\n",
    "  WHERE time BETWEEN DATE '{START}' AND DATE '{END}'\n",
    "    AND event_type = 'COMMIT_CODE'\n",
    "    AND from_artifact_name IN ({stringify(devs_list)})\n",
    "    AND from_artifact_name != to_artifact_namespace\n",
    "    AND to_artifact_namespace != '{OWNER}'\n",
    "  GROUP BY 1,2\n",
    "\"\"\")\n",
    "\n",
    "repo_owners = set(df_repos['repo_owner'].unique())\n",
    "print(f\"\\nFound up to {len(repo_owners)} GitHub orgs with commits from these developers.\")\n",
    "\n",
    "df_op_repos = client.to_pandas(\"\"\"\n",
    "  SELECT DISTINCT artifact_namespace\n",
    "  FROM artifacts_by_project_v1 AS abp\n",
    "  JOIN projects_by_collection_v1 AS pbc ON abp.project_id = pbc.project_id\n",
    "  WHERE collection_name IN ('op-retrofunding-4', '8-2')\n",
    "  AND artifact_source = 'GITHUB'\n",
    "\"\"\")\n",
    "\n",
    "op_repos = set(df_op_repos['artifact_namespace'].to_list())\n",
    "print(f\"\\nFound {len(op_repos)} GitHub orgs associated with Optimism Onchain Builders.\")\n",
    "\n",
    "print(\"\\nFound the following connections with Onchain Builders:\")\n",
    "for p in op_repos.intersection(repo_owners):\n",
    "    print(f\"- {p}\")"
   ]
  }
 ],
 "metadata": {
  "kernelspec": {
   "display_name": "Python 3 (ipykernel)",
   "language": "python",
   "name": "python3"
  },
  "language_info": {
   "codemirror_mode": {
    "name": "ipython",
    "version": 3
   },
   "file_extension": ".py",
   "mimetype": "text/x-python",
   "name": "python",
   "nbconvert_exporter": "python",
   "pygments_lexer": "ipython3",
   "version": "3.11.7"
  }
 },
 "nbformat": 4,
 "nbformat_minor": 5
}
