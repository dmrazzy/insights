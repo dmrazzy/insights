{
 "cells": [
  {
   "cell_type": "code",
   "execution_count": 1,
   "id": "9d69354b-86aa-47f9-a26e-844b7029689b",
   "metadata": {},
   "outputs": [],
   "source": [
    "# ! pip install pyoso"
   ]
  },
  {
   "cell_type": "code",
   "execution_count": 2,
   "id": "12a3f623-57d6-4b3d-ab96-b61a53e61a8d",
   "metadata": {},
   "outputs": [],
   "source": [
    "from dotenv import load_dotenv\n",
    "import os\n",
    "import pandas as pd\n",
    "from pyoso import Client\n",
    "\n",
    "load_dotenv()\n",
    "OSO_API_KEY = os.environ['OSO_API_KEY']\n",
    "client = Client(api_key=OSO_API_KEY)"
   ]
  },
  {
   "cell_type": "code",
   "execution_count": 3,
   "id": "56065db1-c329-4edf-8006-7d9e0611fd04",
   "metadata": {},
   "outputs": [],
   "source": [
    "# Helper function for inserting arrays into queries\n",
    "def stringify(arr):\n",
    "    return \"'\" + \"','\".join(arr) + \"'\""
   ]
  },
  {
   "cell_type": "markdown",
   "id": "8cf8940e-ae59-4bff-baa8-8f0fda6f447e",
   "metadata": {},
   "source": [
    "## Identifying relevant projects"
   ]
  },
  {
   "cell_type": "code",
   "execution_count": 4,
   "id": "e5184f81-e8db-4472-9a2b-8a6dad102283",
   "metadata": {},
   "outputs": [
    {
     "data": {
      "text/html": [
       "<div>\n",
       "<style scoped>\n",
       "    .dataframe tbody tr th:only-of-type {\n",
       "        vertical-align: middle;\n",
       "    }\n",
       "\n",
       "    .dataframe tbody tr th {\n",
       "        vertical-align: top;\n",
       "    }\n",
       "\n",
       "    .dataframe thead th {\n",
       "        text-align: right;\n",
       "    }\n",
       "</style>\n",
       "<table border=\"1\" class=\"dataframe\">\n",
       "  <thead>\n",
       "    <tr style=\"text-align: right;\">\n",
       "      <th></th>\n",
       "      <th>project_id</th>\n",
       "      <th>project_source</th>\n",
       "      <th>display_name</th>\n",
       "      <th>gas_fees</th>\n",
       "    </tr>\n",
       "  </thead>\n",
       "  <tbody>\n",
       "    <tr>\n",
       "      <th>426</th>\n",
       "      <td>MSfDkUunLKtfuMRdZuSxuemESQuIWKFCh1O6ySIEUs8=</td>\n",
       "      <td>OP_ATLAS</td>\n",
       "      <td>Account Abstraction - ERC-4337</td>\n",
       "      <td>3765.825176</td>\n",
       "    </tr>\n",
       "    <tr>\n",
       "      <th>427</th>\n",
       "      <td>1tglFLCPO1i0woe4TW7pBm1iMqrhlWJ1cv2L/5b0VUk=</td>\n",
       "      <td>OSS_DIRECTORY</td>\n",
       "      <td>Infinitism (ERC-4337) - Account Abstraction</td>\n",
       "      <td>3765.825176</td>\n",
       "    </tr>\n",
       "    <tr>\n",
       "      <th>428</th>\n",
       "      <td>Jr4krZ4lp1dMiTRDwmF2R9Hw4mF3rsukcBCM4pnF/fc=</td>\n",
       "      <td>OP_ATLAS</td>\n",
       "      <td>Uniswap on Superchain (Oku)</td>\n",
       "      <td>4107.200642</td>\n",
       "    </tr>\n",
       "    <tr>\n",
       "      <th>429</th>\n",
       "      <td>pWEQHj4IsxU8lx2EDLJpphYaGAvw/yRps3vgTbVCXjQ=</td>\n",
       "      <td>OSS_DIRECTORY</td>\n",
       "      <td>Uniswap</td>\n",
       "      <td>7948.223536</td>\n",
       "    </tr>\n",
       "    <tr>\n",
       "      <th>430</th>\n",
       "      <td>NMwxMeqwLAUieJgJHRyjvE6q/xw/KfE7em6oi9U1aRc=</td>\n",
       "      <td>OSS_DIRECTORY</td>\n",
       "      <td>Xen Crypto</td>\n",
       "      <td>72861.923681</td>\n",
       "    </tr>\n",
       "  </tbody>\n",
       "</table>\n",
       "</div>"
      ],
      "text/plain": [
       "                                       project_id project_source  \\\n",
       "426  MSfDkUunLKtfuMRdZuSxuemESQuIWKFCh1O6ySIEUs8=       OP_ATLAS   \n",
       "427  1tglFLCPO1i0woe4TW7pBm1iMqrhlWJ1cv2L/5b0VUk=  OSS_DIRECTORY   \n",
       "428  Jr4krZ4lp1dMiTRDwmF2R9Hw4mF3rsukcBCM4pnF/fc=       OP_ATLAS   \n",
       "429  pWEQHj4IsxU8lx2EDLJpphYaGAvw/yRps3vgTbVCXjQ=  OSS_DIRECTORY   \n",
       "430  NMwxMeqwLAUieJgJHRyjvE6q/xw/KfE7em6oi9U1aRc=  OSS_DIRECTORY   \n",
       "\n",
       "                                    display_name      gas_fees  \n",
       "426               Account Abstraction - ERC-4337   3765.825176  \n",
       "427  Infinitism (ERC-4337) - Account Abstraction   3765.825176  \n",
       "428                  Uniswap on Superchain (Oku)   4107.200642  \n",
       "429                                      Uniswap   7948.223536  \n",
       "430                                   Xen Crypto  72861.923681  "
      ]
     },
     "execution_count": 4,
     "metadata": {},
     "output_type": "execute_result"
    }
   ],
   "source": [
    "df_projects = client.to_pandas(f\"\"\"\n",
    "WITH cte AS (\n",
    "  SELECT\n",
    "    p.project_id,\n",
    "    p.project_source,\n",
    "    p.display_name,\n",
    "    SUM(CASE WHEN m.display_name = 'Gas Fees' AND m.metric_name LIKE '%biannually' THEN tm.amount ELSE 0 END) AS gas_fees\n",
    "  FROM timeseries_metrics_by_project_v0 AS tm\n",
    "  JOIN metrics_v0 AS m ON m.metric_id = tm.metric_id\n",
    "  JOIN projects_v1 AS p ON p.project_id = tm.project_id\n",
    "  JOIN projects_by_collection_v1 AS pbc ON p.project_id = pbc.project_id\n",
    "  WHERE p.project_source = 'OP_ATLAS' OR pbc.collection_name = 'optimism'\n",
    "  GROUP BY 1,2,3\n",
    ")\n",
    "SELECT * FROM cte\n",
    "WHERE gas_fees > 0.1\n",
    "ORDER BY gas_fees\n",
    "\"\"\")\n",
    "df_projects.tail()"
   ]
  },
  {
   "cell_type": "code",
   "execution_count": 5,
   "id": "9f9c29d4-a27b-4c48-b203-238ec88f6db6",
   "metadata": {},
   "outputs": [
    {
     "data": {
      "text/plain": [
       "431"
      ]
     },
     "execution_count": 5,
     "metadata": {},
     "output_type": "execute_result"
    }
   ],
   "source": [
    "PROJECT_IDS = list(df_projects['project_id'].unique())\n",
    "len(PROJECT_IDS)"
   ]
  },
  {
   "cell_type": "markdown",
   "id": "02b21eb6-0dd1-475e-9625-fcc0232cb06b",
   "metadata": {},
   "source": [
    "## Get repos from these projects"
   ]
  },
  {
   "cell_type": "code",
   "execution_count": 6,
   "id": "c00d0f25-1683-4549-8a17-0cd4331041e3",
   "metadata": {},
   "outputs": [
    {
     "data": {
      "text/html": [
       "<div>\n",
       "<style scoped>\n",
       "    .dataframe tbody tr th:only-of-type {\n",
       "        vertical-align: middle;\n",
       "    }\n",
       "\n",
       "    .dataframe tbody tr th {\n",
       "        vertical-align: top;\n",
       "    }\n",
       "\n",
       "    .dataframe thead th {\n",
       "        text-align: right;\n",
       "    }\n",
       "</style>\n",
       "<table border=\"1\" class=\"dataframe\">\n",
       "  <thead>\n",
       "    <tr style=\"text-align: right;\">\n",
       "      <th></th>\n",
       "      <th>github_org</th>\n",
       "      <th>url</th>\n",
       "      <th>language</th>\n",
       "      <th>is_fork</th>\n",
       "      <th>star_count</th>\n",
       "      <th>updated_at</th>\n",
       "    </tr>\n",
       "  </thead>\n",
       "  <tbody>\n",
       "    <tr>\n",
       "      <th>9574</th>\n",
       "      <td>zkbob</td>\n",
       "      <td>https://github.com/zkbob/load_runner</td>\n",
       "      <td>Rust</td>\n",
       "      <td>False</td>\n",
       "      <td>1</td>\n",
       "      <td>2022-04-15 17:05:08.000 UTC</td>\n",
       "    </tr>\n",
       "    <tr>\n",
       "      <th>9575</th>\n",
       "      <td>zkbob</td>\n",
       "      <td>https://github.com/zkbob/trusted-setup-server</td>\n",
       "      <td></td>\n",
       "      <td>True</td>\n",
       "      <td>0</td>\n",
       "      <td>2022-03-30 16:19:37.000 UTC</td>\n",
       "    </tr>\n",
       "    <tr>\n",
       "      <th>9576</th>\n",
       "      <td>zkbob</td>\n",
       "      <td>https://github.com/zkbob/pool-evm-single-l1</td>\n",
       "      <td>Solidity</td>\n",
       "      <td>True</td>\n",
       "      <td>0</td>\n",
       "      <td>2022-01-10 17:17:45.000 UTC</td>\n",
       "    </tr>\n",
       "    <tr>\n",
       "      <th>9577</th>\n",
       "      <td>zkcodex</td>\n",
       "      <td>https://github.com/zkcodex/zkcodex</td>\n",
       "      <td>JavaScript</td>\n",
       "      <td>False</td>\n",
       "      <td>0</td>\n",
       "      <td>2024-10-09 19:36:10.000 UTC</td>\n",
       "    </tr>\n",
       "    <tr>\n",
       "      <th>9578</th>\n",
       "      <td>zwergdev</td>\n",
       "      <td>https://github.com/zwergdev/whale-bridge</td>\n",
       "      <td>Solidity</td>\n",
       "      <td>False</td>\n",
       "      <td>1</td>\n",
       "      <td>2024-07-01 10:16:30.000 UTC</td>\n",
       "    </tr>\n",
       "  </tbody>\n",
       "</table>\n",
       "</div>"
      ],
      "text/plain": [
       "     github_org                                            url    language  \\\n",
       "9574      zkbob           https://github.com/zkbob/load_runner        Rust   \n",
       "9575      zkbob  https://github.com/zkbob/trusted-setup-server               \n",
       "9576      zkbob    https://github.com/zkbob/pool-evm-single-l1    Solidity   \n",
       "9577    zkcodex             https://github.com/zkcodex/zkcodex  JavaScript   \n",
       "9578   zwergdev       https://github.com/zwergdev/whale-bridge    Solidity   \n",
       "\n",
       "      is_fork  star_count                   updated_at  \n",
       "9574    False           1  2022-04-15 17:05:08.000 UTC  \n",
       "9575     True           0  2022-03-30 16:19:37.000 UTC  \n",
       "9576     True           0  2022-01-10 17:17:45.000 UTC  \n",
       "9577    False           0  2024-10-09 19:36:10.000 UTC  \n",
       "9578    False           1  2024-07-01 10:16:30.000 UTC  "
      ]
     },
     "execution_count": 6,
     "metadata": {},
     "output_type": "execute_result"
    }
   ],
   "source": [
    "df_repos = client.to_pandas(f\"\"\"\n",
    "    SELECT DISTINCT\n",
    "        artifact_namespace AS github_org,\n",
    "        artifact_url AS url,\n",
    "        language,\n",
    "        is_fork,\n",
    "        star_count,\n",
    "        updated_at\n",
    "    FROM repositories_v0\n",
    "    WHERE project_id IN ({stringify(PROJECT_IDS)})\n",
    "    ORDER BY 1 ASC, 6 DESC\n",
    "\"\"\")\n",
    "df_repos.tail()"
   ]
  },
  {
   "cell_type": "code",
   "execution_count": 8,
   "id": "a590ff38-84d5-44d9-9c0b-e0d3e8d39f25",
   "metadata": {},
   "outputs": [],
   "source": [
    "#df_repos.to_csv(\"OnchainBuilderRepos.csv\")"
   ]
  },
  {
   "cell_type": "markdown",
   "id": "eb7e8873-5e41-4d08-88b5-5f76ab53e638",
   "metadata": {},
   "source": [
    "## Identify relevant packages"
   ]
  },
  {
   "cell_type": "code",
   "execution_count": 11,
   "id": "858c7087-92f9-4427-bff1-84c39d9fbaa1",
   "metadata": {},
   "outputs": [
    {
     "data": {
      "text/html": [
       "<div>\n",
       "<style scoped>\n",
       "    .dataframe tbody tr th:only-of-type {\n",
       "        vertical-align: middle;\n",
       "    }\n",
       "\n",
       "    .dataframe tbody tr th {\n",
       "        vertical-align: top;\n",
       "    }\n",
       "\n",
       "    .dataframe thead th {\n",
       "        text-align: right;\n",
       "    }\n",
       "</style>\n",
       "<table border=\"1\" class=\"dataframe\">\n",
       "  <thead>\n",
       "    <tr style=\"text-align: right;\">\n",
       "      <th></th>\n",
       "      <th>repo_owner</th>\n",
       "      <th>repo_name</th>\n",
       "      <th>package_name</th>\n",
       "      <th>package_type</th>\n",
       "    </tr>\n",
       "  </thead>\n",
       "  <tbody>\n",
       "    <tr>\n",
       "      <th>724</th>\n",
       "      <td>wighawag</td>\n",
       "      <td>hardhat-preprocessor</td>\n",
       "      <td>hardhat-preprocessor</td>\n",
       "      <td>NPM</td>\n",
       "    </tr>\n",
       "    <tr>\n",
       "      <th>725</th>\n",
       "      <td>wighawag</td>\n",
       "      <td>named-logs</td>\n",
       "      <td>named-logs</td>\n",
       "      <td>NPM</td>\n",
       "    </tr>\n",
       "    <tr>\n",
       "      <th>726</th>\n",
       "      <td>wighawag</td>\n",
       "      <td>pwag</td>\n",
       "      <td>pwag</td>\n",
       "      <td>NPM</td>\n",
       "    </tr>\n",
       "    <tr>\n",
       "      <th>727</th>\n",
       "      <td>wighawag</td>\n",
       "      <td>transfer-gateway</td>\n",
       "      <td>ethereum-transfer-gateway</td>\n",
       "      <td>NPM</td>\n",
       "    </tr>\n",
       "    <tr>\n",
       "      <th>728</th>\n",
       "      <td>zemse</td>\n",
       "      <td>hardhat-tracer</td>\n",
       "      <td>hardhat-tracer</td>\n",
       "      <td>NPM</td>\n",
       "    </tr>\n",
       "  </tbody>\n",
       "</table>\n",
       "</div>"
      ],
      "text/plain": [
       "    repo_owner             repo_name               package_name package_type\n",
       "724   wighawag  hardhat-preprocessor       hardhat-preprocessor          NPM\n",
       "725   wighawag            named-logs                 named-logs          NPM\n",
       "726   wighawag                  pwag                       pwag          NPM\n",
       "727   wighawag      transfer-gateway  ethereum-transfer-gateway          NPM\n",
       "728      zemse        hardhat-tracer             hardhat-tracer          NPM"
      ]
     },
     "execution_count": 11,
     "metadata": {},
     "output_type": "execute_result"
    }
   ],
   "source": [
    "df_packages = client.to_pandas(f\"\"\"\n",
    "\n",
    "SELECT DISTINCT\n",
    "    po.package_owner_artifact_namespace AS repo_owner,\n",
    "    po.package_owner_artifact_name AS repo_name,\n",
    "    po.package_artifact_name AS package_name,\n",
    "    po.package_artifact_source AS package_type\n",
    "FROM package_owners_v0 AS po\n",
    "JOIN projects_v1 p ON po.package_owner_project_id = p.project_id\n",
    "WHERE p.project_source = 'OP_ATLAS'\n",
    "ORDER BY 1,2\n",
    "\n",
    "\"\"\")\n",
    "\n",
    "df_packages.tail()"
   ]
  },
  {
   "cell_type": "code",
   "execution_count": 12,
   "id": "c14d0947-870a-4781-b347-63807d2eebfd",
   "metadata": {},
   "outputs": [],
   "source": [
    "#df_packages.to_csv('DevtoolingPackages.csv')"
   ]
  }
 ],
 "metadata": {
  "kernelspec": {
   "display_name": "Python 3 (ipykernel)",
   "language": "python",
   "name": "python3"
  },
  "language_info": {
   "codemirror_mode": {
    "name": "ipython",
    "version": 3
   },
   "file_extension": ".py",
   "mimetype": "text/x-python",
   "name": "python",
   "nbconvert_exporter": "python",
   "pygments_lexer": "ipython3",
   "version": "3.11.7"
  }
 },
 "nbformat": 4,
 "nbformat_minor": 5
}
