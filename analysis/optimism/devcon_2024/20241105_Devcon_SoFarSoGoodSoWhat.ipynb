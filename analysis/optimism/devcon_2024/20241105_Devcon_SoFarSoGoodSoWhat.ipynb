{
 "cells": [
  {
   "cell_type": "code",
   "execution_count": 45,
   "id": "e6a3f38f",
   "metadata": {},
   "outputs": [],
   "source": [
    "import clickhouse_connect\n",
    "from dotenv import load_dotenv\n",
    "from google.cloud import bigquery\n",
    "import json\n",
    "import matplotlib.pyplot as plt\n",
    "import pandas as pd\n",
    "import os\n",
    "\n",
    "from scripts.charts import distributions_barchart\n",
    "\n",
    "\n",
    "load_dotenv()\n",
    "os.environ['GOOGLE_APPLICATION_CREDENTIALS'] = '../../../oso_gcp_credentials.json'\n",
    "CLICKHOUSE_HOST = os.environ['CLICKHOUSE_HOST']\n",
    "CLICKHOUSE_USER = os.environ['CLICKHOUSE_USER']\n",
    "CLICKHOUSE_PASS = os.environ['CLICKHOUSE_PASSWORD']\n",
    "\n",
    "GCP_PROJECT = 'opensource-observer'"
   ]
  },
  {
   "cell_type": "code",
   "execution_count": 2,
   "id": "39ebd40c",
   "metadata": {},
   "outputs": [
    {
     "data": {
      "text/html": [
       "<div>\n",
       "<style scoped>\n",
       "    .dataframe tbody tr th:only-of-type {\n",
       "        vertical-align: middle;\n",
       "    }\n",
       "\n",
       "    .dataframe tbody tr th {\n",
       "        vertical-align: top;\n",
       "    }\n",
       "\n",
       "    .dataframe thead th {\n",
       "        text-align: right;\n",
       "    }\n",
       "</style>\n",
       "<table border=\"1\" class=\"dataframe\">\n",
       "  <thead>\n",
       "    <tr style=\"text-align: right;\">\n",
       "      <th></th>\n",
       "      <th>application_name</th>\n",
       "      <th>project_name</th>\n",
       "      <th>round</th>\n",
       "      <th>tokens</th>\n",
       "      <th>amount</th>\n",
       "    </tr>\n",
       "  </thead>\n",
       "  <tbody>\n",
       "    <tr>\n",
       "      <th>1443</th>\n",
       "      <td>Solady</td>\n",
       "      <td>solady-vectorized</td>\n",
       "      <td>5</td>\n",
       "      <td>95072.810791</td>\n",
       "      <td>161623.778345</td>\n",
       "    </tr>\n",
       "  </tbody>\n",
       "</table>\n",
       "</div>"
      ],
      "text/plain": [
       "     application_name       project_name  round        tokens         amount\n",
       "1443           Solady  solady-vectorized      5  95072.810791  161623.778345"
      ]
     },
     "execution_count": 2,
     "metadata": {},
     "output_type": "execute_result"
    }
   ],
   "source": [
    "df_funding = pd.read_csv('../../../../oss-funding/data/funding_data.csv')\n",
    "\n",
    "df_funding = df_funding[df_funding['from_funder_name'] == 'optimism']\n",
    "df_funding = df_funding[df_funding['grant_pool_name'].str.contains('retro')==True]\n",
    "\n",
    "df_funding['metadata'] = df_funding['metadata'].apply(json.loads)\n",
    "df_funding['application_name'] = df_funding['metadata'].apply(lambda x: x.get('application_name'))\n",
    "df_funding['round'] = df_funding['grant_pool_name'].apply(lambda x: int(x[-1]))\n",
    "\n",
    "df_funding['tokens'] = df_funding['metadata'].apply(lambda x: pd.to_numeric(x['token_amount']))\n",
    "df_funding = df_funding[df_funding['tokens'] > 0]\n",
    "\n",
    "df_funding.rename(columns={'to_project_name': 'project_name'}, inplace=True)\n",
    "cols = ['application_name', 'project_name', 'round', 'tokens', 'amount']\n",
    "df_funding = df_funding[cols]\n",
    "\n",
    "df_funding.tail(1)"
   ]
  },
  {
   "cell_type": "code",
   "execution_count": 3,
   "id": "275066fc",
   "metadata": {},
   "outputs": [
    {
     "data": {
      "text/plain": [
       "round\n",
       "2     15.000011\n",
       "3    104.999999\n",
       "4     18.000000\n",
       "5     13.600000\n",
       "Name: amount, dtype: float64"
      ]
     },
     "execution_count": 3,
     "metadata": {},
     "output_type": "execute_result"
    }
   ],
   "source": [
    "df_funding.groupby('round')['amount'].sum() / 1_000_000"
   ]
  },
  {
   "cell_type": "code",
   "execution_count": 4,
   "id": "067ba1a2",
   "metadata": {},
   "outputs": [],
   "source": [
    "cols = [\n",
    "    'name', 'organization', 'round', 'category', 'profileAvatarUrl',\n",
    "    'github', 'contracts', 'grantsAndFunding'\n",
    "]\n",
    "def load_project_json(round_num):\n",
    "    with open(f'data/_local/rf{round_num}_projects.json', 'r') as f:        \n",
    "        rf_data = json.load(f)\n",
    "        df_rf = pd.DataFrame(rf_data).set_index('applicationId')\n",
    "        df_rf['round'] = round_num\n",
    "        if round_num == 4:\n",
    "            df_rf['category'] = df_rf['category'].str.upper()\n",
    "            df_rf['organization'] = df_rf['name']\n",
    "        else:\n",
    "            df_rf['category'] = df_rf['applicationCategory']\n",
    "            df_rf['organization'] = df_rf.apply(\n",
    "                lambda x: x['organization'].get('name') if isinstance(x['organization'], dict) else x['name'],\n",
    "                axis=1\n",
    "            )\n",
    "        return df_rf[cols]\n",
    "    \n",
    "def extract_funding(x, funding_type):\n",
    "    if isinstance(x, dict):\n",
    "        f = x.get(funding_type, [])\n",
    "        if len(f) > 0:\n",
    "            return True\n",
    "        else:\n",
    "            if funding_type == 'retroFunding':\n",
    "                grants = x.get('grants', [])\n",
    "                if len(grants):\n",
    "                    for g in grants:\n",
    "                        if g['grant'] == 'retroFunding':\n",
    "                            return True\n",
    "    return False\n",
    "\n",
    "def get_grant_amounts(x):\n",
    "    funding = 0\n",
    "    if isinstance(x, dict):\n",
    "        grants = x.get('grants', [])\n",
    "        if len(grants):\n",
    "            for g in grants:\n",
    "                if g['grant'] == 'retroFunding':\n",
    "                    continue\n",
    "                try:\n",
    "                    funding += pd.to_numeric(g['amount'])\n",
    "                except:\n",
    "                    continue\n",
    "    return funding\n",
    "\n",
    "def get_githubs(x):\n",
    "    githubs = []\n",
    "    if not isinstance(x, list):\n",
    "        return githubs\n",
    "    for item in x:\n",
    "        if isinstance(item, str):\n",
    "            githubs.append(item.lower())\n",
    "        else:\n",
    "            g = item.get('url')\n",
    "            githubs.append(g.lower())\n",
    "    return githubs    "
   ]
  },
  {
   "cell_type": "code",
   "execution_count": 5,
   "id": "c2667d11",
   "metadata": {},
   "outputs": [
    {
     "data": {
      "text/html": [
       "<div>\n",
       "<style scoped>\n",
       "    .dataframe tbody tr th:only-of-type {\n",
       "        vertical-align: middle;\n",
       "    }\n",
       "\n",
       "    .dataframe tbody tr th {\n",
       "        vertical-align: top;\n",
       "    }\n",
       "\n",
       "    .dataframe thead th {\n",
       "        text-align: right;\n",
       "    }\n",
       "</style>\n",
       "<table border=\"1\" class=\"dataframe\">\n",
       "  <thead>\n",
       "    <tr style=\"text-align: right;\">\n",
       "      <th></th>\n",
       "      <th>name</th>\n",
       "      <th>organization</th>\n",
       "      <th>round</th>\n",
       "      <th>category</th>\n",
       "      <th>profileAvatarUrl</th>\n",
       "      <th>github</th>\n",
       "      <th>contracts</th>\n",
       "      <th>grantsAndFunding</th>\n",
       "      <th>partOfOrganization</th>\n",
       "      <th>hasVentureFunding</th>\n",
       "      <th>hasRevenue</th>\n",
       "      <th>hasRetroFunding</th>\n",
       "      <th>grantAmounts</th>\n",
       "      <th>hasGrants</th>\n",
       "    </tr>\n",
       "  </thead>\n",
       "  <tbody>\n",
       "    <tr>\n",
       "      <th>390</th>\n",
       "      <td>Optimism Grant analytics: Grant3</td>\n",
       "      <td>OP Grants Tracker</td>\n",
       "      <td>6</td>\n",
       "      <td>GOVERNANCE_ANALYTICS</td>\n",
       "      <td>https://storage.googleapis.com/op-atlas/2094ae...</td>\n",
       "      <td>[]</td>\n",
       "      <td>[]</td>\n",
       "      <td>{'ventureFunding': [], 'grants': [], 'revenue'...</td>\n",
       "      <td>False</td>\n",
       "      <td>False</td>\n",
       "      <td>False</td>\n",
       "      <td>True</td>\n",
       "      <td>0.0</td>\n",
       "      <td>False</td>\n",
       "    </tr>\n",
       "  </tbody>\n",
       "</table>\n",
       "</div>"
      ],
      "text/plain": [
       "                                 name       organization  round  \\\n",
       "390  Optimism Grant analytics: Grant3  OP Grants Tracker      6   \n",
       "\n",
       "                 category                                   profileAvatarUrl  \\\n",
       "390  GOVERNANCE_ANALYTICS  https://storage.googleapis.com/op-atlas/2094ae...   \n",
       "\n",
       "    github contracts                                   grantsAndFunding  \\\n",
       "390     []        []  {'ventureFunding': [], 'grants': [], 'revenue'...   \n",
       "\n",
       "     partOfOrganization  hasVentureFunding  hasRevenue  hasRetroFunding  \\\n",
       "390               False              False       False             True   \n",
       "\n",
       "     grantAmounts  hasGrants  \n",
       "390           0.0      False  "
      ]
     },
     "execution_count": 5,
     "metadata": {},
     "output_type": "execute_result"
    }
   ],
   "source": [
    "rounds = [4,5,6]\n",
    "df = pd.concat([load_project_json(r) for r in rounds], axis=0, ignore_index=True)    \n",
    "\n",
    "df['partOfOrganization'] = (df['organization'] == df['name'])   \n",
    "df['hasVentureFunding'] = df['grantsAndFunding'].apply(lambda x: extract_funding(x, 'ventureFunding'))\n",
    "df['hasRevenue'] = df['grantsAndFunding'].apply(lambda x: extract_funding(x, 'revenue'))\n",
    "df['hasRetroFunding'] = df['grantsAndFunding'].apply(lambda x: extract_funding(x, 'retroFunding'))\n",
    "df['grantAmounts'] = df['grantsAndFunding'].apply(get_grant_amounts)\n",
    "df['hasGrants'] = df['grantAmounts'] > 0\n",
    "df['github'] = df['github'].apply(get_githubs)\n",
    "\n",
    "df.tail(1)"
   ]
  },
  {
   "cell_type": "code",
   "execution_count": 6,
   "id": "b7ac0249",
   "metadata": {},
   "outputs": [
    {
     "name": "stdout",
     "output_type": "stream",
     "text": [
      "Total prospective grants:\n"
     ]
    },
    {
     "data": {
      "text/plain": [
       "34468206.31"
      ]
     },
     "execution_count": 6,
     "metadata": {},
     "output_type": "execute_result"
    }
   ],
   "source": [
    "# https://docs.google.com/spreadsheets/d/1Ul8iMTsOFUKUmqz6MK0zpgt8Ki8tFtoWKGlwXj-Op34/edit?gid=769451685#gid=769451685\n",
    "print(\"Total prospective grants:\")\n",
    "(\n",
    "    df.drop_duplicates(subset=['organization', 'grantAmounts'])\n",
    "    .sort_values(by='grantAmounts')\n",
    "    ['grantAmounts'].sum()\n",
    ")"
   ]
  },
  {
   "cell_type": "code",
   "execution_count": 7,
   "id": "453a2f60",
   "metadata": {},
   "outputs": [
    {
     "name": "stdout",
     "output_type": "stream",
     "text": [
      "Projects with revenue:\n"
     ]
    },
    {
     "data": {
      "text/plain": [
       "hasVentureFunding  hasRevenue\n",
       "False              False         171\n",
       "                   True          116\n",
       "True               True           44\n",
       "                   False          20\n",
       "Name: count, dtype: int64"
      ]
     },
     "execution_count": 7,
     "metadata": {},
     "output_type": "execute_result"
    }
   ],
   "source": [
    "print(\"Projects with revenue:\")\n",
    "(\n",
    "    df.drop_duplicates(subset=['organization', 'hasRevenue'])\n",
    "    .groupby('hasVentureFunding')\n",
    "    ['hasRevenue'].value_counts()\n",
    ")"
   ]
  },
  {
   "cell_type": "code",
   "execution_count": 8,
   "id": "7f54ad64",
   "metadata": {},
   "outputs": [
    {
     "name": "stdout",
     "output_type": "stream",
     "text": [
      "Venture capital analysis:\n",
      "\n",
      "hasVentureFunding\n",
      "False    286\n",
      "True      64\n",
      "Name: count, dtype: int64\n",
      "\n",
      "hasVentureFunding\n",
      "False    47046.339630\n",
      "True     23349.664401\n",
      "Name: tokens, dtype: float64\n"
     ]
    }
   ],
   "source": [
    "print(\"Venture capital analysis:\")\n",
    "print()\n",
    "print(\n",
    "    df[['organization', 'hasVentureFunding']]\n",
    "    .drop_duplicates()\n",
    "    ['hasVentureFunding'].value_counts()\n",
    ")\n",
    "print()\n",
    "print(\n",
    "    df.set_index(['name', 'round'])[['hasVentureFunding']]\n",
    "    .join(\n",
    "        df_funding\n",
    "        .rename(columns={'application_name': 'name'})\n",
    "        .set_index(['name', 'round'])[['tokens']]\n",
    "    )\n",
    "    .dropna()\n",
    "    .groupby('hasVentureFunding')['tokens'].median()\n",
    ")"
   ]
  },
  {
   "cell_type": "code",
   "execution_count": 9,
   "id": "a89cd4c5",
   "metadata": {},
   "outputs": [
    {
     "data": {
      "image/png": "[encoded data removed]",
      "text/plain": [
       "<Figure size 3000x900 with 1 Axes>"
      ]
     },
     "metadata": {
      "needs_background": "dark"
     },
     "output_type": "display_data"
    }
   ],
   "source": [
    "distros = df_funding.groupby('project_name')['tokens'].sum().sort_values(ascending=False)\n",
    "\n",
    "f = distributions_barchart(\n",
    "    distros,\n",
    "    title=\"Cumulative Retro Funding distributions to OSS projects (Rounds 2-5)\",\n",
    "    ymax=1000,\n",
    "    ystep=200,\n",
    "    xstep=100\n",
    ")\n",
    "\n",
    "f.set_facecolor('none')"
   ]
  },
  {
   "cell_type": "code",
   "execution_count": 28,
   "id": "d5a63d02",
   "metadata": {},
   "outputs": [
    {
     "data": {
      "text/plain": [
       "<Figure size 3740x1496 with 0 Axes>"
      ]
     },
     "metadata": {},
     "output_type": "display_data"
    }
   ],
   "source": []
  },
  {
   "cell_type": "code",
   "execution_count": null,
   "id": "62006d84",
   "metadata": {},
   "outputs": [],
   "source": []
  },
  {
   "cell_type": "code",
   "execution_count": 10,
   "id": "d254221e",
   "metadata": {},
   "outputs": [],
   "source": [
    "\n",
    "client = bigquery.Client(GCP_PROJECT)"
   ]
  },
  {
   "cell_type": "code",
   "execution_count": 11,
   "id": "face7908",
   "metadata": {},
   "outputs": [],
   "source": [
    "repo_urls = []\n",
    "for glist in df['github']:\n",
    "    repo_urls.extend(glist)\n",
    "repo_urls = list(set(repo_urls))"
   ]
  },
  {
   "cell_type": "code",
   "execution_count": 13,
   "id": "a0327362",
   "metadata": {},
   "outputs": [
    {
     "data": {
      "text/html": [
       "<div>\n",
       "<style scoped>\n",
       "    .dataframe tbody tr th:only-of-type {\n",
       "        vertical-align: middle;\n",
       "    }\n",
       "\n",
       "    .dataframe tbody tr th {\n",
       "        vertical-align: top;\n",
       "    }\n",
       "\n",
       "    .dataframe thead th {\n",
       "        text-align: right;\n",
       "    }\n",
       "</style>\n",
       "<table border=\"1\" class=\"dataframe\">\n",
       "  <thead>\n",
       "    <tr style=\"text-align: right;\">\n",
       "      <th></th>\n",
       "      <th>artifact_id</th>\n",
       "      <th>artifact_namespace</th>\n",
       "      <th>artifact_name</th>\n",
       "      <th>artifact_url</th>\n",
       "      <th>artifact_type</th>\n",
       "      <th>is_fork</th>\n",
       "      <th>fork_count</th>\n",
       "      <th>star_count</th>\n",
       "      <th>language</th>\n",
       "      <th>license_spdx_id</th>\n",
       "      <th>oso_project_id</th>\n",
       "    </tr>\n",
       "  </thead>\n",
       "  <tbody>\n",
       "    <tr>\n",
       "      <th>587</th>\n",
       "      <td>EfQGtZdYoGnJfiBDCPu_UMv8mqjIZ9FWfTcUEpUz-EY=</td>\n",
       "      <td>ethereum-optimism</td>\n",
       "      <td>asterisc</td>\n",
       "      <td>https://github.com/ethereum-optimism/asterisc</td>\n",
       "      <td>REPOSITORY</td>\n",
       "      <td>False</td>\n",
       "      <td>15</td>\n",
       "      <td>99</td>\n",
       "      <td>Go</td>\n",
       "      <td>MIT</td>\n",
       "      <td>89Tit1JWeJvJFw5pp7BjqTlEOvLXRQIw7tgZUI1_pj4=</td>\n",
       "    </tr>\n",
       "  </tbody>\n",
       "</table>\n",
       "</div>"
      ],
      "text/plain": [
       "                                      artifact_id artifact_namespace  \\\n",
       "587  EfQGtZdYoGnJfiBDCPu_UMv8mqjIZ9FWfTcUEpUz-EY=  ethereum-optimism   \n",
       "\n",
       "    artifact_name                                   artifact_url  \\\n",
       "587      asterisc  https://github.com/ethereum-optimism/asterisc   \n",
       "\n",
       "    artifact_type  is_fork  fork_count  star_count language license_spdx_id  \\\n",
       "587    REPOSITORY    False          15          99       Go             MIT   \n",
       "\n",
       "                                   oso_project_id  \n",
       "587  89Tit1JWeJvJFw5pp7BjqTlEOvLXRQIw7tgZUI1_pj4=  "
      ]
     },
     "execution_count": 13,
     "metadata": {},
     "output_type": "execute_result"
    }
   ],
   "source": [
    "repo_urls_str = \"'\" + \"','\".join(repo_urls) + \"'\"\n",
    "repos_query = f\"\"\"\n",
    "    select\n",
    "      abp.artifact_id,\n",
    "      abp.artifact_namespace,\n",
    "      abp.artifact_name,\n",
    "      abp.artifact_url,\n",
    "      abp.artifact_type,\n",
    "      rm.is_fork,\n",
    "      rm.fork_count,\n",
    "      rm.star_count,\n",
    "      rm.language,\n",
    "      rm.license_spdx_id,\n",
    "      abp.project_id as oso_project_id,\n",
    "    from `oso.int_artifacts_in_ossd_by_project` as abp\n",
    "    join `oso.int_repo_metrics_by_project` as rm\n",
    "      on abp.artifact_id = rm.artifact_id\n",
    "    where abp.artifact_url in ({repo_urls_str})\n",
    "\"\"\"\n",
    "repos_query_result = client.query(repos_query)\n",
    "\n",
    "repos_query_result = client.query(repos_query)\n",
    "df_repos = repos_query_result.to_dataframe()\n",
    "df_repos.to_parquet('data/_local/repo_metrics.parquet')\n",
    "\n",
    "df_repos = pd.read_parquet('data/_local/repo_metrics.parquet')\n",
    "df_repos.tail(1)"
   ]
  },
  {
   "cell_type": "code",
   "execution_count": 23,
   "id": "cdd91f05",
   "metadata": {},
   "outputs": [],
   "source": [
    "oso_project_id_str = \"'\" + \"','\".join(df_repos['oso_project_id'].unique()) + \"'\""
   ]
  },
  {
   "cell_type": "code",
   "execution_count": 48,
   "id": "ec8b14c6",
   "metadata": {},
   "outputs": [
    {
     "data": {
      "text/html": [
       "<div>\n",
       "<style scoped>\n",
       "    .dataframe tbody tr th:only-of-type {\n",
       "        vertical-align: middle;\n",
       "    }\n",
       "\n",
       "    .dataframe tbody tr th {\n",
       "        vertical-align: top;\n",
       "    }\n",
       "\n",
       "    .dataframe thead th {\n",
       "        text-align: right;\n",
       "    }\n",
       "</style>\n",
       "<table border=\"1\" class=\"dataframe\">\n",
       "  <thead>\n",
       "    <tr style=\"text-align: right;\">\n",
       "      <th></th>\n",
       "      <th>project_id</th>\n",
       "      <th>sample_date</th>\n",
       "      <th>amount</th>\n",
       "      <th>metric_name</th>\n",
       "    </tr>\n",
       "  </thead>\n",
       "  <tbody>\n",
       "    <tr>\n",
       "      <th>314515</th>\n",
       "      <td>zuKa56R3a-6e4jZZUfd7UOWS66f0hkwUMt8uFboQArk=</td>\n",
       "      <td>2024-10-22</td>\n",
       "      <td>3.0</td>\n",
       "      <td>active_developers_over_30_day</td>\n",
       "    </tr>\n",
       "  </tbody>\n",
       "</table>\n",
       "</div>"
      ],
      "text/plain": [
       "                                          project_id sample_date  amount  \\\n",
       "314515  zuKa56R3a-6e4jZZUfd7UOWS66f0hkwUMt8uFboQArk=  2024-10-22     3.0   \n",
       "\n",
       "                          metric_name  \n",
       "314515  active_developers_over_30_day  "
      ]
     },
     "execution_count": 48,
     "metadata": {},
     "output_type": "execute_result"
    }
   ],
   "source": [
    "client = clickhouse_connect.get_client(\n",
    "    host=CLICKHOUSE_HOST,\n",
    "    user=CLICKHOUSE_USER,\n",
    "    password=CLICKHOUSE_PASS,\n",
    "    secure=True\n",
    ")\n",
    "\n",
    "# results = client.query(f\"\"\"\n",
    "#     select\n",
    "#         project_id,\n",
    "#         sample_date,\n",
    "#         amount,\n",
    "#         metric_name\n",
    "#     from timeseries_metrics_by_project_v0 as t\n",
    "#     join metrics_v0 as m on t.metric_id = m.metric_id\n",
    "#     where\n",
    "#         project_id in ({oso_project_id_str})\n",
    "#         and metric_name in ('full_time_developers_over_30_day', 'active_developers_over_30_day')\n",
    "# \"\"\")\n",
    "# df_timeseries = pd.DataFrame(results.result_set, columns=results.column_names)\n",
    "# df_timeseries.to_parquet('data/_local/timeseries_metrics_by_project.parquet')\n",
    "df_timeseries = pd.read_parquet('data/_local/timeseries_metrics_by_project.parquet')\n",
    "df_timeseries.tail(1)"
   ]
  },
  {
   "cell_type": "code",
   "execution_count": null,
   "id": "b0b68889",
   "metadata": {},
   "outputs": [],
   "source": []
  }
 ],
 "metadata": {
  "kernelspec": {
   "display_name": "Python 3 (ipykernel)",
   "language": "python",
   "name": "python3"
  },
  "language_info": {
   "codemirror_mode": {
    "name": "ipython",
    "version": 3
   },
   "file_extension": ".py",
   "mimetype": "text/x-python",
   "name": "python",
   "nbconvert_exporter": "python",
   "pygments_lexer": "ipython3",
   "version": "3.11.5"
  }
 },
 "nbformat": 4,
 "nbformat_minor": 5
}
