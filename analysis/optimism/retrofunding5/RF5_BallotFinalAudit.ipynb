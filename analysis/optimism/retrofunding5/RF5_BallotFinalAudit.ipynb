{
 "cells": [
  {
   "cell_type": "code",
   "execution_count": 1,
   "id": "d680196a",
   "metadata": {},
   "outputs": [],
   "source": [
    "import pandas as pd\n",
    "from scripts.processing import process_datasets, load_datasets\n",
    "from scripts.rf5_scorer import rf5_scorer, simulate_rf5_scorer"
   ]
  },
  {
   "cell_type": "code",
   "execution_count": 2,
   "id": "1e42c03e",
   "metadata": {},
   "outputs": [
    {
     "name": "stdout",
     "output_type": "stream",
     "text": [
      "Processing complete.\n"
     ]
    }
   ],
   "source": [
    "process_datasets(\n",
    "    categories_path='data/categories.json',\n",
    "    ballots_csv_path='data/_local/rf5_votes_final.csv',\n",
    "    voters_csv_path='data/_local/rf5_voters.csv',\n",
    "    voter_survey_csv_path='data/_local/rf5_survey.csv',\n",
    "    projects_csv_path='data/_local/rf5_projects.csv',\n",
    "    output_dir='data/_local/clean'\n",
    ")\n",
    "voting_data, df_all_votes, df_voters, df_projects = load_datasets('data/_local/clean')"
   ]
  },
  {
   "cell_type": "code",
   "execution_count": 3,
   "id": "cb3c17fd",
   "metadata": {},
   "outputs": [],
   "source": [
    "ballot_summary = []\n",
    "for ballot in voting_data:\n",
    "    ballot_dict = {\n",
    "        'Voter Address': ballot['voter_address'],\n",
    "        'Budget': ballot['budget']\n",
    "    }\n",
    "    for cat in ballot['category_allocations']:\n",
    "        cat_key = list(cat.keys())[0]\n",
    "        cat_val = list(cat.values())[0]\n",
    "        ballot_dict.update({cat_key:cat_val})\n",
    "    ballot_summary.append(ballot_dict)\n",
    "\n",
    "df_summary = pd.DataFrame(ballot_summary)\n",
    "df_summary.to_csv(\"data/_local/exports/rf5_results_voter_breakdown.csv\")"
   ]
  },
  {
   "cell_type": "code",
   "execution_count": 4,
   "id": "5c9572fd",
   "metadata": {},
   "outputs": [],
   "source": [
    "distribution_sims = [\n",
    "    {'data': rf5_scorer(voting_data),\n",
    "     'title': 'Overall distribution'},\n",
    "    {'data': simulate_rf5_scorer(voting_data, df_voters[df_voters['is_expert']].index),\n",
    "     'title': \"Experts' distribution\"},\n",
    "    {'data': simulate_rf5_scorer(voting_data, df_voters[~df_voters['is_expert']].index),\n",
    "     'title': \"Non-experts' distribution\"},\n",
    "]\n",
    "dists = []\n",
    "cols = []\n",
    "for d in distribution_sims:\n",
    "    dists.append(d['data'])\n",
    "    cols.append(d['title'])\n",
    "df_dists = pd.concat(dists, axis=1)    \n",
    "df_dists.columns = cols\n",
    "(\n",
    "    df_projects[['project_display_name', 'project_category']]\n",
    ").join(df_dists).to_csv(\"data/_local/exports/rf5_results_final.csv\")"
   ]
  }
 ],
 "metadata": {
  "kernelspec": {
   "display_name": "Python 3 (ipykernel)",
   "language": "python",
   "name": "python3"
  },
  "language_info": {
   "codemirror_mode": {
    "name": "ipython",
    "version": 3
   },
   "file_extension": ".py",
   "mimetype": "text/x-python",
   "name": "python",
   "nbconvert_exporter": "python",
   "pygments_lexer": "ipython3",
   "version": "3.11.7"
  }
 },
 "nbformat": 4,
 "nbformat_minor": 5
}
