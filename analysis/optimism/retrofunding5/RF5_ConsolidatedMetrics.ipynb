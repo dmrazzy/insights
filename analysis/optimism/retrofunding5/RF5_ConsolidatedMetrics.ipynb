{
 "cells": [
  {
   "cell_type": "code",
   "execution_count": 1,
   "id": "c657e852-b8c3-4100-a485-085b6bf584b9",
   "metadata": {},
   "outputs": [],
   "source": [
    "from google.cloud import bigquery\n",
    "import json\n",
    "import os\n",
    "import pandas as pd"
   ]
  },
  {
   "cell_type": "code",
   "execution_count": 2,
   "id": "f248c94a",
   "metadata": {},
   "outputs": [],
   "source": [
    "# https://docs.opensource.observer/docs/get-started/\n",
    "# add GCP project and credentials here\n",
    "\n",
    "PROJECT = 'opensource-observer'\n",
    "os.environ['GOOGLE_APPLICATION_CREDENTIALS'] = '../../../gcp_credentials.json'\n",
    "client = bigquery.Client()"
   ]
  },
  {
   "cell_type": "markdown",
   "id": "ce0138cf",
   "metadata": {},
   "source": [
    "# Load and process the applications"
   ]
  },
  {
   "cell_type": "code",
   "execution_count": 3,
   "id": "626b7e10-960f-4a7e-ab25-2832d81d02fd",
   "metadata": {},
   "outputs": [
    {
     "name": "stdout",
     "output_type": "stream",
     "text": [
      "148\n"
     ]
    }
   ],
   "source": [
    "applications = json.load(open(\"data/applications.json\"))\n",
    "print(len(applications))"
   ]
  },
  {
   "cell_type": "code",
   "execution_count": 4,
   "id": "f739e636-c7b9-4910-8a5e-4a96d700ff04",
   "metadata": {},
   "outputs": [
    {
     "data": {
      "text/plain": [
       "78"
      ]
     },
     "execution_count": 4,
     "metadata": {},
     "output_type": "execute_result"
    }
   ],
   "source": [
    "approved_apps = pd.read_csv(\"data/approved_applications_labeled.csv\")\n",
    "len(approved_apps)"
   ]
  },
  {
   "cell_type": "code",
   "execution_count": 5,
   "id": "44e2f0d2-7592-40a9-8f40-1ee010cd4703",
   "metadata": {},
   "outputs": [],
   "source": [
    "missing = [\n",
    "    {\n",
    "        'project_name': \"Formal Verification of Optimism's L1 pausability mechanism\",\n",
    "        'attestation_id': '0x64961108e65c1c897e033c5609361839998fbf117c312b211ba7523100c28569',\n",
    "        'project_id': '0x80393c05d524b7a6f7a78b0c141eadf0759642ae8d7e718134318cd2d73d5464',\n",
    "        'application_id': 'unknown',\n",
    "        'category_id': 2,\n",
    "        'repo_url': 'https://github.com/runtimeverification/optimism-ci',\n",
    "        'repo_name': 'optimism-ci',\n",
    "        'repo_owner_and_name': 'runtimeverification/optimism-ci',\n",
    "        'clean_url': 'https://github.com/runtimeverification/optimism-ci'\n",
    "    },\n",
    "    {\n",
    "        'project_name': \"Formal Verification of Optimism's L1 pausability mechanism\",\n",
    "        'attestation_id': '0x64961108e65c1c897e033c5609361839998fbf117c312b211ba7523100c28569',        \n",
    "        'project_id': '0x80393c05d524b7a6f7a78b0c141eadf0759642ae8d7e718134318cd2d73d5464',\n",
    "        'application_id': 'unknown',\n",
    "        'category_id': 2,\n",
    "        'repo_url': 'https://github.com/runtimeverification/_audits_Ethereum-optimism_pausability',\n",
    "        'repo_name': '_audits_ethereum-optimism_pausability',\n",
    "        'repo_owner_and_name': 'runtimeverification/_audits_ethereum-optimism_pausability',\n",
    "        'clean_url': 'https://github.com/runtimeverification/_audits_ethereum-optimism_pausability'\n",
    "    }\n",
    "]"
   ]
  },
  {
   "cell_type": "code",
   "execution_count": 6,
   "id": "3a0640ec-a2cc-434b-bd47-4d2af96577bf",
   "metadata": {},
   "outputs": [
    {
     "name": "stdout",
     "output_type": "stream",
     "text": [
      "Missing applicationId for project at index 6: Formal Verification of Optimism's L1 pausability mechanism.\n",
      "Loaded 109 records        \n",
      "... including 90 repos        \n",
      "... from 79 unique applications.\n",
      "\n",
      "\n"
     ]
    },
    {
     "data": {
      "text/html": [
       "<div>\n",
       "<style scoped>\n",
       "    .dataframe tbody tr th:only-of-type {\n",
       "        vertical-align: middle;\n",
       "    }\n",
       "\n",
       "    .dataframe tbody tr th {\n",
       "        vertical-align: top;\n",
       "    }\n",
       "\n",
       "    .dataframe thead th {\n",
       "        text-align: right;\n",
       "    }\n",
       "</style>\n",
       "<table border=\"1\" class=\"dataframe\">\n",
       "  <thead>\n",
       "    <tr style=\"text-align: right;\">\n",
       "      <th></th>\n",
       "      <th>project_name</th>\n",
       "      <th>attestation_id</th>\n",
       "      <th>project_id</th>\n",
       "      <th>application_id</th>\n",
       "      <th>category_id</th>\n",
       "      <th>repo_url</th>\n",
       "      <th>repo_name</th>\n",
       "      <th>repo_owner_and_name</th>\n",
       "      <th>clean_url</th>\n",
       "    </tr>\n",
       "  </thead>\n",
       "  <tbody>\n",
       "    <tr>\n",
       "      <th>108</th>\n",
       "      <td>Solady</td>\n",
       "      <td>0xd42d5fa61ac3f9488e7b5c5fd24709d9d2b130750a9e...</td>\n",
       "      <td>0x9151666888d0ca532a529be98a50d2eb992988117e20...</td>\n",
       "      <td>d53f8df1-c9dd-49a9-a446-945072af1f6f</td>\n",
       "      <td>2</td>\n",
       "      <td>https://github.com/Vectorized/solady</td>\n",
       "      <td>Solady</td>\n",
       "      <td>vectorized/solady</td>\n",
       "      <td>https://github.com/vectorized/solady</td>\n",
       "    </tr>\n",
       "  </tbody>\n",
       "</table>\n",
       "</div>"
      ],
      "text/plain": [
       "    project_name                                     attestation_id  \\\n",
       "108       Solady  0xd42d5fa61ac3f9488e7b5c5fd24709d9d2b130750a9e...   \n",
       "\n",
       "                                            project_id  \\\n",
       "108  0x9151666888d0ca532a529be98a50d2eb992988117e20...   \n",
       "\n",
       "                           application_id category_id  \\\n",
       "108  d53f8df1-c9dd-49a9-a446-945072af1f6f           2   \n",
       "\n",
       "                                 repo_url repo_name repo_owner_and_name  \\\n",
       "108  https://github.com/Vectorized/solady    Solady   vectorized/solady   \n",
       "\n",
       "                                clean_url  \n",
       "108  https://github.com/vectorized/solady  "
      ]
     },
     "execution_count": 6,
     "metadata": {},
     "output_type": "execute_result"
    }
   ],
   "source": [
    "projects_data = missing.copy()\n",
    "\n",
    "for i,app in enumerate(applications):\n",
    "    project = app.get('project', {})\n",
    "    repos = project.get('repos', [])\n",
    "    project_name = project.get('name')\n",
    "    project_id = project.get('id')\n",
    "    \n",
    "    try:\n",
    "        application_id = app['impactStatementAnswer'][0]['applicationId']\n",
    "        category_id = app['impactStatementAnswer'][0]['impactStatement']['categoryId']\n",
    "    except:\n",
    "        print(f\"Missing applicationId for project at index {i}: {project_name}.\")\n",
    "        continue\n",
    "\n",
    "    if application_id not in approved_apps['application_id'].unique():\n",
    "        continue\n",
    "    \n",
    "    if repos:\n",
    "        for repo in repos:\n",
    "            repo_url = repo.get('url', None)\n",
    "            \n",
    "            # fix one edge case\n",
    "            if repo_url.lower() == 'https://github.com/protocolguild/membership':\n",
    "                repo_url = 'https://github.com/protocolguild/documentation'\n",
    "\n",
    "            projects_data.append({\n",
    "                'project_name': project_name,\n",
    "                'attestation_id': app.get('attestationId'),\n",
    "                'project_id': project_id,\n",
    "                'application_id': application_id,\n",
    "                'category_id': category_id,\n",
    "                'repo_url': repo_url,\n",
    "                'repo_name': repo.get('name', None)                \n",
    "            })\n",
    "    else:\n",
    "        projects_data.append({\n",
    "            'project_name': project_name,\n",
    "            'attestation_id': app.get('attestationId'),            \n",
    "            'project_id': project_id,\n",
    "            'application_id': application_id,\n",
    "            'category_id': category_id,\n",
    "            'repo_url': None,\n",
    "            'repo_name': None            \n",
    "        })\n",
    "\n",
    "df_projects = pd.DataFrame(projects_data)\n",
    "\n",
    "def extract_owner_and_repo(url):\n",
    "    if url and isinstance(url, str):\n",
    "        url = url.lower()\n",
    "        if \"github.com\" in url:\n",
    "            parts = url.split('/')\n",
    "            if len(parts) >= 5:\n",
    "                return f\"{parts[3]}/{parts[4]}\"\n",
    "    return None\n",
    "\n",
    "def clean_repo_url(owner_and_name):\n",
    "    if owner_and_name:\n",
    "        return f\"https://github.com/{owner_and_name}\"\n",
    "\n",
    "df_projects['repo_owner_and_name'] = df_projects['repo_url'].apply(extract_owner_and_repo)\n",
    "df_projects['clean_url'] = df_projects['repo_owner_and_name'].apply(clean_repo_url)\n",
    "\n",
    "project_name_mappings = df_projects.set_index('application_id')['project_name'].to_dict()\n",
    "project_category_mappings = df_projects.set_index('application_id')['category_id'].to_dict()\n",
    "\n",
    "print(f\"Loaded {len(df_projects)} records\\\n",
    "        \\n... including {len(df_projects['clean_url'].dropna().unique())} repos\\\n",
    "        \\n... from {df_projects['project_id'].nunique()} unique applications.\\n\\n\")\n",
    "\n",
    "repo_urls = list(df_projects['clean_url'].dropna().unique())\n",
    "df_projects.tail(1)"
   ]
  },
  {
   "cell_type": "markdown",
   "id": "7c48134f-f30a-4ec4-8f5c-9f761f12a859",
   "metadata": {},
   "source": [
    "# Fetch a snapshot of current repo metrics from OSO"
   ]
  },
  {
   "cell_type": "code",
   "execution_count": 12,
   "id": "5714f8a2-2997-489a-989f-bae5e6dfa766",
   "metadata": {},
   "outputs": [
    {
     "data": {
      "text/html": [
       "<div>\n",
       "<style scoped>\n",
       "    .dataframe tbody tr th:only-of-type {\n",
       "        vertical-align: middle;\n",
       "    }\n",
       "\n",
       "    .dataframe tbody tr th {\n",
       "        vertical-align: top;\n",
       "    }\n",
       "\n",
       "    .dataframe thead th {\n",
       "        text-align: right;\n",
       "    }\n",
       "</style>\n",
       "<table border=\"1\" class=\"dataframe\">\n",
       "  <thead>\n",
       "    <tr style=\"text-align: right;\">\n",
       "      <th></th>\n",
       "      <th>project_name</th>\n",
       "      <th>artifact_id</th>\n",
       "      <th>artifact_namespace</th>\n",
       "      <th>artifact_name</th>\n",
       "      <th>artifact_url</th>\n",
       "      <th>artifact_type</th>\n",
       "      <th>is_fork</th>\n",
       "      <th>fork_count</th>\n",
       "      <th>star_count</th>\n",
       "      <th>language</th>\n",
       "      <th>license_spdx_id</th>\n",
       "      <th>oso_project_id</th>\n",
       "    </tr>\n",
       "  </thead>\n",
       "  <tbody>\n",
       "    <tr>\n",
       "      <th>87</th>\n",
       "      <td>kroma-network</td>\n",
       "      <td>aXbDRz3QGK6qa0CcrBNLAMi1qlw_eVaB-vq06PnT0O4=</td>\n",
       "      <td>kroma-network</td>\n",
       "      <td>kroma</td>\n",
       "      <td>https://github.com/kroma-network/kroma</td>\n",
       "      <td>REPOSITORY</td>\n",
       "      <td>False</td>\n",
       "      <td>82</td>\n",
       "      <td>159</td>\n",
       "      <td>Go</td>\n",
       "      <td>Custom</td>\n",
       "      <td>F8npEwagURJOf7hOCr27eOcUjo9m51wa4KlOH0ZsO9c=</td>\n",
       "    </tr>\n",
       "  </tbody>\n",
       "</table>\n",
       "</div>"
      ],
      "text/plain": [
       "     project_name                                   artifact_id  \\\n",
       "87  kroma-network  aXbDRz3QGK6qa0CcrBNLAMi1qlw_eVaB-vq06PnT0O4=   \n",
       "\n",
       "   artifact_namespace artifact_name                            artifact_url  \\\n",
       "87      kroma-network         kroma  https://github.com/kroma-network/kroma   \n",
       "\n",
       "   artifact_type  is_fork  fork_count  star_count language license_spdx_id  \\\n",
       "87    REPOSITORY    False          82         159       Go          Custom   \n",
       "\n",
       "                                  oso_project_id  \n",
       "87  F8npEwagURJOf7hOCr27eOcUjo9m51wa4KlOH0ZsO9c=  "
      ]
     },
     "execution_count": 12,
     "metadata": {},
     "output_type": "execute_result"
    }
   ],
   "source": [
    "# Get snapshot of repo metrics (taken 2024-09-23)\n",
    "\n",
    "repo_urls_str = \"'\" + \"','\".join(repo_urls) + \"'\"\n",
    "repos_query = f\"\"\"\n",
    "    select\n",
    "      p.project_name,\n",
    "      abp.artifact_id,\n",
    "      abp.artifact_namespace,\n",
    "      abp.artifact_name,\n",
    "      abp.artifact_url,\n",
    "      abp.artifact_type,\n",
    "      rm.is_fork,\n",
    "      rm.fork_count,\n",
    "      rm.star_count,\n",
    "      rm.language,\n",
    "      rm.license_spdx_id,\n",
    "      abp.project_id as oso_project_id,\n",
    "    from `{PROJECT}.oso.int_artifacts_in_ossd_by_project` as abp\n",
    "    join `{PROJECT}.oso.projects_v1` as p\n",
    "      on abp.project_id = p.project_id\n",
    "    join `{PROJECT}.oso.int_repo_metrics_by_project` as rm\n",
    "      on abp.artifact_id = rm.artifact_id\n",
    "    where abp.artifact_url in ({repo_urls_str})\n",
    "\"\"\"\n",
    "repos_query_result = client.query(repos_query)\n",
    "df_repos = repos_query_result.to_dataframe()\n",
    "df_repos['license_spdx_id'] =  df_repos['license_spdx_id'].replace({'NOASSERTION': 'Custom'})\n",
    "df_repos.tail(1)"
   ]
  },
  {
   "cell_type": "code",
   "execution_count": 13,
   "id": "50419adc-cc1a-43c1-a442-38ec65a2b537",
   "metadata": {},
   "outputs": [
    {
     "name": "stdout",
     "output_type": "stream",
     "text": [
      "Ignored repos:\n",
      "https://github.com/jsvisa/retro5\n",
      "https://github.com/richardgreg/op-docs-improvements\n",
      "\n",
      "Indexed repos: 88\n"
     ]
    }
   ],
   "source": [
    "# identify any repos in apps that do not have data\n",
    "print(\"Ignored repos:\")\n",
    "valid_repo_urls = []\n",
    "for repo in repo_urls:\n",
    "    if repo not in df_repos['artifact_url'].unique():\n",
    "        print(repo)\n",
    "    else:\n",
    "        valid_repo_urls.append(repo)\n",
    "\n",
    "print()        \n",
    "print(\"Indexed repos:\",len(valid_repo_urls))        "
   ]
  },
  {
   "cell_type": "code",
   "execution_count": 18,
   "id": "1284ecd5",
   "metadata": {},
   "outputs": [
    {
     "data": {
      "text/html": [
       "<div>\n",
       "<style scoped>\n",
       "    .dataframe tbody tr th:only-of-type {\n",
       "        vertical-align: middle;\n",
       "    }\n",
       "\n",
       "    .dataframe tbody tr th {\n",
       "        vertical-align: top;\n",
       "    }\n",
       "\n",
       "    .dataframe thead th {\n",
       "        text-align: right;\n",
       "    }\n",
       "</style>\n",
       "<table border=\"1\" class=\"dataframe\">\n",
       "  <thead>\n",
       "    <tr style=\"text-align: right;\">\n",
       "      <th></th>\n",
       "      <th>project_name</th>\n",
       "      <th>artifact_id</th>\n",
       "      <th>artifact_namespace</th>\n",
       "      <th>artifact_name</th>\n",
       "      <th>artifact_url</th>\n",
       "      <th>artifact_type</th>\n",
       "      <th>is_fork</th>\n",
       "      <th>fork_count</th>\n",
       "      <th>star_count</th>\n",
       "      <th>language</th>\n",
       "      <th>license_spdx_id</th>\n",
       "      <th>oso_project_id</th>\n",
       "      <th>application_id</th>\n",
       "      <th>attestation_id</th>\n",
       "    </tr>\n",
       "  </thead>\n",
       "  <tbody>\n",
       "    <tr>\n",
       "      <th>87</th>\n",
       "      <td>kroma-network</td>\n",
       "      <td>aXbDRz3QGK6qa0CcrBNLAMi1qlw_eVaB-vq06PnT0O4=</td>\n",
       "      <td>kroma-network</td>\n",
       "      <td>kroma</td>\n",
       "      <td>https://github.com/kroma-network/kroma</td>\n",
       "      <td>REPOSITORY</td>\n",
       "      <td>False</td>\n",
       "      <td>82</td>\n",
       "      <td>159</td>\n",
       "      <td>Go</td>\n",
       "      <td>Custom</td>\n",
       "      <td>F8npEwagURJOf7hOCr27eOcUjo9m51wa4KlOH0ZsO9c=</td>\n",
       "      <td>f29a9466-c088-4314-9f78-0be7034caba2</td>\n",
       "      <td>0x29689510e5add50d929566fcbb78a8f85fac28545928...</td>\n",
       "    </tr>\n",
       "  </tbody>\n",
       "</table>\n",
       "</div>"
      ],
      "text/plain": [
       "     project_name                                   artifact_id  \\\n",
       "87  kroma-network  aXbDRz3QGK6qa0CcrBNLAMi1qlw_eVaB-vq06PnT0O4=   \n",
       "\n",
       "   artifact_namespace artifact_name                            artifact_url  \\\n",
       "87      kroma-network         kroma  https://github.com/kroma-network/kroma   \n",
       "\n",
       "   artifact_type  is_fork  fork_count  star_count language license_spdx_id  \\\n",
       "87    REPOSITORY    False          82         159       Go          Custom   \n",
       "\n",
       "                                  oso_project_id  \\\n",
       "87  F8npEwagURJOf7hOCr27eOcUjo9m51wa4KlOH0ZsO9c=   \n",
       "\n",
       "                          application_id  \\\n",
       "87  f29a9466-c088-4314-9f78-0be7034caba2   \n",
       "\n",
       "                                       attestation_id  \n",
       "87  0x29689510e5add50d929566fcbb78a8f85fac28545928...  "
      ]
     },
     "execution_count": 18,
     "metadata": {},
     "output_type": "execute_result"
    }
   ],
   "source": [
    "repo_app_mapping = (\n",
    "    df_projects[df_projects.clean_url.isin(valid_repo_urls)]\n",
    "    [['clean_url', 'application_id', 'project_id', 'attestation_id']]\n",
    "    .drop_duplicates()\n",
    "    .set_index('clean_url')['application_id']\n",
    "    .to_dict()\n",
    ")\n",
    "\n",
    "project_attestation_mapping = df_projects.set_index('application_id')['attestation_id'].to_dict()\n",
    "\n",
    "df_repos['application_id'] = df_repos['artifact_url'].map(repo_app_mapping)\n",
    "df_repos['attestation_id'] = df_repos['application_id'].map(project_attestation_mapping)\n",
    "\n",
    "artifact_app_mapping = df_repos.set_index('artifact_id')['application_id'].to_dict()\n",
    "artifact_url_mapping = df_repos.set_index('artifact_url')['artifact_id'].to_dict()\n",
    "project_app_mapping = df_repos.set_index('attestation_id')['project_name'].to_dict()\n",
    "\n",
    "df_repos.tail(1)"
   ]
  },
  {
   "cell_type": "code",
   "execution_count": 26,
   "id": "78c96282",
   "metadata": {},
   "outputs": [],
   "source": [
    "with open(\"data/project_attestation_mapping.json\", \"w\") as f:\n",
    "    json.dump(project_app_mapping, f, indent=2)"
   ]
  },
  {
   "cell_type": "markdown",
   "id": "e1ad7e40",
   "metadata": {},
   "source": [
    "# Fetch OSO event data from relevant repos"
   ]
  },
  {
   "cell_type": "code",
   "execution_count": 10,
   "id": "209bac68",
   "metadata": {},
   "outputs": [
    {
     "data": {
      "text/html": [
       "<div>\n",
       "<style scoped>\n",
       "    .dataframe tbody tr th:only-of-type {\n",
       "        vertical-align: middle;\n",
       "    }\n",
       "\n",
       "    .dataframe tbody tr th {\n",
       "        vertical-align: top;\n",
       "    }\n",
       "\n",
       "    .dataframe thead th {\n",
       "        text-align: right;\n",
       "    }\n",
       "</style>\n",
       "<table border=\"1\" class=\"dataframe\">\n",
       "  <thead>\n",
       "    <tr style=\"text-align: right;\">\n",
       "      <th></th>\n",
       "      <th>time</th>\n",
       "      <th>event_type</th>\n",
       "      <th>user</th>\n",
       "      <th>from_artifact_id</th>\n",
       "      <th>to_artifact_id</th>\n",
       "      <th>application_id</th>\n",
       "      <th>bucket_day</th>\n",
       "      <th>amount</th>\n",
       "    </tr>\n",
       "  </thead>\n",
       "  <tbody>\n",
       "    <tr>\n",
       "      <th>955757</th>\n",
       "      <td>2023-08-07 08:19:24+00:00</td>\n",
       "      <td>PULL_REQUEST_REVIEW_COMMENT</td>\n",
       "      <td>thomaseizinger</td>\n",
       "      <td>xOfgF7_wYw1J5fCCwpUuFs53BTw1iXb1wenhuspVXXM=</td>\n",
       "      <td>dxsMNRXWzfg8lMvq0M4bY-NZ5961glN0Q-X64anZ8BI=</td>\n",
       "      <td>4eee1576-c6aa-42c5-ae48-73d72bbbd82c</td>\n",
       "      <td>2023-08-07</td>\n",
       "      <td>1</td>\n",
       "    </tr>\n",
       "  </tbody>\n",
       "</table>\n",
       "</div>"
      ],
      "text/plain": [
       "                            time                   event_type            user  \\\n",
       "955757 2023-08-07 08:19:24+00:00  PULL_REQUEST_REVIEW_COMMENT  thomaseizinger   \n",
       "\n",
       "                                    from_artifact_id  \\\n",
       "955757  xOfgF7_wYw1J5fCCwpUuFs53BTw1iXb1wenhuspVXXM=   \n",
       "\n",
       "                                      to_artifact_id  \\\n",
       "955757  dxsMNRXWzfg8lMvq0M4bY-NZ5961glN0Q-X64anZ8BI=   \n",
       "\n",
       "                              application_id bucket_day  amount  \n",
       "955757  4eee1576-c6aa-42c5-ae48-73d72bbbd82c 2023-08-07       1  "
      ]
     },
     "execution_count": 10,
     "metadata": {},
     "output_type": "execute_result"
    }
   ],
   "source": [
    "# Get all event data (cutoff date of 2024-08-01)\n",
    "\n",
    "artifact_ids = list(artifact_app_mapping.keys())\n",
    "artifact_ids_str = \"'\" + \"','\".join(artifact_ids) + \"'\"\n",
    "\n",
    "CUTOFF = '2024-08-01'\n",
    "\n",
    "events_query = f\"\"\"\n",
    "    select\n",
    "        time,\n",
    "        event_type,\n",
    "        from_artifact_name as user,\n",
    "        from_artifact_id,\n",
    "        to_artifact_id \n",
    "    from `{PROJECT}.oso.int_events`\n",
    "    where\n",
    "        to_artifact_id in ({artifact_ids_str})\n",
    "        and time < '{CUTOFF}'\n",
    "\"\"\"\n",
    "\n",
    "# uncomment everything below if you want live data, otherwise uses local backup\n",
    "\n",
    "# events_query_results = client.query(events_query)\n",
    "# df_events = events_query_results.to_dataframe()\n",
    "\n",
    "# # add application ids\n",
    "# df_events['application_id'] = df_events['to_artifact_id'].map(artifact_app_mapping)\n",
    "\n",
    "# # filter bot activity\n",
    "# bot_list = ['codecov-commenter', 'claassistant', 'googlebot', 'omahs']\n",
    "# github_users = list(df_events['user'].unique())\n",
    "# bots = [x for x in github_users if '[bot]' in x or x in bot_list]\n",
    "# df_events = df_events[df_events['user'].isin(bots) == False]\n",
    "\n",
    "# df_events.to_parquet(\"data/rf5_events.parquet\")\n",
    "df_events = pd.read_parquet(\"data/rf5_events.parquet\")\n",
    "\n",
    "df_events['bucket_day'] = pd.to_datetime(df_events['time'].dt.date)\n",
    "df_events['amount'] = 1\n",
    "df_events.tail(1)"
   ]
  },
  {
   "cell_type": "markdown",
   "id": "b280d884-16d2-4472-bc54-292aa69fdc8b",
   "metadata": {},
   "source": [
    "# Derive consolidated metrics"
   ]
  },
  {
   "cell_type": "markdown",
   "id": "185196b8-a9cf-4760-81c5-80208325c3e5",
   "metadata": {},
   "source": [
    "- How many unique contributors are we rewarding?\n",
    "- How many years in development?\n",
    "- How many forks/stars?"
   ]
  },
  {
   "cell_type": "code",
   "execution_count": 11,
   "id": "98309be6-77fe-4171-a4ef-dd9beb5db03d",
   "metadata": {},
   "outputs": [
    {
     "name": "stdout",
     "output_type": "stream",
     "text": [
      "Forks: 38021\n",
      "Stars: 132856\n"
     ]
    }
   ],
   "source": [
    "print(\"Forks:\", df_repos['fork_count'].sum())\n",
    "print(\"Stars:\", df_repos['star_count'].sum())"
   ]
  },
  {
   "cell_type": "code",
   "execution_count": 12,
   "id": "1de228c5-4220-4d56-80e7-6190f8078700",
   "metadata": {},
   "outputs": [
    {
     "name": "stdout",
     "output_type": "stream",
     "text": [
      "Total years:\n"
     ]
    },
    {
     "data": {
      "text/plain": [
       "194.08333333333348"
      ]
     },
     "execution_count": 12,
     "metadata": {},
     "output_type": "execute_result"
    }
   ],
   "source": [
    "print(\"Total years:\")\n",
    "df_events.groupby('to_artifact_id')['time'].min().apply(lambda x: (2024. + 9/12.) - (x.year + x.month/12.)).sum()"
   ]
  },
  {
   "cell_type": "code",
   "execution_count": 13,
   "id": "289f7195-b36d-4775-8153-0b96ae2dd0fb",
   "metadata": {},
   "outputs": [],
   "source": [
    "dev_event_types = [\n",
    "    'COMMIT_CODE',\n",
    "    #'PULL_REQUEST_OPENED',\n",
    "    #'PULL_REQUEST_REVIEW_COMMENT',\n",
    "    #'ISSUE_OPENED'\n",
    "]\n",
    "\n",
    "contributor_event_types = [\n",
    "    'COMMIT_CODE',\n",
    "    'PULL_REQUEST_OPENED',\n",
    "    'PULL_REQUEST_REVIEW_COMMENT',\n",
    "    'ISSUE_OPENED'\n",
    "]\n",
    "\n",
    "cutoff = '2023-10-01'"
   ]
  },
  {
   "cell_type": "code",
   "execution_count": 14,
   "id": "ca4bc4f0-b864-41a4-83b9-5c434117d2cb",
   "metadata": {},
   "outputs": [
    {
     "name": "stdout",
     "output_type": "stream",
     "text": [
      "Developers (alltime):\n"
     ]
    },
    {
     "data": {
      "text/plain": [
       "566"
      ]
     },
     "execution_count": 14,
     "metadata": {},
     "output_type": "execute_result"
    }
   ],
   "source": [
    "print(\"Developers (alltime):\")\n",
    "(\n",
    "    df_events[df_events['event_type'].isin(dev_event_types)]\n",
    ")['from_artifact_id'].nunique()"
   ]
  },
  {
   "cell_type": "code",
   "execution_count": 15,
   "id": "2c3be011-f61e-469b-8415-c354fb903c37",
   "metadata": {},
   "outputs": [
    {
     "name": "stdout",
     "output_type": "stream",
     "text": [
      "Developers (RF Period):\n"
     ]
    },
    {
     "data": {
      "text/plain": [
       "374"
      ]
     },
     "execution_count": 15,
     "metadata": {},
     "output_type": "execute_result"
    }
   ],
   "source": [
    "print(\"Developers (RF Period):\")\n",
    "(\n",
    "    df_events[\n",
    "        df_events['event_type'].isin(dev_event_types)\n",
    "        & (df_events['time'] >= cutoff)\n",
    "    ]\n",
    ")['from_artifact_id'].nunique()"
   ]
  },
  {
   "cell_type": "code",
   "execution_count": 16,
   "id": "21674353-9fe5-4be7-90d9-b9b6fd652794",
   "metadata": {},
   "outputs": [
    {
     "name": "stdout",
     "output_type": "stream",
     "text": [
      "Contributors (alltime):\n"
     ]
    },
    {
     "data": {
      "text/plain": [
       "11903"
      ]
     },
     "execution_count": 16,
     "metadata": {},
     "output_type": "execute_result"
    }
   ],
   "source": [
    "print(\"Contributors (alltime):\")\n",
    "(\n",
    "    df_events[df_events['event_type'].isin(contributor_event_types)]\n",
    ")['from_artifact_id'].nunique()"
   ]
  },
  {
   "cell_type": "code",
   "execution_count": 17,
   "id": "4619677e-e405-4465-9b26-57279f23a5cf",
   "metadata": {},
   "outputs": [
    {
     "name": "stdout",
     "output_type": "stream",
     "text": [
      "Contributors (RF Period):\n"
     ]
    },
    {
     "data": {
      "text/plain": [
       "2596"
      ]
     },
     "execution_count": 17,
     "metadata": {},
     "output_type": "execute_result"
    }
   ],
   "source": [
    "print(\"Contributors (RF Period):\")\n",
    "(\n",
    "    df_events[\n",
    "        df_events['event_type'].isin(contributor_event_types)\n",
    "        & (df_events['time'] >= cutoff)\n",
    "    ]\n",
    ")['from_artifact_id'].nunique()"
   ]
  },
  {
   "cell_type": "markdown",
   "id": "270bb02a-ab4d-4052-836f-01dcbbe90294",
   "metadata": {},
   "source": [
    "# Generate a collection"
   ]
  },
  {
   "cell_type": "code",
   "execution_count": 18,
   "id": "817629a4-eda0-4e46-b62c-56ee7cf071d8",
   "metadata": {},
   "outputs": [
    {
     "name": "stdout",
     "output_type": "stream",
     "text": [
      "- alt-research\n",
      "- blob-archiver-rs\n",
      "- builderism-rabbitprincess\n",
      "- dappnode\n",
      "- defi-wonderland\n",
      "- eoa-blockchain-labs\n",
      "- erigontech\n",
      "- eth-infinitism-account-abstraction\n",
      "- ethereum-attestation-service\n",
      "- ethereum-miscellania\n",
      "- ethereum-pos-testnet-rzmahmood\n",
      "- ethereumjs\n",
      "- ethpandaops\n",
      "- ethstorage\n",
      "- fe-ethereum\n",
      "- gelato\n",
      "- get-smooth\n",
      "- go-ethereum\n",
      "- grandinetech\n",
      "- hermes-probe-lab\n",
      "- hildr-optimism-java\n",
      "- kroma-network\n",
      "- libp2p\n",
      "- lighthouse-sigp\n",
      "- lodestar-chainsafe\n",
      "- nethermindeth\n",
      "- nimbus-status-im\n",
      "- nodeguardians\n",
      "- op\n",
      "- op-besu-optimism-java\n",
      "- op-stack-deployer-aymen-tirchi\n",
      "- protocol-guild\n",
      "- quic-go\n",
      "- redprint-ratimon\n",
      "- reth-paradigmxyz\n",
      "- revm-bluealloy\n",
      "- roll-op-0xfableorg\n",
      "- runtimeverification\n",
      "- sherlock-protocol\n",
      "- shutter-network\n",
      "- simple-optimism-node-smartcontracts\n",
      "- solady-vectorized\n",
      "- solidity-ethereum\n",
      "- succinctlabs\n",
      "- testinprod-io\n",
      "- the-book-of-optimism-fault-proof-joohhnnn\n",
      "- understanding-optimism-codebase-joohhnnn\n",
      "- upnodedev\n",
      "- vacp2p\n",
      "- vyperlang\n",
      "- zenbiteth\n"
     ]
    }
   ],
   "source": [
    "for p in sorted(df_repos['project_name'].unique()):\n",
    "    print('-',p)"
   ]
  }
 ],
 "metadata": {
  "kernelspec": {
   "display_name": "Python 3 (ipykernel)",
   "language": "python",
   "name": "python3"
  },
  "language_info": {
   "codemirror_mode": {
    "name": "ipython",
    "version": 3
   },
   "file_extension": ".py",
   "mimetype": "text/x-python",
   "name": "python",
   "nbconvert_exporter": "python",
   "pygments_lexer": "ipython3",
   "version": "3.11.5"
  }
 },
 "nbformat": 4,
 "nbformat_minor": 5
}
