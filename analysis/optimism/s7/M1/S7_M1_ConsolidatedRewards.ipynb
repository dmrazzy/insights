{
 "cells": [
  {
   "cell_type": "code",
   "execution_count": 1,
   "id": "71a5d68d-b8a5-4689-b89c-e85f2dcfbe8a",
   "metadata": {},
   "outputs": [],
   "source": [
    "from dotenv import load_dotenv\n",
    "import os\n",
    "import pandas as pd\n",
    "import plotly.express as px\n",
    "from pyoso import Client\n",
    "\n",
    "load_dotenv()\n",
    "OSO_API_KEY = os.environ['OSO_API_KEY']\n",
    "client = Client(api_key=OSO_API_KEY)"
   ]
  },
  {
   "cell_type": "code",
   "execution_count": 2,
   "id": "e3a53e3b-d701-4c1c-a8d1-e6ebc0f00bb9",
   "metadata": {},
   "outputs": [],
   "source": [
    "def stringify(arr):\n",
    "    return \"'\" + \"','\".join(arr) + \"'\""
   ]
  },
  {
   "cell_type": "code",
   "execution_count": 3,
   "id": "e338c99a-e862-4025-882b-1ed7b2298ff8",
   "metadata": {},
   "outputs": [
    {
     "data": {
      "text/html": [
       "<div>\n",
       "<style scoped>\n",
       "    .dataframe tbody tr th:only-of-type {\n",
       "        vertical-align: middle;\n",
       "    }\n",
       "\n",
       "    .dataframe tbody tr th {\n",
       "        vertical-align: top;\n",
       "    }\n",
       "\n",
       "    .dataframe thead th {\n",
       "        text-align: right;\n",
       "    }\n",
       "</style>\n",
       "<table border=\"1\" class=\"dataframe\">\n",
       "  <thead>\n",
       "    <tr style=\"text-align: right;\">\n",
       "      <th></th>\n",
       "      <th>atlas_id</th>\n",
       "      <th>project_name</th>\n",
       "      <th>measurement_end_date</th>\n",
       "      <th>metric</th>\n",
       "      <th>amount</th>\n",
       "    </tr>\n",
       "  </thead>\n",
       "  <tbody>\n",
       "    <tr>\n",
       "      <th>333</th>\n",
       "      <td>0xf8e1a0a465eb42239f0c15651c658cd25e922880a3b5...</td>\n",
       "      <td>Womex</td>\n",
       "      <td>2025-02-28</td>\n",
       "      <td>S7_M1_onchain_builder_reward</td>\n",
       "      <td>0.0</td>\n",
       "    </tr>\n",
       "    <tr>\n",
       "      <th>334</th>\n",
       "      <td>0xc377ed1b705bcc856a628f961f1e7c8ca943e6f3727b...</td>\n",
       "      <td>MerkleTreeJS</td>\n",
       "      <td>2025-02-28</td>\n",
       "      <td>S7_M1_devtooling_reward</td>\n",
       "      <td>32182.15</td>\n",
       "    </tr>\n",
       "    <tr>\n",
       "      <th>335</th>\n",
       "      <td>0x8c0365628d69981ac162a89f2b391cc4adfd224e9a42...</td>\n",
       "      <td>SuperUI - UI for Supersim</td>\n",
       "      <td>2025-02-28</td>\n",
       "      <td>S7_M1_devtooling_reward</td>\n",
       "      <td>&lt;NA&gt;</td>\n",
       "    </tr>\n",
       "    <tr>\n",
       "      <th>336</th>\n",
       "      <td>0xe8833ceee8beb2b3fb0f7f2dcef576f6f9cf20e35d8e...</td>\n",
       "      <td>SOCKET protocol</td>\n",
       "      <td>2025-02-28</td>\n",
       "      <td>S7_M1_onchain_builder_reward</td>\n",
       "      <td>17568.17</td>\n",
       "    </tr>\n",
       "    <tr>\n",
       "      <th>337</th>\n",
       "      <td>0xf173b116c6383d6d7557d633de525a4535543265d800...</td>\n",
       "      <td>FrameMaker</td>\n",
       "      <td>2025-02-28</td>\n",
       "      <td>S7_M1_devtooling_reward</td>\n",
       "      <td>&lt;NA&gt;</td>\n",
       "    </tr>\n",
       "  </tbody>\n",
       "</table>\n",
       "</div>"
      ],
      "text/plain": [
       "                                              atlas_id  \\\n",
       "333  0xf8e1a0a465eb42239f0c15651c658cd25e922880a3b5...   \n",
       "334  0xc377ed1b705bcc856a628f961f1e7c8ca943e6f3727b...   \n",
       "335  0x8c0365628d69981ac162a89f2b391cc4adfd224e9a42...   \n",
       "336  0xe8833ceee8beb2b3fb0f7f2dcef576f6f9cf20e35d8e...   \n",
       "337  0xf173b116c6383d6d7557d633de525a4535543265d800...   \n",
       "\n",
       "                  project_name measurement_end_date  \\\n",
       "333                      Womex           2025-02-28   \n",
       "334               MerkleTreeJS           2025-02-28   \n",
       "335  SuperUI - UI for Supersim           2025-02-28   \n",
       "336            SOCKET protocol           2025-02-28   \n",
       "337                 FrameMaker           2025-02-28   \n",
       "\n",
       "                           metric    amount  \n",
       "333  S7_M1_onchain_builder_reward       0.0  \n",
       "334       S7_M1_devtooling_reward  32182.15  \n",
       "335       S7_M1_devtooling_reward      <NA>  \n",
       "336  S7_M1_onchain_builder_reward  17568.17  \n",
       "337       S7_M1_devtooling_reward      <NA>  "
      ]
     },
     "execution_count": 3,
     "metadata": {},
     "output_type": "execute_result"
    }
   ],
   "source": [
    "results = client.to_pandas(\"\"\"\n",
    "\n",
    "SELECT\n",
    "    r.project_name AS atlas_id,\n",
    "    p.display_name AS project_name,\n",
    "    r.sample_date AS measurement_end_date,\n",
    "    r.metric,\n",
    "    r.amount\n",
    "FROM int_superchain_s7_m1_rewards AS r\n",
    "JOIN projects_v1 AS p ON r.project_id = p.project_id\n",
    "\n",
    "\"\"\")\n",
    "\n",
    "results.tail()"
   ]
  },
  {
   "cell_type": "code",
   "execution_count": 4,
   "id": "8a0c8368-f75e-478a-aff4-8fbe8dd59383",
   "metadata": {},
   "outputs": [],
   "source": [
    "results.to_csv(\"m1_consolidated_rewards.csv\", index=False)"
   ]
  }
 ],
 "metadata": {
  "kernelspec": {
   "display_name": "Python 3 (ipykernel)",
   "language": "python",
   "name": "python3"
  },
  "language_info": {
   "codemirror_mode": {
    "name": "ipython",
    "version": 3
   },
   "file_extension": ".py",
   "mimetype": "text/x-python",
   "name": "python",
   "nbconvert_exporter": "python",
   "pygments_lexer": "ipython3",
   "version": "3.11.7"
  }
 },
 "nbformat": 4,
 "nbformat_minor": 5
}
