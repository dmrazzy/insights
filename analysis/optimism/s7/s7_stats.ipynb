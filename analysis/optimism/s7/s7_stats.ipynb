{
 "cells": [
  {
   "cell_type": "code",
   "execution_count": 2,
   "id": "b5ea5fc7-370d-4959-a700-42ec8742be34",
   "metadata": {},
   "outputs": [],
   "source": [
    "from google.cloud import bigquery\n",
    "import pandas as pd\n",
    "import os"
   ]
  },
  {
   "cell_type": "code",
   "execution_count": 3,
   "id": "871ee45c-098d-4bd0-b180-1068d31f0946",
   "metadata": {},
   "outputs": [],
   "source": [
    "os.environ['GOOGLE_APPLICATION_CREDENTIALS'] = '../../../oso_gcp_credentials.json'\n",
    "GCP_PROJECT = 'opensource-observer'\n",
    "client = bigquery.Client(GCP_PROJECT)"
   ]
  },
  {
   "cell_type": "code",
   "execution_count": 4,
   "id": "e31e8ce2",
   "metadata": {},
   "outputs": [],
   "source": [
    "def stringify(lst):\n",
    "    lst = [x for x in lst if x]\n",
    "    return \"('\" + \"','\".join(lst) + \"')\""
   ]
  },
  {
   "cell_type": "code",
   "execution_count": 5,
   "id": "c96fe935",
   "metadata": {},
   "outputs": [],
   "source": [
    "languages = ['Solidity', 'TypeScript', 'Rust', 'Vyper']"
   ]
  },
  {
   "cell_type": "code",
   "execution_count": 6,
   "id": "3f8a64df-317c-4a7e-a5e4-1eca9a5c6047",
   "metadata": {},
   "outputs": [
    {
     "data": {
      "text/html": [
       "<div>\n",
       "<style scoped>\n",
       "    .dataframe tbody tr th:only-of-type {\n",
       "        vertical-align: middle;\n",
       "    }\n",
       "\n",
       "    .dataframe tbody tr th {\n",
       "        vertical-align: top;\n",
       "    }\n",
       "\n",
       "    .dataframe thead th {\n",
       "        text-align: right;\n",
       "    }\n",
       "</style>\n",
       "<table border=\"1\" class=\"dataframe\">\n",
       "  <thead>\n",
       "    <tr style=\"text-align: right;\">\n",
       "      <th></th>\n",
       "      <th>onchain_project_id</th>\n",
       "      <th>onchain_repo_artifact_id</th>\n",
       "      <th>onchain_project_github_url</th>\n",
       "      <th>onchain_project_github_language</th>\n",
       "      <th>devtooling_project_name</th>\n",
       "      <th>devtooling_project_display_name</th>\n",
       "      <th>devtooling_project_github_url</th>\n",
       "      <th>dependency_source</th>\n",
       "      <th>dependency_name</th>\n",
       "    </tr>\n",
       "  </thead>\n",
       "  <tbody>\n",
       "    <tr>\n",
       "      <th>1784938</th>\n",
       "      <td>EhPGap_lKavTMqT2DUdCSDKsQaAiG99v0Rq__pINhMM=</td>\n",
       "      <td>ENt2JO42WRnXY1C8Mep2oyQ7dTL2nOJS5xtPKyz4Ta8=</td>\n",
       "      <td>https://github.com/1inch/walletconnect-monorepo</td>\n",
       "      <td>TypeScript</td>\n",
       "      <td>ionicabizau</td>\n",
       "      <td>Ionică Bizău (Johnny B.)</td>\n",
       "      <td>https://github.com/ionicabizau/protocols</td>\n",
       "      <td>NPM</td>\n",
       "      <td>protocols</td>\n",
       "    </tr>\n",
       "    <tr>\n",
       "      <th>1784939</th>\n",
       "      <td>m3u9RgYlYchemnTKZDZSZV9xLGReVz_KGG5sV0tIrUE=</td>\n",
       "      <td>nItG9OP8odd7cA_uUR6zebN6rKSSVHohISET1_gX6_w=</td>\n",
       "      <td>https://github.com/lidofinance/avalanche-contr...</td>\n",
       "      <td>Solidity</td>\n",
       "      <td>gorilla</td>\n",
       "      <td>Gorilla web toolkit</td>\n",
       "      <td>https://github.com/gorilla/mux</td>\n",
       "      <td>GOLANG</td>\n",
       "      <td>github.com/gorilla/mux</td>\n",
       "    </tr>\n",
       "    <tr>\n",
       "      <th>1784940</th>\n",
       "      <td>WPjCCIDK0pJh-tTktKDnWPNNhP8yjWYUxixrmtComxE=</td>\n",
       "      <td>fH1b5Xv-Ge5c3MHvumQlYHXFqpyTrkZ-94TPN_qDu_o=</td>\n",
       "      <td>https://github.com/seamless-protocol/interface</td>\n",
       "      <td>TypeScript</td>\n",
       "      <td>syntax-tree</td>\n",
       "      <td>syntax-tree</td>\n",
       "      <td>https://github.com/syntax-tree/mdast-util-gfm-...</td>\n",
       "      <td>NPM</td>\n",
       "      <td>mdast-util-gfm-footnote</td>\n",
       "    </tr>\n",
       "    <tr>\n",
       "      <th>1784941</th>\n",
       "      <td>gHO2CKahfi2EMVYX6Q5B6ZvLcbnTaNrCwk1lniDsEDM=</td>\n",
       "      <td>f8N7azKUMO3CXVfF3f4BzK2Z8yzYcECu1lPq2rEoKko=</td>\n",
       "      <td>https://github.com/thirdweb-dev/dashboard</td>\n",
       "      <td>TypeScript</td>\n",
       "      <td>syntax-tree</td>\n",
       "      <td>syntax-tree</td>\n",
       "      <td>https://github.com/syntax-tree/mdast-util-gfm-...</td>\n",
       "      <td>NPM</td>\n",
       "      <td>mdast-util-gfm-footnote</td>\n",
       "    </tr>\n",
       "    <tr>\n",
       "      <th>1784942</th>\n",
       "      <td>LNQR7by2d4x_GcRrl47_US9ZJ1j12JkObQoxSG6oUlM=</td>\n",
       "      <td>mJiRErziryQu8ZwIcUgjx7ogyM1blnouvNSAVWfAwbQ=</td>\n",
       "      <td>https://github.com/wormhole-foundation/wormhol...</td>\n",
       "      <td>TypeScript</td>\n",
       "      <td>grpc-ecosystem</td>\n",
       "      <td>gRPC Ecosystem</td>\n",
       "      <td>https://github.com/grpc-ecosystem/go-grpc-prom...</td>\n",
       "      <td>GOLANG</td>\n",
       "      <td>github.com/grpc-ecosystem/go-grpc-prometheus</td>\n",
       "    </tr>\n",
       "  </tbody>\n",
       "</table>\n",
       "</div>"
      ],
      "text/plain": [
       "                                   onchain_project_id  \\\n",
       "1784938  EhPGap_lKavTMqT2DUdCSDKsQaAiG99v0Rq__pINhMM=   \n",
       "1784939  m3u9RgYlYchemnTKZDZSZV9xLGReVz_KGG5sV0tIrUE=   \n",
       "1784940  WPjCCIDK0pJh-tTktKDnWPNNhP8yjWYUxixrmtComxE=   \n",
       "1784941  gHO2CKahfi2EMVYX6Q5B6ZvLcbnTaNrCwk1lniDsEDM=   \n",
       "1784942  LNQR7by2d4x_GcRrl47_US9ZJ1j12JkObQoxSG6oUlM=   \n",
       "\n",
       "                             onchain_repo_artifact_id  \\\n",
       "1784938  ENt2JO42WRnXY1C8Mep2oyQ7dTL2nOJS5xtPKyz4Ta8=   \n",
       "1784939  nItG9OP8odd7cA_uUR6zebN6rKSSVHohISET1_gX6_w=   \n",
       "1784940  fH1b5Xv-Ge5c3MHvumQlYHXFqpyTrkZ-94TPN_qDu_o=   \n",
       "1784941  f8N7azKUMO3CXVfF3f4BzK2Z8yzYcECu1lPq2rEoKko=   \n",
       "1784942  mJiRErziryQu8ZwIcUgjx7ogyM1blnouvNSAVWfAwbQ=   \n",
       "\n",
       "                                onchain_project_github_url  \\\n",
       "1784938    https://github.com/1inch/walletconnect-monorepo   \n",
       "1784939  https://github.com/lidofinance/avalanche-contr...   \n",
       "1784940     https://github.com/seamless-protocol/interface   \n",
       "1784941          https://github.com/thirdweb-dev/dashboard   \n",
       "1784942  https://github.com/wormhole-foundation/wormhol...   \n",
       "\n",
       "        onchain_project_github_language devtooling_project_name  \\\n",
       "1784938                      TypeScript             ionicabizau   \n",
       "1784939                        Solidity                 gorilla   \n",
       "1784940                      TypeScript             syntax-tree   \n",
       "1784941                      TypeScript             syntax-tree   \n",
       "1784942                      TypeScript          grpc-ecosystem   \n",
       "\n",
       "        devtooling_project_display_name  \\\n",
       "1784938        Ionică Bizău (Johnny B.)   \n",
       "1784939             Gorilla web toolkit   \n",
       "1784940                     syntax-tree   \n",
       "1784941                     syntax-tree   \n",
       "1784942                  gRPC Ecosystem   \n",
       "\n",
       "                             devtooling_project_github_url dependency_source  \\\n",
       "1784938           https://github.com/ionicabizau/protocols               NPM   \n",
       "1784939                     https://github.com/gorilla/mux            GOLANG   \n",
       "1784940  https://github.com/syntax-tree/mdast-util-gfm-...               NPM   \n",
       "1784941  https://github.com/syntax-tree/mdast-util-gfm-...               NPM   \n",
       "1784942  https://github.com/grpc-ecosystem/go-grpc-prom...            GOLANG   \n",
       "\n",
       "                                      dependency_name  \n",
       "1784938                                     protocols  \n",
       "1784939                        github.com/gorilla/mux  \n",
       "1784940                       mdast-util-gfm-footnote  \n",
       "1784941                       mdast-util-gfm-footnote  \n",
       "1784942  github.com/grpc-ecosystem/go-grpc-prometheus  "
      ]
     },
     "execution_count": 6,
     "metadata": {},
     "output_type": "execute_result"
    }
   ],
   "source": [
    "results = client.query(f\"\"\"\n",
    "    select\n",
    "      onchain_repos.project_id as onchain_project_id,\n",
    "      onchain_repos.artifact_id as onchain_repo_artifact_id,\n",
    "      onchain_repos.artifact_url as onchain_project_github_url,\n",
    "      onchain_repos.language as onchain_project_github_language,\n",
    "      p.project_name as devtooling_project_name,\n",
    "      p.display_name as devtooling_project_display_name,\n",
    "      dt_repos.artifact_url as devtooling_project_github_url,\n",
    "      deps.dependency_source as dependency_source,\n",
    "      deps.dependency_name as dependency_name\n",
    "    from `oso.repositories_v0` as onchain_repos\n",
    "    join `oso.int_code_dependencies` as deps\n",
    "      on onchain_repos.artifact_id = deps.dependent_artifact_id\n",
    "    join `oso.int_repositories_enriched` as dt_repos\n",
    "      on deps.dependency_artifact_id = dt_repos.artifact_id\n",
    "    join `oso.projects_v1` as p\n",
    "      on dt_repos.project_id = p.project_id\n",
    "    where\n",
    "      onchain_repos.project_id in (\n",
    "        select project_id from `oso.projects_by_collection_v1`\n",
    "        where collection_name = 'op-onchain'\n",
    "      )\n",
    "      and onchain_repos.language in {stringify(languages)}\n",
    "      and onchain_repos.project_id != p.project_id\"\"\")\n",
    "df_deps = results.to_dataframe()\n",
    "df_deps.tail()"
   ]
  },
  {
   "cell_type": "code",
   "execution_count": 7,
   "id": "41a47581",
   "metadata": {},
   "outputs": [
    {
     "data": {
      "text/plain": [
       "344"
      ]
     },
     "execution_count": 7,
     "metadata": {},
     "output_type": "execute_result"
    }
   ],
   "source": [
    "df_deps['onchain_project_id'].nunique()"
   ]
  },
  {
   "cell_type": "code",
   "execution_count": 8,
   "id": "2d91609a",
   "metadata": {},
   "outputs": [
    {
     "data": {
      "text/plain": [
       "8436"
      ]
     },
     "execution_count": 8,
     "metadata": {},
     "output_type": "execute_result"
    }
   ],
   "source": [
    "len(df_deps.drop_duplicates(subset=['dependency_source', 'dependency_name']))"
   ]
  },
  {
   "cell_type": "code",
   "execution_count": 9,
   "id": "821ed31d",
   "metadata": {},
   "outputs": [
    {
     "data": {
      "text/plain": [
       "dependency_source\n",
       "CARGO     1283\n",
       "GOLANG     383\n",
       "NPM       6663\n",
       "PYPI       107\n",
       "Name: dependency_name, dtype: int64"
      ]
     },
     "execution_count": 9,
     "metadata": {},
     "output_type": "execute_result"
    }
   ],
   "source": [
    "df_deps.groupby('dependency_source')['dependency_name'].nunique()"
   ]
  },
  {
   "cell_type": "code",
   "execution_count": 10,
   "id": "ec6888a1",
   "metadata": {},
   "outputs": [
    {
     "data": {
      "text/plain": [
       "758"
      ]
     },
     "execution_count": 10,
     "metadata": {},
     "output_type": "execute_result"
    }
   ],
   "source": [
    "devtooling_projects = df_deps['devtooling_project_name'].unique()\n",
    "len(devtooling_projects)"
   ]
  },
  {
   "cell_type": "code",
   "execution_count": 11,
   "id": "091c7a50",
   "metadata": {},
   "outputs": [
    {
     "data": {
      "text/html": [
       "<div>\n",
       "<style scoped>\n",
       "    .dataframe tbody tr th:only-of-type {\n",
       "        vertical-align: middle;\n",
       "    }\n",
       "\n",
       "    .dataframe tbody tr th {\n",
       "        vertical-align: top;\n",
       "    }\n",
       "\n",
       "    .dataframe thead th {\n",
       "        text-align: right;\n",
       "    }\n",
       "</style>\n",
       "<table border=\"1\" class=\"dataframe\">\n",
       "  <thead>\n",
       "    <tr style=\"text-align: right;\">\n",
       "      <th></th>\n",
       "      <th>project_name</th>\n",
       "    </tr>\n",
       "  </thead>\n",
       "  <tbody>\n",
       "    <tr>\n",
       "      <th>93</th>\n",
       "      <td>synpress-synthexio</td>\n",
       "    </tr>\n",
       "    <tr>\n",
       "      <th>94</th>\n",
       "      <td>alloy-rs</td>\n",
       "    </tr>\n",
       "    <tr>\n",
       "      <th>95</th>\n",
       "      <td>abi-to-sol-gnidan</td>\n",
       "    </tr>\n",
       "    <tr>\n",
       "      <th>96</th>\n",
       "      <td>limechain</td>\n",
       "    </tr>\n",
       "    <tr>\n",
       "      <th>97</th>\n",
       "      <td>yearn</td>\n",
       "    </tr>\n",
       "  </tbody>\n",
       "</table>\n",
       "</div>"
      ],
      "text/plain": [
       "          project_name\n",
       "93  synpress-synthexio\n",
       "94            alloy-rs\n",
       "95   abi-to-sol-gnidan\n",
       "96           limechain\n",
       "97               yearn"
      ]
     },
     "execution_count": 11,
     "metadata": {},
     "output_type": "execute_result"
    }
   ],
   "source": [
    "results = client.query(f\"\"\"\n",
    "    select distinct project_name from oso.projects_by_collection_v1\n",
    "    where\n",
    "        collection_name in ('op-rpgf1', 'op-rpgf2', 'op-rpgf3', 'op-retrofunding-4', 'op-retrofunding-5')\n",
    "        and project_name in {stringify(devtooling_projects)}\n",
    "\"\"\")\n",
    "df_rf_devtools = results.to_dataframe()\n",
    "df_rf_devtools.tail()"
   ]
  },
  {
   "cell_type": "code",
   "execution_count": 12,
   "id": "94159c5d",
   "metadata": {},
   "outputs": [
    {
     "data": {
      "text/plain": [
       "98"
      ]
     },
     "execution_count": 12,
     "metadata": {},
     "output_type": "execute_result"
    }
   ],
   "source": [
    "rf_projects = list(df_rf_devtools['project_name'].unique())\n",
    "len(rf_projects)"
   ]
  },
  {
   "cell_type": "code",
   "execution_count": 13,
   "id": "2b8279c3",
   "metadata": {},
   "outputs": [
    {
     "data": {
      "text/plain": [
       "981"
      ]
     },
     "execution_count": 13,
     "metadata": {},
     "output_type": "execute_result"
    }
   ],
   "source": [
    "len(\n",
    "    df_deps[df_deps['devtooling_project_name'].isin(rf_projects)]\n",
    "    .drop_duplicates(subset=['dependency_source', 'dependency_name'])\n",
    ")"
   ]
  },
  {
   "cell_type": "code",
   "execution_count": 14,
   "id": "f10a1e3e",
   "metadata": {},
   "outputs": [
    {
     "data": {
      "text/plain": [
       "135146"
      ]
     },
     "execution_count": 14,
     "metadata": {},
     "output_type": "execute_result"
    }
   ],
   "source": [
    "len(df_deps[df_deps['devtooling_project_name'].isin(rf_projects)])"
   ]
  },
  {
   "cell_type": "code",
   "execution_count": 15,
   "id": "a155e797",
   "metadata": {},
   "outputs": [],
   "source": [
    "repo_ids = df_deps['onchain_repo_artifact_id'].unique()"
   ]
  },
  {
   "cell_type": "code",
   "execution_count": 16,
   "id": "53045139",
   "metadata": {},
   "outputs": [
    {
     "data": {
      "text/html": [
       "<div>\n",
       "<style scoped>\n",
       "    .dataframe tbody tr th:only-of-type {\n",
       "        vertical-align: middle;\n",
       "    }\n",
       "\n",
       "    .dataframe tbody tr th {\n",
       "        vertical-align: top;\n",
       "    }\n",
       "\n",
       "    .dataframe thead th {\n",
       "        text-align: right;\n",
       "    }\n",
       "</style>\n",
       "<table border=\"1\" class=\"dataframe\">\n",
       "  <thead>\n",
       "    <tr style=\"text-align: right;\">\n",
       "      <th></th>\n",
       "      <th>project_id</th>\n",
       "      <th>repo_artifact_id</th>\n",
       "      <th>developer_id</th>\n",
       "      <th>developer_name</th>\n",
       "      <th>event_type</th>\n",
       "      <th>first_event</th>\n",
       "      <th>last_event</th>\n",
       "      <th>total_events</th>\n",
       "    </tr>\n",
       "  </thead>\n",
       "  <tbody>\n",
       "    <tr>\n",
       "      <th>2943</th>\n",
       "      <td>zuKa56R3a-6e4jZZUfd7UOWS66f0hkwUMt8uFboQArk=</td>\n",
       "      <td>9PwlUv2jjyPPBQDWM2s6IPtSEde7Un23XnSmRhprhkw=</td>\n",
       "      <td>78BZYVz_4d4XJN-PTj9WSPrpCDEn1TnBvmpJqZ_OUMo=</td>\n",
       "      <td>arcticfloyd1984</td>\n",
       "      <td>COMMIT_CODE</td>\n",
       "      <td>2024-03-17 06:58:09+00:00</td>\n",
       "      <td>2024-09-30 07:03:31+00:00</td>\n",
       "      <td>22</td>\n",
       "    </tr>\n",
       "    <tr>\n",
       "      <th>2944</th>\n",
       "      <td>zuKa56R3a-6e4jZZUfd7UOWS66f0hkwUMt8uFboQArk=</td>\n",
       "      <td>BjsEezmJotvTqDpTpI4ni9cGi6FVffT9r52duhAlulw=</td>\n",
       "      <td>Xy_2ujuYTLvT4PeMoAWiVheKEiDy4GNuJHOiQYtltvY=</td>\n",
       "      <td>vgabriel45</td>\n",
       "      <td>COMMIT_CODE</td>\n",
       "      <td>2024-10-10 11:33:30+00:00</td>\n",
       "      <td>2025-01-15 11:30:11+00:00</td>\n",
       "      <td>9</td>\n",
       "    </tr>\n",
       "    <tr>\n",
       "      <th>2945</th>\n",
       "      <td>zuKa56R3a-6e4jZZUfd7UOWS66f0hkwUMt8uFboQArk=</td>\n",
       "      <td>0hZviUUKi0wLhWT2wo2hXAvRouir1-FFB4FaTnO9vWI=</td>\n",
       "      <td>aiqNgLhPwljZ8DSPrl1J-aOvxQJEXjOIQ6t6RCRDCpQ=</td>\n",
       "      <td>filmakarov</td>\n",
       "      <td>COMMIT_CODE</td>\n",
       "      <td>2024-12-10 11:20:37+00:00</td>\n",
       "      <td>2025-01-16 11:29:57+00:00</td>\n",
       "      <td>9</td>\n",
       "    </tr>\n",
       "    <tr>\n",
       "      <th>2946</th>\n",
       "      <td>zuKa56R3a-6e4jZZUfd7UOWS66f0hkwUMt8uFboQArk=</td>\n",
       "      <td>p-GeVemaxpbRuC-Q_1M5V39ndAmGfPrMurKc8gIGXRg=</td>\n",
       "      <td>e-jHy9eBeX6c7QJpPmRe3p9IY2u2uu7HdYqiqc-A9Tw=</td>\n",
       "      <td>joepegler</td>\n",
       "      <td>COMMIT_CODE</td>\n",
       "      <td>2024-11-16 09:13:59+00:00</td>\n",
       "      <td>2025-01-14 10:22:07+00:00</td>\n",
       "      <td>18</td>\n",
       "    </tr>\n",
       "    <tr>\n",
       "      <th>2947</th>\n",
       "      <td>zuKa56R3a-6e4jZZUfd7UOWS66f0hkwUMt8uFboQArk=</td>\n",
       "      <td>Ml0xp2VJuP2aEwrN4HQWKo75-7dI1gS6TGyC1c1_lAM=</td>\n",
       "      <td>eB0VI7Av8d-xPOyqesqn7voy5J6bjgNQPO2DWieoUIk=</td>\n",
       "      <td>himanshugarg06</td>\n",
       "      <td>COMMIT_CODE</td>\n",
       "      <td>2024-09-25 07:02:24+00:00</td>\n",
       "      <td>2024-11-06 15:46:37+00:00</td>\n",
       "      <td>21</td>\n",
       "    </tr>\n",
       "  </tbody>\n",
       "</table>\n",
       "</div>"
      ],
      "text/plain": [
       "                                        project_id  \\\n",
       "2943  zuKa56R3a-6e4jZZUfd7UOWS66f0hkwUMt8uFboQArk=   \n",
       "2944  zuKa56R3a-6e4jZZUfd7UOWS66f0hkwUMt8uFboQArk=   \n",
       "2945  zuKa56R3a-6e4jZZUfd7UOWS66f0hkwUMt8uFboQArk=   \n",
       "2946  zuKa56R3a-6e4jZZUfd7UOWS66f0hkwUMt8uFboQArk=   \n",
       "2947  zuKa56R3a-6e4jZZUfd7UOWS66f0hkwUMt8uFboQArk=   \n",
       "\n",
       "                                  repo_artifact_id  \\\n",
       "2943  9PwlUv2jjyPPBQDWM2s6IPtSEde7Un23XnSmRhprhkw=   \n",
       "2944  BjsEezmJotvTqDpTpI4ni9cGi6FVffT9r52duhAlulw=   \n",
       "2945  0hZviUUKi0wLhWT2wo2hXAvRouir1-FFB4FaTnO9vWI=   \n",
       "2946  p-GeVemaxpbRuC-Q_1M5V39ndAmGfPrMurKc8gIGXRg=   \n",
       "2947  Ml0xp2VJuP2aEwrN4HQWKo75-7dI1gS6TGyC1c1_lAM=   \n",
       "\n",
       "                                      developer_id   developer_name  \\\n",
       "2943  78BZYVz_4d4XJN-PTj9WSPrpCDEn1TnBvmpJqZ_OUMo=  arcticfloyd1984   \n",
       "2944  Xy_2ujuYTLvT4PeMoAWiVheKEiDy4GNuJHOiQYtltvY=       vgabriel45   \n",
       "2945  aiqNgLhPwljZ8DSPrl1J-aOvxQJEXjOIQ6t6RCRDCpQ=       filmakarov   \n",
       "2946  e-jHy9eBeX6c7QJpPmRe3p9IY2u2uu7HdYqiqc-A9Tw=        joepegler   \n",
       "2947  eB0VI7Av8d-xPOyqesqn7voy5J6bjgNQPO2DWieoUIk=   himanshugarg06   \n",
       "\n",
       "       event_type               first_event                last_event  \\\n",
       "2943  COMMIT_CODE 2024-03-17 06:58:09+00:00 2024-09-30 07:03:31+00:00   \n",
       "2944  COMMIT_CODE 2024-10-10 11:33:30+00:00 2025-01-15 11:30:11+00:00   \n",
       "2945  COMMIT_CODE 2024-12-10 11:20:37+00:00 2025-01-16 11:29:57+00:00   \n",
       "2946  COMMIT_CODE 2024-11-16 09:13:59+00:00 2025-01-14 10:22:07+00:00   \n",
       "2947  COMMIT_CODE 2024-09-25 07:02:24+00:00 2024-11-06 15:46:37+00:00   \n",
       "\n",
       "      total_events  \n",
       "2943            22  \n",
       "2944             9  \n",
       "2945             9  \n",
       "2946            18  \n",
       "2947            21  "
      ]
     },
     "execution_count": 16,
     "metadata": {},
     "output_type": "execute_result"
    }
   ],
   "source": [
    "results = client.query(f\"\"\"\n",
    "    select\n",
    "        repos.project_id,\n",
    "        devs.*,\n",
    "    from `oso.int_developer_activity_by_repo` as devs\n",
    "    join `oso.repositories_v0` as repos\n",
    "        on devs.repo_artifact_id = repos.artifact_id\n",
    "    where\n",
    "        devs.repo_artifact_id in {stringify(repo_ids)}\n",
    "        and devs.event_type = 'COMMIT_CODE'\n",
    "        and devs.last_event > '2024-07-01'\n",
    "\"\"\")\n",
    "df_devs = results.to_dataframe()\n",
    "df_devs.tail()"
   ]
  },
  {
   "cell_type": "code",
   "execution_count": 17,
   "id": "276fa4c8",
   "metadata": {},
   "outputs": [
    {
     "data": {
      "text/plain": [
       "1370"
      ]
     },
     "execution_count": 17,
     "metadata": {},
     "output_type": "execute_result"
    }
   ],
   "source": [
    "df_devs['developer_id'].nunique()"
   ]
  },
  {
   "cell_type": "code",
   "execution_count": 18,
   "id": "de93c0ce",
   "metadata": {},
   "outputs": [
    {
     "data": {
      "text/html": [
       "<div>\n",
       "<style scoped>\n",
       "    .dataframe tbody tr th:only-of-type {\n",
       "        vertical-align: middle;\n",
       "    }\n",
       "\n",
       "    .dataframe tbody tr th {\n",
       "        vertical-align: top;\n",
       "    }\n",
       "\n",
       "    .dataframe thead th {\n",
       "        text-align: right;\n",
       "    }\n",
       "</style>\n",
       "<table border=\"1\" class=\"dataframe\">\n",
       "  <thead>\n",
       "    <tr style=\"text-align: right;\">\n",
       "      <th></th>\n",
       "      <th>developer_id</th>\n",
       "      <th>project_id</th>\n",
       "      <th>first_event</th>\n",
       "      <th>last_event</th>\n",
       "      <th>time_delta</th>\n",
       "    </tr>\n",
       "  </thead>\n",
       "  <tbody>\n",
       "    <tr>\n",
       "      <th>0</th>\n",
       "      <td>--RLSsi0OSfeREuBHlGyuYX9U__7KPlD88yMWHct8is=</td>\n",
       "      <td>SOp_QHGNf549Vq-StBPnwRG1ELIMsmLNEgqDtBjM8Eg=</td>\n",
       "      <td>2022-07-26 16:03:58+00:00</td>\n",
       "      <td>2024-12-04 16:47:02+00:00</td>\n",
       "      <td>862</td>\n",
       "    </tr>\n",
       "    <tr>\n",
       "      <th>3</th>\n",
       "      <td>-GJJYx8arjz7yfQWDXp3Q5JHybS5s63dsyJfpOWUt30=</td>\n",
       "      <td>m3u9RgYlYchemnTKZDZSZV9xLGReVz_KGG5sV0tIrUE=</td>\n",
       "      <td>2023-03-03 09:53:17+00:00</td>\n",
       "      <td>2025-01-10 09:00:47+00:00</td>\n",
       "      <td>678</td>\n",
       "    </tr>\n",
       "    <tr>\n",
       "      <th>4</th>\n",
       "      <td>-I9rt92gB6cY9HnLosiN1DjSiURHeXwzUONDMuDijpk=</td>\n",
       "      <td>wluzMsctrN335VW_uT-iQsSWZrfLjSRCxOvVVUB8NgQ=</td>\n",
       "      <td>2024-06-26 07:28:13+00:00</td>\n",
       "      <td>2024-11-12 09:49:06+00:00</td>\n",
       "      <td>139</td>\n",
       "    </tr>\n",
       "    <tr>\n",
       "      <th>5</th>\n",
       "      <td>-L_IScJgY4IskozeHSXCPSkkJyZcPW8FNqhw0PSn71U=</td>\n",
       "      <td>sbnlvN2OV8y140ijKiAr12nnhEkcKAYZyaxtOZOteqs=</td>\n",
       "      <td>2024-09-23 08:19:30+00:00</td>\n",
       "      <td>2025-01-20 10:25:57+00:00</td>\n",
       "      <td>119</td>\n",
       "    </tr>\n",
       "    <tr>\n",
       "      <th>8</th>\n",
       "      <td>-TMjpa2x3KhCp-zXy7fvZn4oSWihUMQ8AzwyAEzTwec=</td>\n",
       "      <td>lTrJShA8bLeyWUn-DHIuT_7591FZ7PXqXscO6gVX4N0=</td>\n",
       "      <td>2022-05-25 20:18:24+00:00</td>\n",
       "      <td>2024-09-28 22:53:39+00:00</td>\n",
       "      <td>857</td>\n",
       "    </tr>\n",
       "    <tr>\n",
       "      <th>...</th>\n",
       "      <td>...</td>\n",
       "      <td>...</td>\n",
       "      <td>...</td>\n",
       "      <td>...</td>\n",
       "      <td>...</td>\n",
       "    </tr>\n",
       "    <tr>\n",
       "      <th>1382</th>\n",
       "      <td>zkEitqYPNcdUk6yw9usAMUw-RbjieIEamAtn30zKBEQ=</td>\n",
       "      <td>LzX2HYHwOpaft7pcY2yLj5FKl1BwxRnDCekysi6xTVA=</td>\n",
       "      <td>2024-05-28 19:37:02+00:00</td>\n",
       "      <td>2024-12-21 01:46:30+00:00</td>\n",
       "      <td>206</td>\n",
       "    </tr>\n",
       "    <tr>\n",
       "      <th>1383</th>\n",
       "      <td>zlw_Lq1Q3a0Hx036_DNLSPu8h8Mwf7v3pJJzAjnamm0=</td>\n",
       "      <td>UQrhi8C2lSXtgkojDyC0Vqo4NvwHsYkOFRDUhlVkv80=</td>\n",
       "      <td>2023-03-30 20:40:53+00:00</td>\n",
       "      <td>2024-11-06 18:32:21+00:00</td>\n",
       "      <td>586</td>\n",
       "    </tr>\n",
       "    <tr>\n",
       "      <th>1384</th>\n",
       "      <td>zoBw4be-gmIDwJ2m6J3lyWVzPFAzdsA0YNXyHgwnlFw=</td>\n",
       "      <td>yIdtVpj9_Iq1eXhjegIKN6sPnkzDsozlYtmd9xhYIkM=</td>\n",
       "      <td>2023-05-22 20:00:09+00:00</td>\n",
       "      <td>2025-01-17 13:41:58+00:00</td>\n",
       "      <td>605</td>\n",
       "    </tr>\n",
       "    <tr>\n",
       "      <th>1385</th>\n",
       "      <td>zoaeAHxTgz2NT4MPi184gLfGBRC3bwNyZM7cH2llMnc=</td>\n",
       "      <td>SV5kdZqv7HuVnB0A9hgFHPi3lubBZ0Tiu0zZS-XMZ-A=</td>\n",
       "      <td>2023-08-20 20:16:44+00:00</td>\n",
       "      <td>2024-12-24 07:55:55+00:00</td>\n",
       "      <td>491</td>\n",
       "    </tr>\n",
       "    <tr>\n",
       "      <th>1387</th>\n",
       "      <td>zytnexxfRtaI9Zx6vI6S-8qI9Mw0ZoTLsE3a4dVHHCA=</td>\n",
       "      <td>EzfIm6HTJ8t1dZCJ0WukRqqZgEyX_6Hd64B4SK0ciqw=</td>\n",
       "      <td>2023-12-15 15:49:19+00:00</td>\n",
       "      <td>2024-12-24 10:41:05+00:00</td>\n",
       "      <td>374</td>\n",
       "    </tr>\n",
       "  </tbody>\n",
       "</table>\n",
       "<p>950 rows × 5 columns</p>\n",
       "</div>"
      ],
      "text/plain": [
       "                                      developer_id  \\\n",
       "0     --RLSsi0OSfeREuBHlGyuYX9U__7KPlD88yMWHct8is=   \n",
       "3     -GJJYx8arjz7yfQWDXp3Q5JHybS5s63dsyJfpOWUt30=   \n",
       "4     -I9rt92gB6cY9HnLosiN1DjSiURHeXwzUONDMuDijpk=   \n",
       "5     -L_IScJgY4IskozeHSXCPSkkJyZcPW8FNqhw0PSn71U=   \n",
       "8     -TMjpa2x3KhCp-zXy7fvZn4oSWihUMQ8AzwyAEzTwec=   \n",
       "...                                            ...   \n",
       "1382  zkEitqYPNcdUk6yw9usAMUw-RbjieIEamAtn30zKBEQ=   \n",
       "1383  zlw_Lq1Q3a0Hx036_DNLSPu8h8Mwf7v3pJJzAjnamm0=   \n",
       "1384  zoBw4be-gmIDwJ2m6J3lyWVzPFAzdsA0YNXyHgwnlFw=   \n",
       "1385  zoaeAHxTgz2NT4MPi184gLfGBRC3bwNyZM7cH2llMnc=   \n",
       "1387  zytnexxfRtaI9Zx6vI6S-8qI9Mw0ZoTLsE3a4dVHHCA=   \n",
       "\n",
       "                                        project_id               first_event  \\\n",
       "0     SOp_QHGNf549Vq-StBPnwRG1ELIMsmLNEgqDtBjM8Eg= 2022-07-26 16:03:58+00:00   \n",
       "3     m3u9RgYlYchemnTKZDZSZV9xLGReVz_KGG5sV0tIrUE= 2023-03-03 09:53:17+00:00   \n",
       "4     wluzMsctrN335VW_uT-iQsSWZrfLjSRCxOvVVUB8NgQ= 2024-06-26 07:28:13+00:00   \n",
       "5     sbnlvN2OV8y140ijKiAr12nnhEkcKAYZyaxtOZOteqs= 2024-09-23 08:19:30+00:00   \n",
       "8     lTrJShA8bLeyWUn-DHIuT_7591FZ7PXqXscO6gVX4N0= 2022-05-25 20:18:24+00:00   \n",
       "...                                            ...                       ...   \n",
       "1382  LzX2HYHwOpaft7pcY2yLj5FKl1BwxRnDCekysi6xTVA= 2024-05-28 19:37:02+00:00   \n",
       "1383  UQrhi8C2lSXtgkojDyC0Vqo4NvwHsYkOFRDUhlVkv80= 2023-03-30 20:40:53+00:00   \n",
       "1384  yIdtVpj9_Iq1eXhjegIKN6sPnkzDsozlYtmd9xhYIkM= 2023-05-22 20:00:09+00:00   \n",
       "1385  SV5kdZqv7HuVnB0A9hgFHPi3lubBZ0Tiu0zZS-XMZ-A= 2023-08-20 20:16:44+00:00   \n",
       "1387  EzfIm6HTJ8t1dZCJ0WukRqqZgEyX_6Hd64B4SK0ciqw= 2023-12-15 15:49:19+00:00   \n",
       "\n",
       "                    last_event  time_delta  \n",
       "0    2024-12-04 16:47:02+00:00         862  \n",
       "3    2025-01-10 09:00:47+00:00         678  \n",
       "4    2024-11-12 09:49:06+00:00         139  \n",
       "5    2025-01-20 10:25:57+00:00         119  \n",
       "8    2024-09-28 22:53:39+00:00         857  \n",
       "...                        ...         ...  \n",
       "1382 2024-12-21 01:46:30+00:00         206  \n",
       "1383 2024-11-06 18:32:21+00:00         586  \n",
       "1384 2025-01-17 13:41:58+00:00         605  \n",
       "1385 2024-12-24 07:55:55+00:00         491  \n",
       "1387 2024-12-24 10:41:05+00:00         374  \n",
       "\n",
       "[950 rows x 5 columns]"
      ]
     },
     "execution_count": 18,
     "metadata": {},
     "output_type": "execute_result"
    }
   ],
   "source": [
    "dff_devs = df_devs.groupby(['developer_id', 'project_id'], as_index=False).agg({'first_event': 'min', 'last_event': 'max'})\n",
    "dff_devs['time_delta'] = (dff_devs['last_event'] - dff_devs['first_event']).dt.days\n",
    "dff_devs = dff_devs[dff_devs['time_delta'] > 90]\n",
    "dff_devs"
   ]
  },
  {
   "cell_type": "code",
   "execution_count": 19,
   "id": "c97a0771",
   "metadata": {},
   "outputs": [
    {
     "data": {
      "text/plain": [
       "942"
      ]
     },
     "execution_count": 19,
     "metadata": {},
     "output_type": "execute_result"
    }
   ],
   "source": [
    "dff_devs['developer_id'].nunique()"
   ]
  },
  {
   "cell_type": "code",
   "execution_count": 20,
   "id": "50f6daf3",
   "metadata": {},
   "outputs": [
    {
     "data": {
      "text/plain": [
       "206"
      ]
     },
     "execution_count": 20,
     "metadata": {},
     "output_type": "execute_result"
    }
   ],
   "source": [
    "dff_devs['project_id'].nunique()"
   ]
  }
 ],
 "metadata": {
  "kernelspec": {
   "display_name": "Python 3 (ipykernel)",
   "language": "python",
   "name": "python3"
  },
  "language_info": {
   "codemirror_mode": {
    "name": "ipython",
    "version": 3
   },
   "file_extension": ".py",
   "mimetype": "text/x-python",
   "name": "python",
   "nbconvert_exporter": "python",
   "pygments_lexer": "ipython3",
   "version": "3.11.5"
  }
 },
 "nbformat": 4,
 "nbformat_minor": 5
}
