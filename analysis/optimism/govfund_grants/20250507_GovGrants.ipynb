{
 "cells": [
  {
   "cell_type": "code",
   "execution_count": 1,
   "id": "4ad04579-408e-4c1f-9f6b-d0b5dcd67e1e",
   "metadata": {},
   "outputs": [],
   "source": [
    "import pandas as pd\n",
    "from grant_parser import clean_workbook"
   ]
  },
  {
   "cell_type": "code",
   "execution_count": 2,
   "id": "2f52193f-823d-4942-8049-4bc982dab3b7",
   "metadata": {},
   "outputs": [
    {
     "name": "stdout",
     "output_type": "stream",
     "text": [
      "\n",
      "Processing sheet: Grants Season 1\n",
      "Using header row 0 for Grants Season 1\n",
      "\n",
      "Original columns in sheet: ['Cycle #', 'Project Name', 'Status', 'Delivery Date', 'Amount (OP)', 'Incentive Program Launched?', 'Proposal Link', 'L2 Address', 'Msig Nonce', 'L2 OP Return txn', 'Link']\n",
      "Renamed columns: {'Project Name': 'Project Name', 'Status': 'Status', 'Delivery Date': 'Initial delivery date', 'Amount (OP)': 'OP Total Amount', 'Proposal Link': 'Link'}\n",
      "Warning: Column 'OP Delivered' not found in the dataframe\n",
      "\n",
      "Processing sheet: Grants Season 2\n",
      "Using header row 0 for Grants Season 2\n",
      "\n",
      "Original columns in sheet: ['Cycle #', 'Project Name', 'Status', 'Delivery Date', 'Amount (OP)', 'Incentive Program Launched?', 'Proposal Link', 'L2 Address', 'Msig Nonce', 'L2 OP Return txn', 'Link']\n",
      "Renamed columns: {'Project Name': 'Project Name', 'Status': 'Status', 'Delivery Date': 'Initial delivery date', 'Amount (OP)': 'OP Total Amount', 'Proposal Link': 'Link'}\n",
      "Warning: Column 'OP Delivered' not found in the dataframe\n",
      "\n",
      "Processing sheet: Grants Season 3\n",
      "Using header row 1 for Grants Season 3\n",
      "\n",
      "Original columns in sheet: ['Cycle #', 'Project Name', 'Status', 'Initial Delivery Date', '(OP) Delivered', 'Total Amount (OP)', 'Status.1', 'Milestones', 'Incentive Program Launched?', 'Proposal Link', 'L2 Address', 'Msig Nonce', 'L2 OP Return txn', 'Link']\n",
      "Renamed columns: {'Project Name': 'Project Name', 'Status': 'Status', 'Initial Delivery Date': 'Initial delivery date', '(OP) Delivered': 'OP Delivered', 'Total Amount (OP)': 'OP Total Amount', 'Proposal Link': 'Link'}\n",
      "\n",
      "Processing sheet: Grants Season 4\n",
      "Using header row 1 for Grants Season 4\n",
      "\n",
      "Original columns in sheet: ['Cycle #', 'Project Name', 'Status', 'Initial Delivery Date', '(OP) Delivered', 'Total Amount (OP)', 'Status.1', 'Milestones', 'Incentive Program Launched?', 'Proposal Link', 'L2 Address', 'Msig Nonce', 'L2 OP Return txn', 'Msig Nonce.1', 'L2 OP Return txn.1', 'Link']\n",
      "Renamed columns: {'Project Name': 'Project Name', 'Status': 'Status', 'Initial Delivery Date': 'Initial delivery date', '(OP) Delivered': 'OP Delivered', 'Total Amount (OP)': 'OP Total Amount', 'Proposal Link': 'Link'}\n",
      "\n",
      "Processing sheet: Missions Season 4\n",
      "Using header row 0 for Missions Season 4\n",
      "\n",
      "Original columns in sheet: ['Cycle #', 'Project Name', 'Intent ', 'Trust Tier', 'Status', 'Delivery Date', 'Delivered (OP)', 'Amount (OP)', 'Incentive Program Launched?', 'Proposal Link', 'L2 Address', 'Link']\n",
      "Renamed columns: {'Project Name': 'Project Name', 'Intent ': 'Intent', 'Status': 'Status', 'Delivery Date': 'Initial delivery date', 'Delivered (OP)': 'OP Delivered', 'Amount (OP)': 'OP Total Amount', 'Proposal Link': 'Link'}\n",
      "\n",
      "Processing sheet: Grants Season 5\n",
      "Using header row 1 for Grants Season 5\n",
      "\n",
      "Original columns in sheet: ['Cycle #', 'Project Name', 'Status', 'Initial Delivery Date', '(OP) Delivered', 'Total Amount (OP)', 'Status.1', 'Milestones', 'Intent', 'Incentive Program Launched?', 'Proposal Link', 'L2 Address', 'Msig Nonce', 'L2 OP Return txn', 'Msig Nonce.1', 'L2 OP Return txn.1', 'Link']\n",
      "Renamed columns: {'Project Name': 'Project Name', 'Status': 'Status', 'Initial Delivery Date': 'Initial delivery date', '(OP) Delivered': 'OP Delivered', 'Total Amount (OP)': 'OP Total Amount', 'Intent': 'Intent', 'Proposal Link': 'Link'}\n",
      "\n",
      "Processing sheet: Grants Season 6\n",
      "Using header row 1 for Grants Season 6\n",
      "\n",
      "Original columns in sheet: ['Cycle #', 'Project Name', 'Status', 'Initial Delivery Date', '(OP) Delivered', 'Total Amount (OP)', 'Status.1', 'Milestones', 'Intent', 'Incentive Program Launched?', 'Proposal Link', 'L2 Address', 'Msig Nonce', 'L2 OP Return txn', 'Msig Nonce.1', 'L2 OP Return txn.1', 'Link']\n",
      "Renamed columns: {'Project Name': 'Project Name', 'Status': 'Status', 'Initial Delivery Date': 'Initial delivery date', '(OP) Delivered': 'OP Delivered', 'Total Amount (OP)': 'OP Total Amount', 'Intent': 'Intent', 'Proposal Link': 'Link'}\n",
      "\n",
      "Processing sheet: Grants Season 7\n",
      "Using header row 1 for Grants Season 7\n",
      "\n",
      "Original columns in sheet: ['Cycle #', 'Project Name', 'Status', 'Initial Delivery Date', '(OP) Delivered', 'Total Amount (OP)', 'Intent', 'Incentive Program Launched?', 'L2 Address', 'Chain', 'Msig Nonce', 'L2 OP Return txn', 'Msig Nonce.1', 'L2 OP Return txn.1', 'Link']\n",
      "Renamed columns: {'Project Name': 'Project Name', 'Status': 'Status', 'Initial Delivery Date': 'Initial delivery date', '(OP) Delivered': 'OP Delivered', 'Total Amount (OP)': 'OP Total Amount', 'Intent': 'Intent'}\n"
     ]
    }
   ],
   "source": [
    "df = clean_workbook('data/Optimism GovFund Grants_ Public Delivery Tracking.xlsx')"
   ]
  },
  {
   "cell_type": "code",
   "execution_count": 3,
   "id": "521dcb9c-f56c-4d61-9b13-7a830a58fa1f",
   "metadata": {},
   "outputs": [
    {
     "data": {
      "text/plain": [
       "Grants Season or Mission\n",
       "Grants Season 1      42.630770\n",
       "Grants Season 2      13.118661\n",
       "Grants Season 3       4.529500\n",
       "Grants Season 4       6.441123\n",
       "Grants Season 5       7.130874\n",
       "Grants Season 6      16.109290\n",
       "Grants Season 7       9.839884\n",
       "Missions Season 4     2.772276\n",
       "Name: OP Total Amount, dtype: float64"
      ]
     },
     "execution_count": 3,
     "metadata": {},
     "output_type": "execute_result"
    }
   ],
   "source": [
    "df.groupby('Grants Season or Mission')['OP Total Amount'].sum() / 1_000_000"
   ]
  },
  {
   "cell_type": "code",
   "execution_count": 8,
   "id": "75997c0c-b3c8-427d-a675-d9cc7cec5b07",
   "metadata": {},
   "outputs": [
    {
     "data": {
      "text/plain": [
       "Project Name\n",
       "Chora Club                                               5\n",
       "Fractal Visions                                          5\n",
       "Infinity Wallet                                          5\n",
       "Velodrome Finance                                        4\n",
       "TLX - Leveraged Tokens Protocol                          4\n",
       "                                                        ..\n",
       "Tokenbound: Tooling for 6551                             1\n",
       "SiloHaus - ERC6551 NFT Membership DAOs                   1\n",
       "PowerBridge.ai NFT : Skill Certification & Job Gating    1\n",
       "Pin Save - decentralized Pinterest ERC 6551 tooling      1\n",
       "Reflecticons Audit Grant Application                     1\n",
       "Name: count, Length: 1518, dtype: int64"
      ]
     },
     "execution_count": 8,
     "metadata": {},
     "output_type": "execute_result"
    }
   ],
   "source": [
    "df['Project Name'].value_counts()"
   ]
  },
  {
   "cell_type": "code",
   "execution_count": null,
   "id": "e5eeb6d2-e647-44cf-b7fe-27c484201818",
   "metadata": {},
   "outputs": [],
   "source": []
  }
 ],
 "metadata": {
  "kernelspec": {
   "display_name": "Python 3 (ipykernel)",
   "language": "python",
   "name": "python3"
  },
  "language_info": {
   "codemirror_mode": {
    "name": "ipython",
    "version": 3
   },
   "file_extension": ".py",
   "mimetype": "text/x-python",
   "name": "python",
   "nbconvert_exporter": "python",
   "pygments_lexer": "ipython3",
   "version": "3.11.7"
  }
 },
 "nbformat": 4,
 "nbformat_minor": 5
}
