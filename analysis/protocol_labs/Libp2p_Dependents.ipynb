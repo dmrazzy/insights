{
 "cells": [
  {
   "cell_type": "code",
   "execution_count": 1,
   "id": "f3b0ad87-194e-44ff-be7c-7213fa1b534b",
   "metadata": {},
   "outputs": [],
   "source": [
    "#! pip install pyoso"
   ]
  },
  {
   "cell_type": "code",
   "execution_count": 1,
   "id": "b2bfea51-098a-42da-b112-6cee31883d2b",
   "metadata": {},
   "outputs": [],
   "source": [
    "from dotenv import load_dotenv\n",
    "import os\n",
    "from pyoso import Client\n",
    "\n",
    "load_dotenv()\n",
    "OSO_API_KEY = os.environ['OSO_API_KEY']\n",
    "client = Client(api_key=OSO_API_KEY)"
   ]
  },
  {
   "cell_type": "code",
   "execution_count": 2,
   "id": "97f0954c-ebbb-4aea-9531-856df2683e74",
   "metadata": {},
   "outputs": [
    {
     "data": {
      "text/html": [
       "<div>\n",
       "<style scoped>\n",
       "    .dataframe tbody tr th:only-of-type {\n",
       "        vertical-align: middle;\n",
       "    }\n",
       "\n",
       "    .dataframe tbody tr th {\n",
       "        vertical-align: top;\n",
       "    }\n",
       "\n",
       "    .dataframe thead th {\n",
       "        text-align: right;\n",
       "    }\n",
       "</style>\n",
       "<table border=\"1\" class=\"dataframe\">\n",
       "  <thead>\n",
       "    <tr style=\"text-align: right;\">\n",
       "      <th></th>\n",
       "      <th>package_artifact_source</th>\n",
       "      <th>package_artifact_name</th>\n",
       "    </tr>\n",
       "  </thead>\n",
       "  <tbody>\n",
       "    <tr>\n",
       "      <th>0</th>\n",
       "      <td>NPM</td>\n",
       "      <td>@libp2p/interface-pubsub</td>\n",
       "    </tr>\n",
       "    <tr>\n",
       "      <th>1</th>\n",
       "      <td>NPM</td>\n",
       "      <td>@libp2p/interface-peer-id</td>\n",
       "    </tr>\n",
       "    <tr>\n",
       "      <th>2</th>\n",
       "      <td>GO</td>\n",
       "      <td>github.com/libp2p/go-libp2p-peerstore</td>\n",
       "    </tr>\n",
       "    <tr>\n",
       "      <th>3</th>\n",
       "      <td>GO</td>\n",
       "      <td>github.com/libp2p/go-cidranger</td>\n",
       "    </tr>\n",
       "    <tr>\n",
       "      <th>4</th>\n",
       "      <td>RUST</td>\n",
       "      <td>libp2p-identify</td>\n",
       "    </tr>\n",
       "    <tr>\n",
       "      <th>...</th>\n",
       "      <td>...</td>\n",
       "      <td>...</td>\n",
       "    </tr>\n",
       "    <tr>\n",
       "      <th>253</th>\n",
       "      <td>NPM</td>\n",
       "      <td>interface-connection</td>\n",
       "    </tr>\n",
       "    <tr>\n",
       "      <th>254</th>\n",
       "      <td>GO</td>\n",
       "      <td>github.com/libp2p/go-libp2p-consensus</td>\n",
       "    </tr>\n",
       "    <tr>\n",
       "      <th>255</th>\n",
       "      <td>GO</td>\n",
       "      <td>github.com/libp2p/go-libp2p-nat</td>\n",
       "    </tr>\n",
       "    <tr>\n",
       "      <th>256</th>\n",
       "      <td>GO</td>\n",
       "      <td>github.com/libp2p/go-yamux/v3</td>\n",
       "    </tr>\n",
       "    <tr>\n",
       "      <th>257</th>\n",
       "      <td>NPM</td>\n",
       "      <td>libp2p-multiplex</td>\n",
       "    </tr>\n",
       "  </tbody>\n",
       "</table>\n",
       "<p>258 rows × 2 columns</p>\n",
       "</div>"
      ],
      "text/plain": [
       "    package_artifact_source                  package_artifact_name\n",
       "0                       NPM               @libp2p/interface-pubsub\n",
       "1                       NPM              @libp2p/interface-peer-id\n",
       "2                        GO  github.com/libp2p/go-libp2p-peerstore\n",
       "3                        GO         github.com/libp2p/go-cidranger\n",
       "4                      RUST                        libp2p-identify\n",
       "..                      ...                                    ...\n",
       "253                     NPM                   interface-connection\n",
       "254                      GO  github.com/libp2p/go-libp2p-consensus\n",
       "255                      GO        github.com/libp2p/go-libp2p-nat\n",
       "256                      GO          github.com/libp2p/go-yamux/v3\n",
       "257                     NPM                       libp2p-multiplex\n",
       "\n",
       "[258 rows x 2 columns]"
      ]
     },
     "execution_count": 2,
     "metadata": {},
     "output_type": "execute_result"
    }
   ],
   "source": [
    "df_pkg = client.to_pandas(\"\"\"\n",
    "SELECT DISTINCT \n",
    "  package_artifact_source,\n",
    "  package_artifact_name\n",
    "FROM package_owners_v0 \n",
    "WHERE package_owner_artifact_namespace = 'libp2p'\n",
    "\"\"\")\n",
    "df_pkg"
   ]
  },
  {
   "cell_type": "code",
   "execution_count": 11,
   "id": "5a0e325d-0375-4ba1-bd74-355461fc3442",
   "metadata": {},
   "outputs": [
    {
     "data": {
      "text/html": [
       "<div>\n",
       "<style scoped>\n",
       "    .dataframe tbody tr th:only-of-type {\n",
       "        vertical-align: middle;\n",
       "    }\n",
       "\n",
       "    .dataframe tbody tr th {\n",
       "        vertical-align: top;\n",
       "    }\n",
       "\n",
       "    .dataframe thead th {\n",
       "        text-align: right;\n",
       "    }\n",
       "</style>\n",
       "<table border=\"1\" class=\"dataframe\">\n",
       "  <thead>\n",
       "    <tr style=\"text-align: right;\">\n",
       "      <th></th>\n",
       "      <th>dependent</th>\n",
       "      <th>stars</th>\n",
       "      <th>package</th>\n",
       "      <th>source</th>\n",
       "    </tr>\n",
       "  </thead>\n",
       "  <tbody>\n",
       "    <tr>\n",
       "      <th>26317</th>\n",
       "      <td>ipfs/kubo</td>\n",
       "      <td>16461</td>\n",
       "      <td>github.com/libp2p/go-libp2p-peerstore</td>\n",
       "      <td>GO</td>\n",
       "    </tr>\n",
       "    <tr>\n",
       "      <th>26318</th>\n",
       "      <td>ipfs/kubo</td>\n",
       "      <td>16461</td>\n",
       "      <td>github.com/libp2p/go-reuseport</td>\n",
       "      <td>GO</td>\n",
       "    </tr>\n",
       "    <tr>\n",
       "      <th>26319</th>\n",
       "      <td>ipfs/kubo</td>\n",
       "      <td>16461</td>\n",
       "      <td>github.com/libp2p/go-libp2p-http</td>\n",
       "      <td>GO</td>\n",
       "    </tr>\n",
       "    <tr>\n",
       "      <th>26320</th>\n",
       "      <td>ipfs/kubo</td>\n",
       "      <td>16461</td>\n",
       "      <td>github.com/libp2p/go-libp2p-core</td>\n",
       "      <td>GO</td>\n",
       "    </tr>\n",
       "    <tr>\n",
       "      <th>26321</th>\n",
       "      <td>ipfs/kubo</td>\n",
       "      <td>16461</td>\n",
       "      <td>github.com/libp2p/go-nat</td>\n",
       "      <td>GO</td>\n",
       "    </tr>\n",
       "  </tbody>\n",
       "</table>\n",
       "</div>"
      ],
      "text/plain": [
       "       dependent  stars                                package source\n",
       "26317  ipfs/kubo  16461  github.com/libp2p/go-libp2p-peerstore     GO\n",
       "26318  ipfs/kubo  16461         github.com/libp2p/go-reuseport     GO\n",
       "26319  ipfs/kubo  16461       github.com/libp2p/go-libp2p-http     GO\n",
       "26320  ipfs/kubo  16461       github.com/libp2p/go-libp2p-core     GO\n",
       "26321  ipfs/kubo  16461               github.com/libp2p/go-nat     GO"
      ]
     },
     "execution_count": 11,
     "metadata": {},
     "output_type": "execute_result"
    }
   ],
   "source": [
    "df_deps = client.to_pandas(\"\"\"\n",
    "SELECT DISTINCT\n",
    "  CONCAT(s.from_artifact_namespace, '/', s.from_artifact_name) AS dependent,\n",
    "  COALESCE(r.star_count,0) AS stars,\n",
    "  s.to_package_artifact_name AS package,\n",
    "  s.to_package_artifact_source AS source\n",
    "FROM sboms_v0 AS s\n",
    "JOIN package_owners_v0 AS pkgs ON\n",
    "  s.to_package_artifact_source = pkgs.package_artifact_source\n",
    "  AND s.to_package_artifact_name = pkgs.package_artifact_name\n",
    "JOIN repositories_v0 AS r\n",
    "  ON s.from_artifact_id = r.artifact_id\n",
    "WHERE package_owner_artifact_namespace = 'libp2p'\n",
    "ORDER BY 2\n",
    "\"\"\")\n",
    "df_deps.tail()"
   ]
  },
  {
   "cell_type": "code",
   "execution_count": 12,
   "id": "3baae097-32b7-4775-8095-acdc252ab52a",
   "metadata": {},
   "outputs": [
    {
     "data": {
      "text/plain": [
       "2920"
      ]
     },
     "execution_count": 12,
     "metadata": {},
     "output_type": "execute_result"
    }
   ],
   "source": [
    "df_deps['dependent'].nunique()"
   ]
  },
  {
   "cell_type": "code",
   "execution_count": 9,
   "id": "4da058fd-1a65-412e-bd1c-9629e9143b65",
   "metadata": {},
   "outputs": [
    {
     "data": {
      "text/plain": [
       "package                               source\n",
       "libp2p-crypto                         NPM       1632\n",
       "peer-id                               NPM       1629\n",
       "peer-info                             NPM       1023\n",
       "libp2p-crypto-secp256k1               NPM       1002\n",
       "github.com/libp2p/go-buffer-pool      GO         577\n",
       "libp2p                                NPM        470\n",
       "github.com/libp2p/go-libp2p           GO         465\n",
       "@libp2p/logger                        NPM        455\n",
       "@libp2p/peer-id                       NPM        436\n",
       "github.com/libp2p/go-flow-metrics     GO         354\n",
       "github.com/libp2p/go-msgio            GO         346\n",
       "@libp2p/interface                     NPM        322\n",
       "github.com/libp2p/go-netroute         GO         308\n",
       "@libp2p/interfaces                    NPM        301\n",
       "@libp2p/crypto                        NPM        295\n",
       "github.com/libp2p/go-libp2p-asn-util  GO         291\n",
       "github.com/libp2p/go-nat              GO         289\n",
       "github.com/libp2p/go-reuseport        GO         288\n",
       "libp2p-websockets                     NPM        283\n",
       "libp2p-tcp                            NPM        272\n",
       "@libp2p/interface-peer-id             NPM        261\n",
       "github.com/libp2p/go-cidranger        GO         247\n",
       "github.com/libp2p/go-libp2p-pubsub    GO         246\n",
       "libp2p-webrtc-star                    NPM        245\n",
       "libp2p-mplex                          NPM        243\n",
       "libp2p-bootstrap                      NPM        242\n",
       "libp2p-record                         NPM        240\n",
       "libp2p-kad-dht                        NPM        238\n",
       "libp2p-mdns                           NPM        227\n",
       "github.com/libp2p/go-yamux/v4         GO         221\n",
       "Name: dependent, dtype: int64"
      ]
     },
     "execution_count": 9,
     "metadata": {},
     "output_type": "execute_result"
    }
   ],
   "source": [
    "df_deps.groupby(['package', 'source'])['dependent'].nunique().sort_values(ascending=False).head(30)"
   ]
  }
 ],
 "metadata": {
  "kernelspec": {
   "display_name": "Python 3 (ipykernel)",
   "language": "python",
   "name": "python3"
  },
  "language_info": {
   "codemirror_mode": {
    "name": "ipython",
    "version": 3
   },
   "file_extension": ".py",
   "mimetype": "text/x-python",
   "name": "python",
   "nbconvert_exporter": "python",
   "pygments_lexer": "ipython3",
   "version": "3.11.7"
  }
 },
 "nbformat": 4,
 "nbformat_minor": 5
}
