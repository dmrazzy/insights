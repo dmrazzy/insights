{
 "cells": [
  {
   "cell_type": "code",
   "execution_count": 1,
   "id": "87fb6ace-5094-46bb-a7dd-ca8bd54bd266",
   "metadata": {},
   "outputs": [],
   "source": [
    "from dotenv import load_dotenv\n",
    "import os\n",
    "import pandas as pd\n",
    "from pyoso import Client"
   ]
  },
  {
   "cell_type": "code",
   "execution_count": 2,
   "id": "3e9915ae-0681-449d-911c-b0d1d73ec77d",
   "metadata": {},
   "outputs": [],
   "source": [
    "load_dotenv()\n",
    "OSO_API_KEY = os.environ['OSO_API_KEY']\n",
    "client = Client(api_key=OSO_API_KEY)\n",
    "stringify = lambda arr: \"'\" + \"','\".join(arr) + \"'\""
   ]
  },
  {
   "cell_type": "code",
   "execution_count": 3,
   "id": "9cf797ae-5eeb-4108-b5d0-fc75ed147167",
   "metadata": {},
   "outputs": [
    {
     "data": {
      "text/html": [
       "<div>\n",
       "<style scoped>\n",
       "    .dataframe tbody tr th:only-of-type {\n",
       "        vertical-align: middle;\n",
       "    }\n",
       "\n",
       "    .dataframe tbody tr th {\n",
       "        vertical-align: top;\n",
       "    }\n",
       "\n",
       "    .dataframe thead th {\n",
       "        text-align: right;\n",
       "    }\n",
       "</style>\n",
       "<table border=\"1\" class=\"dataframe\">\n",
       "  <thead>\n",
       "    <tr style=\"text-align: right;\">\n",
       "      <th></th>\n",
       "      <th>id</th>\n",
       "      <th>source_id</th>\n",
       "      <th>company_name</th>\n",
       "      <th>artifact_source</th>\n",
       "      <th>artifact_owner</th>\n",
       "      <th>artifact_url</th>\n",
       "      <th>project_id</th>\n",
       "      <th>project_name</th>\n",
       "      <th>project_source</th>\n",
       "    </tr>\n",
       "  </thead>\n",
       "  <tbody>\n",
       "    <tr>\n",
       "      <th>927</th>\n",
       "      <td>11955459</td>\n",
       "      <td>27137803</td>\n",
       "      <td>StarkWare</td>\n",
       "      <td>GITHUB</td>\n",
       "      <td>starkware-libs</td>\n",
       "      <td>https://github.com/starkware-libs/</td>\n",
       "      <td>lNqoII6wtI94+eO0CQYs64TYxfEDEbO0zoe0jvkx76A=</td>\n",
       "      <td>evm_compatible_l1_and_l2</td>\n",
       "      <td>CRYPTO_ECOSYSTEMS</td>\n",
       "    </tr>\n",
       "    <tr>\n",
       "      <th>928</th>\n",
       "      <td>11955459</td>\n",
       "      <td>27137803</td>\n",
       "      <td>StarkWare</td>\n",
       "      <td>GITHUB</td>\n",
       "      <td>starkware-libs</td>\n",
       "      <td>https://github.com/starkware-libs/</td>\n",
       "      <td>djOtUQeW/loZ+Lqh23zgOwkd8gWOVzU7V1avY/dYucM=</td>\n",
       "      <td>starkware</td>\n",
       "      <td>CRYPTO_ECOSYSTEMS</td>\n",
       "    </tr>\n",
       "    <tr>\n",
       "      <th>929</th>\n",
       "      <td>11955459</td>\n",
       "      <td>27137803</td>\n",
       "      <td>StarkWare</td>\n",
       "      <td>GITHUB</td>\n",
       "      <td>starkware-libs</td>\n",
       "      <td>https://github.com/starkware-libs/</td>\n",
       "      <td>qpiHJg+5NXEuPhvKFQqvYgZMupR3PUYwz9tSaRiPtSk=</td>\n",
       "      <td>ethereum_virtual_machine_stack</td>\n",
       "      <td>CRYPTO_ECOSYSTEMS</td>\n",
       "    </tr>\n",
       "    <tr>\n",
       "      <th>930</th>\n",
       "      <td>11955459</td>\n",
       "      <td>27137803</td>\n",
       "      <td>StarkWare</td>\n",
       "      <td>GITHUB</td>\n",
       "      <td>starkware-libs</td>\n",
       "      <td>https://github.com/starkware-libs/</td>\n",
       "      <td>vIQVpiYSnNCNRhmm4tb7KhrewmKY8Dr6nN93dtkuqUU=</td>\n",
       "      <td>general</td>\n",
       "      <td>CRYPTO_ECOSYSTEMS</td>\n",
       "    </tr>\n",
       "    <tr>\n",
       "      <th>931</th>\n",
       "      <td>11955459</td>\n",
       "      <td>27137803</td>\n",
       "      <td>StarkWare</td>\n",
       "      <td>GITHUB</td>\n",
       "      <td>starkware-libs</td>\n",
       "      <td>https://github.com/starkware-libs/</td>\n",
       "      <td>YsfvQxS1Dmj0Zvg7NevlHd/+HKFPDuaY079FvYeSsAc=</td>\n",
       "      <td>starknet</td>\n",
       "      <td>CRYPTO_ECOSYSTEMS</td>\n",
       "    </tr>\n",
       "  </tbody>\n",
       "</table>\n",
       "</div>"
      ],
      "text/plain": [
       "           id source_id company_name artifact_source  artifact_owner  \\\n",
       "927  11955459  27137803    StarkWare          GITHUB  starkware-libs   \n",
       "928  11955459  27137803    StarkWare          GITHUB  starkware-libs   \n",
       "929  11955459  27137803    StarkWare          GITHUB  starkware-libs   \n",
       "930  11955459  27137803    StarkWare          GITHUB  starkware-libs   \n",
       "931  11955459  27137803    StarkWare          GITHUB  starkware-libs   \n",
       "\n",
       "                           artifact_url  \\\n",
       "927  https://github.com/starkware-libs/   \n",
       "928  https://github.com/starkware-libs/   \n",
       "929  https://github.com/starkware-libs/   \n",
       "930  https://github.com/starkware-libs/   \n",
       "931  https://github.com/starkware-libs/   \n",
       "\n",
       "                                       project_id  \\\n",
       "927  lNqoII6wtI94+eO0CQYs64TYxfEDEbO0zoe0jvkx76A=   \n",
       "928  djOtUQeW/loZ+Lqh23zgOwkd8gWOVzU7V1avY/dYucM=   \n",
       "929  qpiHJg+5NXEuPhvKFQqvYgZMupR3PUYwz9tSaRiPtSk=   \n",
       "930  vIQVpiYSnNCNRhmm4tb7KhrewmKY8Dr6nN93dtkuqUU=   \n",
       "931  YsfvQxS1Dmj0Zvg7NevlHd/+HKFPDuaY079FvYeSsAc=   \n",
       "\n",
       "                       project_name     project_source  \n",
       "927        evm_compatible_l1_and_l2  CRYPTO_ECOSYSTEMS  \n",
       "928                       starkware  CRYPTO_ECOSYSTEMS  \n",
       "929  ethereum_virtual_machine_stack  CRYPTO_ECOSYSTEMS  \n",
       "930                         general  CRYPTO_ECOSYSTEMS  \n",
       "931                        starknet  CRYPTO_ECOSYSTEMS  "
      ]
     },
     "execution_count": 3,
     "metadata": {},
     "output_type": "execute_result"
    }
   ],
   "source": [
    "df_social = client.to_pandas(\"\"\"\n",
    "\n",
    "WITH social AS (\n",
    "  SELECT \n",
    "    id,\n",
    "    source_id,\n",
    "    company_name,\n",
    "    'TWITTER' AS artifact_source,\n",
    "    REGEXP_EXTRACT(artifact_url, '(?:twitter|x)\\\\.com/([^/?#]+)', 1) AS artifact_owner,\n",
    "    artifact_url\n",
    "  FROM dynamic.oso.coresignal_company_data\n",
    "  CROSS JOIN UNNEST(CAST(twitter_url AS ARRAY(VARCHAR))) AS t(artifact_url)\n",
    "\n",
    "  UNION ALL\n",
    "\n",
    "  SELECT \n",
    "    id,\n",
    "    source_id,\n",
    "    company_name,\n",
    "    'GITHUB' AS artifact_source,\n",
    "    REGEXP_EXTRACT(artifact_url, 'github\\\\.com/([^/?#]+)', 1) AS artifact_owner,\n",
    "    artifact_url\n",
    "  FROM dynamic.oso.coresignal_company_data\n",
    "  CROSS JOIN UNNEST(CAST(github_url AS ARRAY(VARCHAR))) AS g(artifact_url)\n",
    "),\n",
    "\n",
    "normalized AS (\n",
    "  SELECT DISTINCT\n",
    "    id,\n",
    "    source_id,\n",
    "    company_name,\n",
    "    artifact_source,\n",
    "    artifact_owner\n",
    "  FROM social\n",
    "),\n",
    "\n",
    "abp AS (\n",
    "   SELECT DISTINCT\n",
    "     project_id,\n",
    "     project_name,\n",
    "     project_source,\n",
    "     artifact_source,\n",
    "     CASE\n",
    "       WHEN artifact_source = 'GITHUB' THEN artifact_namespace\n",
    "       ELSE artifact_name\n",
    "     END AS artifact_owner\n",
    "   FROM oso.artifacts_by_project_v1\n",
    "   WHERE\n",
    "     artifact_source IN ('GITHUB', 'TWITTER')\n",
    "     AND project_source IN ('OSS_DIRECTORY', 'CRYPTO_ECOSYSTEMS')\n",
    "     AND project_namespace IN ('oso', 'eco')\n",
    ")\n",
    "\n",
    "SELECT\n",
    "  social.*,\n",
    "  abp.project_id,\n",
    "  abp.project_name,\n",
    "  abp.project_source\n",
    "FROM social\n",
    "LEFT JOIN abp\n",
    "ON\n",
    "  social.artifact_source = abp.artifact_source\n",
    "  AND social.artifact_owner = abp.artifact_owner\n",
    "\"\"\")\n",
    "\n",
    "df_social.tail()"
   ]
  },
  {
   "cell_type": "code",
   "execution_count": 4,
   "id": "53ed80cf-d295-47aa-803a-1f2815997132",
   "metadata": {},
   "outputs": [
    {
     "data": {
      "text/plain": [
       "company_name\n",
       "Across Protocol            [OSS_DIRECTORY, CRYPTO_ECOSYSTEMS]\n",
       "Aevo                       [CRYPTO_ECOSYSTEMS, OSS_DIRECTORY]\n",
       "Axiom                      [CRYPTO_ECOSYSTEMS, OSS_DIRECTORY]\n",
       "Babylon Labs                              [CRYPTO_ECOSYSTEMS]\n",
       "Category Labs                                 [OSS_DIRECTORY]\n",
       "Conduit                                       [OSS_DIRECTORY]\n",
       "Farcaster                  [OSS_DIRECTORY, CRYPTO_ECOSYSTEMS]\n",
       "Flashbots                  [CRYPTO_ECOSYSTEMS, OSS_DIRECTORY]\n",
       "IGNITE                                    [CRYPTO_ECOSYSTEMS]\n",
       "Lido Finance               [OSS_DIRECTORY, CRYPTO_ECOSYSTEMS]\n",
       "Lightspark                                [CRYPTO_ECOSYSTEMS]\n",
       "Numerai                                   [CRYPTO_ECOSYSTEMS]\n",
       "Optimism Foundation        [OSS_DIRECTORY, CRYPTO_ECOSYSTEMS]\n",
       "Privy                      [OSS_DIRECTORY, CRYPTO_ECOSYSTEMS]\n",
       "Ready (formerly Argent)    [CRYPTO_ECOSYSTEMS, OSS_DIRECTORY]\n",
       "Reflexer Labs              [CRYPTO_ECOSYSTEMS, OSS_DIRECTORY]\n",
       "Showtime.xyz                                  [OSS_DIRECTORY]\n",
       "StarkWare                                 [CRYPTO_ECOSYSTEMS]\n",
       "Succinct                                  [CRYPTO_ECOSYSTEMS]\n",
       "Symbiotic                  [CRYPTO_ECOSYSTEMS, OSS_DIRECTORY]\n",
       "Synthetix                  [CRYPTO_ECOSYSTEMS, OSS_DIRECTORY]\n",
       "Vana                                      [CRYPTO_ECOSYSTEMS]\n",
       "ZORA                                          [OSS_DIRECTORY]\n",
       "friend.tech                                   [OSS_DIRECTORY]\n",
       "Name: project_source, dtype: object"
      ]
     },
     "execution_count": 4,
     "metadata": {},
     "output_type": "execute_result"
    }
   ],
   "source": [
    "df_social[df_social['project_source'].notnull()].groupby('company_name')['project_source'].unique()"
   ]
  },
  {
   "cell_type": "code",
   "execution_count": 5,
   "id": "fc21a672-036b-4580-9a13-67e3a325fee4",
   "metadata": {},
   "outputs": [
    {
     "data": {
      "text/html": [
       "<div>\n",
       "<style scoped>\n",
       "    .dataframe tbody tr th:only-of-type {\n",
       "        vertical-align: middle;\n",
       "    }\n",
       "\n",
       "    .dataframe tbody tr th {\n",
       "        vertical-align: top;\n",
       "    }\n",
       "\n",
       "    .dataframe thead th {\n",
       "        text-align: right;\n",
       "    }\n",
       "</style>\n",
       "<table border=\"1\" class=\"dataframe\">\n",
       "  <thead>\n",
       "    <tr style=\"text-align: right;\">\n",
       "      <th></th>\n",
       "      <th>sample_date</th>\n",
       "      <th>project_id</th>\n",
       "      <th>amount</th>\n",
       "    </tr>\n",
       "  </thead>\n",
       "  <tbody>\n",
       "    <tr>\n",
       "      <th>0</th>\n",
       "      <td>2015-09-01</td>\n",
       "      <td>CgkycgswSzo7Brgjj4YzC6Gbc0QVAof11N2O2WIjBPc=</td>\n",
       "      <td>5</td>\n",
       "    </tr>\n",
       "    <tr>\n",
       "      <th>1</th>\n",
       "      <td>2015-09-01</td>\n",
       "      <td>k6zRH9KxxI0T5WynhD3Rp0ziptk7KZ02O6+oB54ppiI=</td>\n",
       "      <td>1</td>\n",
       "    </tr>\n",
       "    <tr>\n",
       "      <th>2</th>\n",
       "      <td>2015-09-01</td>\n",
       "      <td>xZBoQciQXIw5xZtAITyCe2bTrLHnwKv8Ps7Hhu4eBH4=</td>\n",
       "      <td>2</td>\n",
       "    </tr>\n",
       "    <tr>\n",
       "      <th>3</th>\n",
       "      <td>2015-09-01</td>\n",
       "      <td>vD6QgU2nKpWiutcCnblDJkVHtDkLDH6oyITV+xpe3+g=</td>\n",
       "      <td>2</td>\n",
       "    </tr>\n",
       "    <tr>\n",
       "      <th>4</th>\n",
       "      <td>2015-09-01</td>\n",
       "      <td>Cn4LnfscnqeswZETDHcax6WtmPFyrNJmAknJ6hNuRtQ=</td>\n",
       "      <td>23</td>\n",
       "    </tr>\n",
       "    <tr>\n",
       "      <th>...</th>\n",
       "      <td>...</td>\n",
       "      <td>...</td>\n",
       "      <td>...</td>\n",
       "    </tr>\n",
       "    <tr>\n",
       "      <th>2319</th>\n",
       "      <td>2025-02-01</td>\n",
       "      <td>JVxPdLa4HkEyVsPqDaBpZLQKMaxKLkhHtP8DM1Hc4Ho=</td>\n",
       "      <td>2</td>\n",
       "    </tr>\n",
       "    <tr>\n",
       "      <th>2320</th>\n",
       "      <td>2025-02-01</td>\n",
       "      <td>NgP0Wx6bYjRNFem2uqgwQDgI7uEir12R/KBBDSHZBzY=</td>\n",
       "      <td>7</td>\n",
       "    </tr>\n",
       "    <tr>\n",
       "      <th>2321</th>\n",
       "      <td>2025-02-01</td>\n",
       "      <td>up2MCAf75n3h1mqBH/puN9wEuJnTWuoaCdBY9A5/Kww=</td>\n",
       "      <td>7</td>\n",
       "    </tr>\n",
       "    <tr>\n",
       "      <th>2322</th>\n",
       "      <td>2025-05-01</td>\n",
       "      <td>/tZOhveeZLBHY4bD+zn1WaRDnF/FCiHwVtuN9q+dKgE=</td>\n",
       "      <td>2</td>\n",
       "    </tr>\n",
       "    <tr>\n",
       "      <th>2323</th>\n",
       "      <td>2025-05-01</td>\n",
       "      <td>L1FGc2AIMWcbDulPkpgzndWnljElZEAxxr+jPOdn0WQ=</td>\n",
       "      <td>4</td>\n",
       "    </tr>\n",
       "  </tbody>\n",
       "</table>\n",
       "<p>2324 rows × 3 columns</p>\n",
       "</div>"
      ],
      "text/plain": [
       "     sample_date                                    project_id  amount\n",
       "0     2015-09-01  CgkycgswSzo7Brgjj4YzC6Gbc0QVAof11N2O2WIjBPc=       5\n",
       "1     2015-09-01  k6zRH9KxxI0T5WynhD3Rp0ziptk7KZ02O6+oB54ppiI=       1\n",
       "2     2015-09-01  xZBoQciQXIw5xZtAITyCe2bTrLHnwKv8Ps7Hhu4eBH4=       2\n",
       "3     2015-09-01  vD6QgU2nKpWiutcCnblDJkVHtDkLDH6oyITV+xpe3+g=       2\n",
       "4     2015-09-01  Cn4LnfscnqeswZETDHcax6WtmPFyrNJmAknJ6hNuRtQ=      23\n",
       "...          ...                                           ...     ...\n",
       "2319  2025-02-01  JVxPdLa4HkEyVsPqDaBpZLQKMaxKLkhHtP8DM1Hc4Ho=       2\n",
       "2320  2025-02-01  NgP0Wx6bYjRNFem2uqgwQDgI7uEir12R/KBBDSHZBzY=       7\n",
       "2321  2025-02-01  up2MCAf75n3h1mqBH/puN9wEuJnTWuoaCdBY9A5/Kww=       7\n",
       "2322  2025-05-01  /tZOhveeZLBHY4bD+zn1WaRDnF/FCiHwVtuN9q+dKgE=       2\n",
       "2323  2025-05-01  L1FGc2AIMWcbDulPkpgzndWnljElZEAxxr+jPOdn0WQ=       4\n",
       "\n",
       "[2324 rows x 3 columns]"
      ]
     },
     "execution_count": 5,
     "metadata": {},
     "output_type": "execute_result"
    }
   ],
   "source": [
    "project_ids = df_social[df_social['project_source'] == 'OSS_DIRECTORY']['project_id'].unique()\n",
    "df_metrics = client.to_pandas(f\"\"\"\n",
    "SELECT\n",
    "  sample_date,\n",
    "  project_id,\n",
    "  amount\n",
    "FROM timeseries_metrics_by_project_v0\n",
    "JOIN metrics_v0 USING metric_id\n",
    "WHERE\n",
    "  project_id IN ({stringify(project_ids)})\n",
    "  AND metric_name = 'GITHUB_active_developers_monthly'\n",
    "\"\"\")\n",
    "df_metrics"
   ]
  },
  {
   "cell_type": "code",
   "execution_count": 6,
   "id": "e3e20296-7c44-4387-b91f-954b286025f8",
   "metadata": {},
   "outputs": [
    {
     "data": {
      "text/html": [
       "<div>\n",
       "<style scoped>\n",
       "    .dataframe tbody tr th:only-of-type {\n",
       "        vertical-align: middle;\n",
       "    }\n",
       "\n",
       "    .dataframe tbody tr th {\n",
       "        vertical-align: top;\n",
       "    }\n",
       "\n",
       "    .dataframe thead th {\n",
       "        text-align: right;\n",
       "    }\n",
       "</style>\n",
       "<table border=\"1\" class=\"dataframe\">\n",
       "  <thead>\n",
       "    <tr style=\"text-align: right;\">\n",
       "      <th></th>\n",
       "      <th>id</th>\n",
       "      <th>source_id</th>\n",
       "      <th>company_name</th>\n",
       "      <th>announced_date</th>\n",
       "      <th>funding_round_name</th>\n",
       "      <th>lead_investor</th>\n",
       "      <th>num_investors</th>\n",
       "      <th>amount_raised</th>\n",
       "    </tr>\n",
       "  </thead>\n",
       "  <tbody>\n",
       "    <tr>\n",
       "      <th>615</th>\n",
       "      <td>88844498</td>\n",
       "      <td>82289134</td>\n",
       "      <td>Landeed | YC</td>\n",
       "      <td>2022-08-10</td>\n",
       "      <td>Pre Seed Round - Landeed</td>\n",
       "      <td>Goodwater Capital</td>\n",
       "      <td>9</td>\n",
       "      <td>2461165</td>\n",
       "    </tr>\n",
       "    <tr>\n",
       "      <th>616</th>\n",
       "      <td>88844498</td>\n",
       "      <td>82289134</td>\n",
       "      <td>Landeed | YC</td>\n",
       "      <td>2022-08-10</td>\n",
       "      <td>Pre Seed Round - Landeed</td>\n",
       "      <td>Justin Hamilton</td>\n",
       "      <td>9</td>\n",
       "      <td>2461165</td>\n",
       "    </tr>\n",
       "    <tr>\n",
       "      <th>617</th>\n",
       "      <td>88844498</td>\n",
       "      <td>82289134</td>\n",
       "      <td>Landeed | YC</td>\n",
       "      <td>2022-08-10</td>\n",
       "      <td>Pre Seed Round - Landeed</td>\n",
       "      <td>Kunal Shah</td>\n",
       "      <td>9</td>\n",
       "      <td>2461165</td>\n",
       "    </tr>\n",
       "    <tr>\n",
       "      <th>618</th>\n",
       "      <td>88844498</td>\n",
       "      <td>82289134</td>\n",
       "      <td>Landeed | YC</td>\n",
       "      <td>2022-08-10</td>\n",
       "      <td>Pre Seed Round - Landeed</td>\n",
       "      <td>Manmohan Chandolu</td>\n",
       "      <td>9</td>\n",
       "      <td>2461165</td>\n",
       "    </tr>\n",
       "    <tr>\n",
       "      <th>619</th>\n",
       "      <td>88844498</td>\n",
       "      <td>82289134</td>\n",
       "      <td>Landeed | YC</td>\n",
       "      <td>2022-08-10</td>\n",
       "      <td>Pre Seed Round - Landeed</td>\n",
       "      <td>Olive Tree Holdings</td>\n",
       "      <td>9</td>\n",
       "      <td>2461165</td>\n",
       "    </tr>\n",
       "  </tbody>\n",
       "</table>\n",
       "</div>"
      ],
      "text/plain": [
       "           id source_id  company_name announced_date  \\\n",
       "615  88844498  82289134  Landeed | YC     2022-08-10   \n",
       "616  88844498  82289134  Landeed | YC     2022-08-10   \n",
       "617  88844498  82289134  Landeed | YC     2022-08-10   \n",
       "618  88844498  82289134  Landeed | YC     2022-08-10   \n",
       "619  88844498  82289134  Landeed | YC     2022-08-10   \n",
       "\n",
       "           funding_round_name        lead_investor  num_investors  \\\n",
       "615  Pre Seed Round - Landeed    Goodwater Capital              9   \n",
       "616  Pre Seed Round - Landeed      Justin Hamilton              9   \n",
       "617  Pre Seed Round - Landeed           Kunal Shah              9   \n",
       "618  Pre Seed Round - Landeed    Manmohan Chandolu              9   \n",
       "619  Pre Seed Round - Landeed  Olive Tree Holdings              9   \n",
       "\n",
       "     amount_raised  \n",
       "615        2461165  \n",
       "616        2461165  \n",
       "617        2461165  \n",
       "618        2461165  \n",
       "619        2461165  "
      ]
     },
     "execution_count": 6,
     "metadata": {},
     "output_type": "execute_result"
    }
   ],
   "source": [
    "df_funding = client.to_pandas(\"\"\"\n",
    "\n",
    "WITH\n",
    "  base AS (\n",
    "    SELECT id,source_id,company_name,CAST(funding_rounds AS ARRAY(JSON)) AS rounds\n",
    "    FROM dynamic.oso.coresignal_company_data\n",
    "  ), \n",
    "  normalized AS (\n",
    "    SELECT\n",
    "      b.id,\n",
    "      b.source_id,\n",
    "      b.company_name,\n",
    "      JSON_EXTRACT_SCALAR(r,'$.name') AS funding_round_name,\n",
    "      JSON_EXTRACT_SCALAR(r,'$.announced_date') AS announced_date,\n",
    "      TRY_CAST(REGEXP_REPLACE(JSON_EXTRACT_SCALAR(r,'$.amount_raised'),'[, ]','') AS DOUBLE) AS amount_raised,\n",
    "      JSON_EXTRACT_SCALAR(r,'$.amount_raised_currency') AS currency,\n",
    "      TRY_CAST(JSON_EXTRACT_SCALAR(r,'$.num_investors') AS INTEGER) AS num_investors,\n",
    "      g.lead_investor\n",
    "    FROM base AS b\n",
    "    CROSS JOIN UNNEST(b.rounds) AS u(r)\n",
    "    LEFT JOIN UNNEST(\n",
    "      COALESCE(\n",
    "        CAST(JSON_EXTRACT(r,'$.lead_investors') AS ARRAY(VARCHAR)),\n",
    "        CAST(ARRAY[] AS ARRAY(VARCHAR))\n",
    "      )\n",
    "    ) AS g(lead_investor) ON TRUE\n",
    "  )\n",
    "  SELECT\n",
    "    id,\n",
    "    source_id,\n",
    "    company_name,\n",
    "    announced_date,\n",
    "    funding_round_name,\n",
    "    lead_investor,\n",
    "    num_investors,\n",
    "    amount_raised\n",
    "  FROM normalized\n",
    "  WHERE currency IN ('USD', '$')\n",
    "\"\"\")\n",
    "\n",
    "df_funding.tail()"
   ]
  },
  {
   "cell_type": "code",
   "execution_count": 7,
   "id": "8e7a96dc-383d-4029-8291-a2aa6743fa9f",
   "metadata": {},
   "outputs": [
    {
     "data": {
      "text/html": [
       "<div>\n",
       "<style scoped>\n",
       "    .dataframe tbody tr th:only-of-type {\n",
       "        vertical-align: middle;\n",
       "    }\n",
       "\n",
       "    .dataframe tbody tr th {\n",
       "        vertical-align: top;\n",
       "    }\n",
       "\n",
       "    .dataframe thead th {\n",
       "        text-align: right;\n",
       "    }\n",
       "</style>\n",
       "<table border=\"1\" class=\"dataframe\">\n",
       "  <thead>\n",
       "    <tr style=\"text-align: right;\">\n",
       "      <th></th>\n",
       "      <th>id</th>\n",
       "      <th>source_id</th>\n",
       "      <th>company_name</th>\n",
       "      <th>announced_date</th>\n",
       "      <th>funding_round_name</th>\n",
       "      <th>lead_investor</th>\n",
       "      <th>num_investors</th>\n",
       "      <th>amount_raised</th>\n",
       "      <th>project_id</th>\n",
       "    </tr>\n",
       "  </thead>\n",
       "  <tbody>\n",
       "    <tr>\n",
       "      <th>190</th>\n",
       "      <td>81779390</td>\n",
       "      <td>75574122</td>\n",
       "      <td>Flashbots</td>\n",
       "      <td>2023-07-21</td>\n",
       "      <td>Series B - Flashbots</td>\n",
       "      <td>Paradigm</td>\n",
       "      <td>1</td>\n",
       "      <td>60000000</td>\n",
       "      <td>COzt7X/yHkN0asBsyS5SPcqgGiku2VYG6PTdAt7Os3s=</td>\n",
       "    </tr>\n",
       "    <tr>\n",
       "      <th>203</th>\n",
       "      <td>81779390</td>\n",
       "      <td>75574122</td>\n",
       "      <td>Flashbots</td>\n",
       "      <td>2023-07-21</td>\n",
       "      <td>Series B - Flashbots</td>\n",
       "      <td>Paradigm</td>\n",
       "      <td>1</td>\n",
       "      <td>60000000</td>\n",
       "      <td>COzt7X/yHkN0asBsyS5SPcqgGiku2VYG6PTdAt7Os3s=</td>\n",
       "    </tr>\n",
       "    <tr>\n",
       "      <th>210</th>\n",
       "      <td>81779390</td>\n",
       "      <td>75574122</td>\n",
       "      <td>Flashbots</td>\n",
       "      <td>2023-07-21</td>\n",
       "      <td>Series B - Flashbots</td>\n",
       "      <td>Paradigm</td>\n",
       "      <td>1</td>\n",
       "      <td>60000000</td>\n",
       "      <td>DHE5cDCNUxZDaC/GOxvLwKhwqRw5wYTCZ5/+WUVE2rA=</td>\n",
       "    </tr>\n",
       "    <tr>\n",
       "      <th>211</th>\n",
       "      <td>81779390</td>\n",
       "      <td>75574122</td>\n",
       "      <td>Flashbots</td>\n",
       "      <td>2023-07-21</td>\n",
       "      <td>Series B - Flashbots</td>\n",
       "      <td>Paradigm</td>\n",
       "      <td>1</td>\n",
       "      <td>60000000</td>\n",
       "      <td>Z8vbH9DeT+kcmThLMbMqJ3SYY3RjCfD0E6VUWro71Lo=</td>\n",
       "    </tr>\n",
       "    <tr>\n",
       "      <th>212</th>\n",
       "      <td>81779390</td>\n",
       "      <td>75574122</td>\n",
       "      <td>Flashbots</td>\n",
       "      <td>2023-07-21</td>\n",
       "      <td>Series B - Flashbots</td>\n",
       "      <td>Paradigm</td>\n",
       "      <td>1</td>\n",
       "      <td>60000000</td>\n",
       "      <td>aZuCfIyTIiei7b35oj5YFtMJ9vav9mmzl/35xLmdGgM=</td>\n",
       "    </tr>\n",
       "    <tr>\n",
       "      <th>...</th>\n",
       "      <td>...</td>\n",
       "      <td>...</td>\n",
       "      <td>...</td>\n",
       "      <td>...</td>\n",
       "      <td>...</td>\n",
       "      <td>...</td>\n",
       "      <td>...</td>\n",
       "      <td>...</td>\n",
       "      <td>...</td>\n",
       "    </tr>\n",
       "    <tr>\n",
       "      <th>2637</th>\n",
       "      <td>88705299</td>\n",
       "      <td>86632358</td>\n",
       "      <td>Lido Finance</td>\n",
       "      <td>2021-05-05</td>\n",
       "      <td>Initial Coin Offering - Lido</td>\n",
       "      <td>Paradigm</td>\n",
       "      <td>1</td>\n",
       "      <td>51000000</td>\n",
       "      <td>i/gSAlLU7P+FhIOzDQEk2+c5aOXKLmzAQILG8vqqJOE=</td>\n",
       "    </tr>\n",
       "    <tr>\n",
       "      <th>2650</th>\n",
       "      <td>88705299</td>\n",
       "      <td>86632358</td>\n",
       "      <td>Lido Finance</td>\n",
       "      <td>2022-09-14</td>\n",
       "      <td>Venture Round - Lido</td>\n",
       "      <td>Dragonfly Capital</td>\n",
       "      <td>1</td>\n",
       "      <td>24000000</td>\n",
       "      <td>i/gSAlLU7P+FhIOzDQEk2+c5aOXKLmzAQILG8vqqJOE=</td>\n",
       "    </tr>\n",
       "    <tr>\n",
       "      <th>2669</th>\n",
       "      <td>88705299</td>\n",
       "      <td>86632358</td>\n",
       "      <td>Lido Finance</td>\n",
       "      <td>2022-09-14</td>\n",
       "      <td>Venture Round - Lido</td>\n",
       "      <td>Dragonfly Capital</td>\n",
       "      <td>1</td>\n",
       "      <td>24000000</td>\n",
       "      <td>i/gSAlLU7P+FhIOzDQEk2+c5aOXKLmzAQILG8vqqJOE=</td>\n",
       "    </tr>\n",
       "    <tr>\n",
       "      <th>2698</th>\n",
       "      <td>88705299</td>\n",
       "      <td>86632358</td>\n",
       "      <td>Lido Finance</td>\n",
       "      <td>2022-09-14</td>\n",
       "      <td>Venture Round - Lido</td>\n",
       "      <td>Dragonfly Capital</td>\n",
       "      <td>1</td>\n",
       "      <td>24000000</td>\n",
       "      <td>i/gSAlLU7P+FhIOzDQEk2+c5aOXKLmzAQILG8vqqJOE=</td>\n",
       "    </tr>\n",
       "    <tr>\n",
       "      <th>2727</th>\n",
       "      <td>88705299</td>\n",
       "      <td>86632358</td>\n",
       "      <td>Lido Finance</td>\n",
       "      <td>2022-09-14</td>\n",
       "      <td>Venture Round - Lido</td>\n",
       "      <td>Dragonfly Capital</td>\n",
       "      <td>1</td>\n",
       "      <td>24000000</td>\n",
       "      <td>i/gSAlLU7P+FhIOzDQEk2+c5aOXKLmzAQILG8vqqJOE=</td>\n",
       "    </tr>\n",
       "  </tbody>\n",
       "</table>\n",
       "<p>159 rows × 9 columns</p>\n",
       "</div>"
      ],
      "text/plain": [
       "            id source_id  company_name announced_date  \\\n",
       "190   81779390  75574122     Flashbots     2023-07-21   \n",
       "203   81779390  75574122     Flashbots     2023-07-21   \n",
       "210   81779390  75574122     Flashbots     2023-07-21   \n",
       "211   81779390  75574122     Flashbots     2023-07-21   \n",
       "212   81779390  75574122     Flashbots     2023-07-21   \n",
       "...        ...       ...           ...            ...   \n",
       "2637  88705299  86632358  Lido Finance     2021-05-05   \n",
       "2650  88705299  86632358  Lido Finance     2022-09-14   \n",
       "2669  88705299  86632358  Lido Finance     2022-09-14   \n",
       "2698  88705299  86632358  Lido Finance     2022-09-14   \n",
       "2727  88705299  86632358  Lido Finance     2022-09-14   \n",
       "\n",
       "                funding_round_name      lead_investor  num_investors  \\\n",
       "190           Series B - Flashbots           Paradigm              1   \n",
       "203           Series B - Flashbots           Paradigm              1   \n",
       "210           Series B - Flashbots           Paradigm              1   \n",
       "211           Series B - Flashbots           Paradigm              1   \n",
       "212           Series B - Flashbots           Paradigm              1   \n",
       "...                            ...                ...            ...   \n",
       "2637  Initial Coin Offering - Lido           Paradigm              1   \n",
       "2650          Venture Round - Lido  Dragonfly Capital              1   \n",
       "2669          Venture Round - Lido  Dragonfly Capital              1   \n",
       "2698          Venture Round - Lido  Dragonfly Capital              1   \n",
       "2727          Venture Round - Lido  Dragonfly Capital              1   \n",
       "\n",
       "      amount_raised                                    project_id  \n",
       "190        60000000  COzt7X/yHkN0asBsyS5SPcqgGiku2VYG6PTdAt7Os3s=  \n",
       "203        60000000  COzt7X/yHkN0asBsyS5SPcqgGiku2VYG6PTdAt7Os3s=  \n",
       "210        60000000  DHE5cDCNUxZDaC/GOxvLwKhwqRw5wYTCZ5/+WUVE2rA=  \n",
       "211        60000000  Z8vbH9DeT+kcmThLMbMqJ3SYY3RjCfD0E6VUWro71Lo=  \n",
       "212        60000000  aZuCfIyTIiei7b35oj5YFtMJ9vav9mmzl/35xLmdGgM=  \n",
       "...             ...                                           ...  \n",
       "2637       51000000  i/gSAlLU7P+FhIOzDQEk2+c5aOXKLmzAQILG8vqqJOE=  \n",
       "2650       24000000  i/gSAlLU7P+FhIOzDQEk2+c5aOXKLmzAQILG8vqqJOE=  \n",
       "2669       24000000  i/gSAlLU7P+FhIOzDQEk2+c5aOXKLmzAQILG8vqqJOE=  \n",
       "2698       24000000  i/gSAlLU7P+FhIOzDQEk2+c5aOXKLmzAQILG8vqqJOE=  \n",
       "2727       24000000  i/gSAlLU7P+FhIOzDQEk2+c5aOXKLmzAQILG8vqqJOE=  \n",
       "\n",
       "[159 rows x 9 columns]"
      ]
     },
     "execution_count": 7,
     "metadata": {},
     "output_type": "execute_result"
    }
   ],
   "source": [
    "df_funding_merged = df_funding.merge(df_social[['id', 'project_id']], on='id')\n",
    "df_funding_merged = df_funding_merged[df_funding_merged['project_id'].isin(project_ids)]\n",
    "df_funding_merged"
   ]
  },
  {
   "cell_type": "code",
   "execution_count": 8,
   "id": "ca33af29-adfa-4f14-962f-fb6520617f1d",
   "metadata": {},
   "outputs": [
    {
     "data": {
      "text/plain": [
       "lead_investor\n",
       "Paradigm               4461559937\n",
       "Andreessen Horowitz     895000000\n",
       "Dragonfly Capital       192000000\n",
       "Haun Ventures           124000000\n",
       "DWF Labs                 80000000\n",
       "Coinbase Ventures        77000000\n",
       "IOSG Ventures            48000000\n",
       "Fabric Ventures          40000000\n",
       "Metaplanet               40000000\n",
       "Pantera Capital          37280000\n",
       "Ribbit Capital           30000000\n",
       "Standard Crypto          20000000\n",
       "Dragonfly                19000000\n",
       "BlueYard Capital         16600000\n",
       "Sequoia Capital          16600000\n",
       "Framework Ventures       15200000\n",
       "Lemniscap                 8280000\n",
       "cyber•Fund                5800000\n",
       "Kindred Ventures          2000000\n",
       "Name: amount_raised, dtype: Int64"
      ]
     },
     "execution_count": 8,
     "metadata": {},
     "output_type": "execute_result"
    }
   ],
   "source": [
    "df_funding_merged.groupby('lead_investor')['amount_raised'].sum().sort_values(ascending=False)"
   ]
  },
  {
   "cell_type": "code",
   "execution_count": 9,
   "id": "1d1c06a6-10de-493f-bd21-4b2b287d7983",
   "metadata": {},
   "outputs": [
    {
     "data": {
      "text/html": [
       "<div>\n",
       "<style scoped>\n",
       "    .dataframe tbody tr th:only-of-type {\n",
       "        vertical-align: middle;\n",
       "    }\n",
       "\n",
       "    .dataframe tbody tr th {\n",
       "        vertical-align: top;\n",
       "    }\n",
       "\n",
       "    .dataframe thead th {\n",
       "        text-align: right;\n",
       "    }\n",
       "</style>\n",
       "<table border=\"1\" class=\"dataframe\">\n",
       "  <thead>\n",
       "    <tr style=\"text-align: right;\">\n",
       "      <th></th>\n",
       "      <th>sample_date</th>\n",
       "      <th>amount</th>\n",
       "      <th>event_type</th>\n",
       "      <th>normalized_amount</th>\n",
       "    </tr>\n",
       "  </thead>\n",
       "  <tbody>\n",
       "    <tr>\n",
       "      <th>0</th>\n",
       "      <td>2021-02-24</td>\n",
       "      <td>75000000</td>\n",
       "      <td>INVESTMENT</td>\n",
       "      <td>0.083799</td>\n",
       "    </tr>\n",
       "    <tr>\n",
       "      <th>1</th>\n",
       "      <td>2022-03-03</td>\n",
       "      <td>280000000</td>\n",
       "      <td>INVESTMENT</td>\n",
       "      <td>0.396648</td>\n",
       "    </tr>\n",
       "    <tr>\n",
       "      <th>2</th>\n",
       "      <td>2022-03-17</td>\n",
       "      <td>450000000</td>\n",
       "      <td>INVESTMENT</td>\n",
       "      <td>0.899441</td>\n",
       "    </tr>\n",
       "    <tr>\n",
       "      <th>3</th>\n",
       "      <td>2022-07-13</td>\n",
       "      <td>90000000</td>\n",
       "      <td>INVESTMENT</td>\n",
       "      <td>1.0</td>\n",
       "    </tr>\n",
       "    <tr>\n",
       "      <th>0</th>\n",
       "      <td>2015-01-01</td>\n",
       "      <td>10</td>\n",
       "      <td>DEVELOPERS</td>\n",
       "      <td>0.035336</td>\n",
       "    </tr>\n",
       "    <tr>\n",
       "      <th>...</th>\n",
       "      <td>...</td>\n",
       "      <td>...</td>\n",
       "      <td>...</td>\n",
       "      <td>...</td>\n",
       "    </tr>\n",
       "    <tr>\n",
       "      <th>123</th>\n",
       "      <td>2025-04-01</td>\n",
       "      <td>279</td>\n",
       "      <td>DEVELOPERS</td>\n",
       "      <td>0.985866</td>\n",
       "    </tr>\n",
       "    <tr>\n",
       "      <th>124</th>\n",
       "      <td>2025-05-01</td>\n",
       "      <td>241</td>\n",
       "      <td>DEVELOPERS</td>\n",
       "      <td>0.85159</td>\n",
       "    </tr>\n",
       "    <tr>\n",
       "      <th>125</th>\n",
       "      <td>2025-06-01</td>\n",
       "      <td>203</td>\n",
       "      <td>DEVELOPERS</td>\n",
       "      <td>0.717314</td>\n",
       "    </tr>\n",
       "    <tr>\n",
       "      <th>126</th>\n",
       "      <td>2025-07-01</td>\n",
       "      <td>189</td>\n",
       "      <td>DEVELOPERS</td>\n",
       "      <td>0.667845</td>\n",
       "    </tr>\n",
       "    <tr>\n",
       "      <th>127</th>\n",
       "      <td>2025-08-01</td>\n",
       "      <td>179</td>\n",
       "      <td>DEVELOPERS</td>\n",
       "      <td>0.632509</td>\n",
       "    </tr>\n",
       "  </tbody>\n",
       "</table>\n",
       "<p>132 rows × 4 columns</p>\n",
       "</div>"
      ],
      "text/plain": [
       "    sample_date     amount  event_type  normalized_amount\n",
       "0    2021-02-24   75000000  INVESTMENT           0.083799\n",
       "1    2022-03-03  280000000  INVESTMENT           0.396648\n",
       "2    2022-03-17  450000000  INVESTMENT           0.899441\n",
       "3    2022-07-13   90000000  INVESTMENT                1.0\n",
       "0    2015-01-01         10  DEVELOPERS           0.035336\n",
       "..          ...        ...         ...                ...\n",
       "123  2025-04-01        279  DEVELOPERS           0.985866\n",
       "124  2025-05-01        241  DEVELOPERS            0.85159\n",
       "125  2025-06-01        203  DEVELOPERS           0.717314\n",
       "126  2025-07-01        189  DEVELOPERS           0.667845\n",
       "127  2025-08-01        179  DEVELOPERS           0.632509\n",
       "\n",
       "[132 rows x 4 columns]"
      ]
     },
     "execution_count": 9,
     "metadata": {},
     "output_type": "execute_result"
    }
   ],
   "source": [
    "def analyze_investor(lead_investor):\n",
    "    dff_funding = df_funding_merged[df_funding_merged['lead_investor'] == lead_investor]\n",
    "    _project_ids = df_funding_merged['project_id'].unique()\n",
    "    dff_metrics = df_metrics[df_metrics['project_id'].isin(_project_ids)]\n",
    "\n",
    "    grp_funding = (\n",
    "        dff_funding\n",
    "        .groupby('announced_date', as_index=False)['amount_raised']\n",
    "        .sum()\n",
    "        .rename(columns={\n",
    "            'announced_date': 'sample_date',\n",
    "            'amount_raised': 'amount'\n",
    "        })\n",
    "        .assign(event_type='INVESTMENT')\n",
    "        .sort_values(by='sample_date')\n",
    "    )\n",
    "    grp_funding['normalized_amount'] = grp_funding['amount'].cumsum() / grp_funding['amount'].sum()\n",
    "\n",
    "    grp_metrics = (\n",
    "        dff_metrics\n",
    "        .groupby('sample_date', as_index=False)['amount']\n",
    "        .sum()\n",
    "        .assign(event_type='DEVELOPERS')\n",
    "    )\n",
    "    grp_metrics['normalized_amount'] = grp_metrics['amount'] / grp_metrics['amount'].max()\n",
    "\n",
    "    return pd.concat([grp_funding, grp_metrics], axis=0)\n",
    "\n",
    "\n",
    "analyze_investor('Andreessen Horowitz')    "
   ]
  },
  {
   "cell_type": "code",
   "execution_count": 10,
   "id": "1e2c567c-774f-453c-8e68-6bfd65fdda2a",
   "metadata": {},
   "outputs": [
    {
     "data": {
      "application/vnd.plotly.v1+json": {
       "config": {
        "plotlyServerURL": "https://plot.ly"
       },
       "data": [
        {
         "hovertemplate": "event_type=INVESTMENT<br>sample_date=%{x}<br>normalized_amount=%{y}<extra></extra>",
         "legendgroup": "INVESTMENT",
         "line": {
          "color": "#636efa",
          "dash": "solid"
         },
         "marker": {
          "symbol": "circle"
         },
         "mode": "lines",
         "name": "INVESTMENT",
         "orientation": "v",
         "showlegend": true,
         "type": "scatter",
         "x": [
          "2020-03-09",
          "2020-08-05",
          "2020-12-15",
          "2021-03-19",
          "2021-05-05",
          "2021-05-06",
          "2022-03-17",
          "2022-03-22",
          "2023-03-28",
          "2023-07-21",
          "2023-11-21",
          "2024-01-25",
          "2024-04-09",
          "2024-05-21",
          "2024-06-11",
          "2024-06-19",
          "2024-06-25",
          "2025-03-04"
         ],
         "xaxis": "x",
         "y": {
          "bdata": "pWG+rJYIZj8m2U8Q9DNsP+9X0rCTFY0/ITg3dNVgkD/Q46XRipmvP/ktPmRoPLA/M6RWezwHxT8wW1E13kfFP75s5JRHe8U/0t7LNbSY6T/3GdL5zdrpP+8B8vSG/+k/lvMY/qec6z/k1mYQ6tbuPwtVOlmQ4e4/YvXOKYAl7z+6lWP6b2nvPwAAAAAAAPA/",
          "dtype": "f8"
         },
         "yaxis": "y"
        },
        {
         "hovertemplate": "event_type=DEVELOPERS<br>sample_date=%{x}<br>normalized_amount=%{y}<extra></extra>",
         "legendgroup": "DEVELOPERS",
         "line": {
          "color": "#EF553B",
          "dash": "solid"
         },
         "marker": {
          "symbol": "circle"
         },
         "mode": "lines",
         "name": "DEVELOPERS",
         "orientation": "v",
         "showlegend": true,
         "type": "scatter",
         "x": [
          "2015-01-01",
          "2015-02-01",
          "2015-03-01",
          "2015-04-01",
          "2015-05-01",
          "2015-06-01",
          "2015-07-01",
          "2015-08-01",
          "2015-09-01",
          "2015-10-01",
          "2015-11-01",
          "2015-12-01",
          "2016-01-01",
          "2016-02-01",
          "2016-03-01",
          "2016-04-01",
          "2016-05-01",
          "2016-06-01",
          "2016-07-01",
          "2016-08-01",
          "2016-09-01",
          "2016-10-01",
          "2016-11-01",
          "2016-12-01",
          "2017-01-01",
          "2017-02-01",
          "2017-03-01",
          "2017-04-01",
          "2017-05-01",
          "2017-06-01",
          "2017-07-01",
          "2017-08-01",
          "2017-09-01",
          "2017-10-01",
          "2017-11-01",
          "2017-12-01",
          "2018-01-01",
          "2018-02-01",
          "2018-03-01",
          "2018-04-01",
          "2018-05-01",
          "2018-06-01",
          "2018-07-01",
          "2018-08-01",
          "2018-09-01",
          "2018-10-01",
          "2018-11-01",
          "2018-12-01",
          "2019-01-01",
          "2019-02-01",
          "2019-03-01",
          "2019-04-01",
          "2019-05-01",
          "2019-06-01",
          "2019-07-01",
          "2019-08-01",
          "2019-09-01",
          "2019-10-01",
          "2019-11-01",
          "2019-12-01",
          "2020-01-01",
          "2020-02-01",
          "2020-03-01",
          "2020-04-01",
          "2020-05-01",
          "2020-06-01",
          "2020-07-01",
          "2020-08-01",
          "2020-09-01",
          "2020-10-01",
          "2020-11-01",
          "2020-12-01",
          "2021-01-01",
          "2021-02-01",
          "2021-03-01",
          "2021-04-01",
          "2021-05-01",
          "2021-06-01",
          "2021-07-01",
          "2021-08-01",
          "2021-09-01",
          "2021-10-01",
          "2021-11-01",
          "2021-12-01",
          "2022-01-01",
          "2022-02-01",
          "2022-03-01",
          "2022-04-01",
          "2022-05-01",
          "2022-06-01",
          "2022-07-01",
          "2022-08-01",
          "2022-09-01",
          "2022-10-01",
          "2022-11-01",
          "2022-12-01",
          "2023-01-01",
          "2023-02-01",
          "2023-03-01",
          "2023-04-01",
          "2023-05-01",
          "2023-06-01",
          "2023-07-01",
          "2023-08-01",
          "2023-09-01",
          "2023-10-01",
          "2023-11-01",
          "2023-12-01",
          "2024-01-01",
          "2024-02-01",
          "2024-03-01",
          "2024-04-01",
          "2024-05-01",
          "2024-06-01",
          "2024-07-01",
          "2024-08-01",
          "2024-09-01",
          "2024-10-01",
          "2024-11-01",
          "2024-12-01",
          "2025-01-01",
          "2025-02-01",
          "2025-03-01",
          "2025-04-01",
          "2025-05-01",
          "2025-06-01",
          "2025-07-01",
          "2025-08-01"
         ],
         "xaxis": "x",
         "y": {
          "bdata": "3Peq+YQXoj/WaVFSP860P9odjWwY/7I/3Peq+YQXsj/YQ2/fq+azP9hDb9+r5rM/2ENv36vmsz/NJ7yQIFS5P8TlJs8B2r0/xOUmzwHavT/R2/eq+YS3P9Hb96r5hLc/zwHaHY1suD/BMeu0KKm/P80nvJAgVLk/xr9EXG7yvD/NJ7yQIFS5P8iZYunaCrw/zwHaHY1suD/MTZ4DtDu6P9WPM8XStbU/xr9EXG7yvD/ImWLp2gq8P9hDb9+r5rM/xOUmzwHavT/e0ciG8S/BP8pzgHZHI7s/ynOAdkcjuz/MTZ4DtDu6P9Hb96r5hLc/xr9EXG7yvD/R2/eq+YS3P80nvJAgVLk/ynOAdkcjuz/Kc4B2RyO7P8TlJs8B2r0/yJli6doKvD/c96r5hBfCP9kw/iXicsM/3eQ5QLujwT/E5SbPAdq9P9+r5hNeSMA/3eQ5QLujwT/BMeu0KKm/P9hDb9+r5sM/1Y8zxdK1xT/WaVFSP87EP93kOUC7o8E/1KKkfpwpxj/NJ7yQIFTJP8pzgHZHI8s/zhRL11bgyD/LYA+9fa/KP8pzgHZHI8s/yJli6doKzD/LYA+9fa/KP88B2h2NbMg/zwHaHY1syD/JhvEvEZfLP88B2h2NbMg/zSe8kCBUyT/OFEvXVuDIP9DuaGTD+Mc/y2APvX2vyj/CHnr7XjXPP8P4l4jLTc4/xr9EXG7yzD/CCwlClcHOP9z3qvmEF9I/36vmE15I0D9VBnvo7XvVP1fgmHValNQ/WqdFSf040z9W8wkvJAjVP1FlsIfevtc/Tp4DtDsa2T9RUj/OFEvXP80nvJAgVNk/Tp4DtDsa2T/OFEvXVuDYP8XStRU4Zt0/0dv3qvmE1z+f8EKCUGXgP8P4l4jLTd4/n/BCglBl4D/CHnr7XjXfP2AiLjd5DuA/RyMbxr9E3D9fNZ/wQoLgPx2g3dHIhuE/HLNOi5L64T+YiMtNngPkPxnsobfvVeM/m094IUGo4j9X4Jh1WpTkP15IEKoM9uA/HLNOi5L64T9alNSPM8XiP5wplq6twOE/mIjLTZ4D5D8WOGadFiXlP9ZpUVI/zuQ/2ENv36vm4z/VfMILCULlPxcl9eNMseQ/i5L6caZY6j/TtRU4Zp3mP5EgVBnsoec/CxyzTouS6j9K6seZYunqP02xdG0Fjuk/ibjc5DlA6z9K6seZYunqP0cjG8a/ROw/B2h3NLJh7D/D+JeIy03uP8XStRU4Zu0/w/iXiMtN7j+PRjaMf4noPwovJAhVBus/AAAAAAAA8D9BqDLYQ2/vP4Qqgz309u0/Ae2ORjaM7z+JuNzkOUDrPxKEKoM99OY/lcEeevte5T8YEoQqgz3kPw==",
          "dtype": "f8"
         },
         "yaxis": "y"
        }
       ],
       "layout": {
        "legend": {
         "title": {
          "text": "event_type"
         },
         "tracegroupgap": 0
        },
        "margin": {
         "t": 60
        },
        "template": {
         "data": {
          "bar": [
           {
            "error_x": {
             "color": "#2a3f5f"
            },
            "error_y": {
             "color": "#2a3f5f"
            },
            "marker": {
             "line": {
              "color": "#E5ECF6",
              "width": 0.5
             },
             "pattern": {
              "fillmode": "overlay",
              "size": 10,
              "solidity": 0.2
             }
            },
            "type": "bar"
           }
          ],
          "barpolar": [
           {
            "marker": {
             "line": {
              "color": "#E5ECF6",
              "width": 0.5
             },
             "pattern": {
              "fillmode": "overlay",
              "size": 10,
              "solidity": 0.2
             }
            },
            "type": "barpolar"
           }
          ],
          "carpet": [
           {
            "aaxis": {
             "endlinecolor": "#2a3f5f",
             "gridcolor": "white",
             "linecolor": "white",
             "minorgridcolor": "white",
             "startlinecolor": "#2a3f5f"
            },
            "baxis": {
             "endlinecolor": "#2a3f5f",
             "gridcolor": "white",
             "linecolor": "white",
             "minorgridcolor": "white",
             "startlinecolor": "#2a3f5f"
            },
            "type": "carpet"
           }
          ],
          "choropleth": [
           {
            "colorbar": {
             "outlinewidth": 0,
             "ticks": ""
            },
            "type": "choropleth"
           }
          ],
          "contour": [
           {
            "colorbar": {
             "outlinewidth": 0,
             "ticks": ""
            },
            "colorscale": [
             [
              0,
              "#0d0887"
             ],
             [
              0.1111111111111111,
              "#46039f"
             ],
             [
              0.2222222222222222,
              "#7201a8"
             ],
             [
              0.3333333333333333,
              "#9c179e"
             ],
             [
              0.4444444444444444,
              "#bd3786"
             ],
             [
              0.5555555555555556,
              "#d8576b"
             ],
             [
              0.6666666666666666,
              "#ed7953"
             ],
             [
              0.7777777777777778,
              "#fb9f3a"
             ],
             [
              0.8888888888888888,
              "#fdca26"
             ],
             [
              1,
              "#f0f921"
             ]
            ],
            "type": "contour"
           }
          ],
          "contourcarpet": [
           {
            "colorbar": {
             "outlinewidth": 0,
             "ticks": ""
            },
            "type": "contourcarpet"
           }
          ],
          "heatmap": [
           {
            "colorbar": {
             "outlinewidth": 0,
             "ticks": ""
            },
            "colorscale": [
             [
              0,
              "#0d0887"
             ],
             [
              0.1111111111111111,
              "#46039f"
             ],
             [
              0.2222222222222222,
              "#7201a8"
             ],
             [
              0.3333333333333333,
              "#9c179e"
             ],
             [
              0.4444444444444444,
              "#bd3786"
             ],
             [
              0.5555555555555556,
              "#d8576b"
             ],
             [
              0.6666666666666666,
              "#ed7953"
             ],
             [
              0.7777777777777778,
              "#fb9f3a"
             ],
             [
              0.8888888888888888,
              "#fdca26"
             ],
             [
              1,
              "#f0f921"
             ]
            ],
            "type": "heatmap"
           }
          ],
          "histogram": [
           {
            "marker": {
             "pattern": {
              "fillmode": "overlay",
              "size": 10,
              "solidity": 0.2
             }
            },
            "type": "histogram"
           }
          ],
          "histogram2d": [
           {
            "colorbar": {
             "outlinewidth": 0,
             "ticks": ""
            },
            "colorscale": [
             [
              0,
              "#0d0887"
             ],
             [
              0.1111111111111111,
              "#46039f"
             ],
             [
              0.2222222222222222,
              "#7201a8"
             ],
             [
              0.3333333333333333,
              "#9c179e"
             ],
             [
              0.4444444444444444,
              "#bd3786"
             ],
             [
              0.5555555555555556,
              "#d8576b"
             ],
             [
              0.6666666666666666,
              "#ed7953"
             ],
             [
              0.7777777777777778,
              "#fb9f3a"
             ],
             [
              0.8888888888888888,
              "#fdca26"
             ],
             [
              1,
              "#f0f921"
             ]
            ],
            "type": "histogram2d"
           }
          ],
          "histogram2dcontour": [
           {
            "colorbar": {
             "outlinewidth": 0,
             "ticks": ""
            },
            "colorscale": [
             [
              0,
              "#0d0887"
             ],
             [
              0.1111111111111111,
              "#46039f"
             ],
             [
              0.2222222222222222,
              "#7201a8"
             ],
             [
              0.3333333333333333,
              "#9c179e"
             ],
             [
              0.4444444444444444,
              "#bd3786"
             ],
             [
              0.5555555555555556,
              "#d8576b"
             ],
             [
              0.6666666666666666,
              "#ed7953"
             ],
             [
              0.7777777777777778,
              "#fb9f3a"
             ],
             [
              0.8888888888888888,
              "#fdca26"
             ],
             [
              1,
              "#f0f921"
             ]
            ],
            "type": "histogram2dcontour"
           }
          ],
          "mesh3d": [
           {
            "colorbar": {
             "outlinewidth": 0,
             "ticks": ""
            },
            "type": "mesh3d"
           }
          ],
          "parcoords": [
           {
            "line": {
             "colorbar": {
              "outlinewidth": 0,
              "ticks": ""
             }
            },
            "type": "parcoords"
           }
          ],
          "pie": [
           {
            "automargin": true,
            "type": "pie"
           }
          ],
          "scatter": [
           {
            "fillpattern": {
             "fillmode": "overlay",
             "size": 10,
             "solidity": 0.2
            },
            "type": "scatter"
           }
          ],
          "scatter3d": [
           {
            "line": {
             "colorbar": {
              "outlinewidth": 0,
              "ticks": ""
             }
            },
            "marker": {
             "colorbar": {
              "outlinewidth": 0,
              "ticks": ""
             }
            },
            "type": "scatter3d"
           }
          ],
          "scattercarpet": [
           {
            "marker": {
             "colorbar": {
              "outlinewidth": 0,
              "ticks": ""
             }
            },
            "type": "scattercarpet"
           }
          ],
          "scattergeo": [
           {
            "marker": {
             "colorbar": {
              "outlinewidth": 0,
              "ticks": ""
             }
            },
            "type": "scattergeo"
           }
          ],
          "scattergl": [
           {
            "marker": {
             "colorbar": {
              "outlinewidth": 0,
              "ticks": ""
             }
            },
            "type": "scattergl"
           }
          ],
          "scattermap": [
           {
            "marker": {
             "colorbar": {
              "outlinewidth": 0,
              "ticks": ""
             }
            },
            "type": "scattermap"
           }
          ],
          "scattermapbox": [
           {
            "marker": {
             "colorbar": {
              "outlinewidth": 0,
              "ticks": ""
             }
            },
            "type": "scattermapbox"
           }
          ],
          "scatterpolar": [
           {
            "marker": {
             "colorbar": {
              "outlinewidth": 0,
              "ticks": ""
             }
            },
            "type": "scatterpolar"
           }
          ],
          "scatterpolargl": [
           {
            "marker": {
             "colorbar": {
              "outlinewidth": 0,
              "ticks": ""
             }
            },
            "type": "scatterpolargl"
           }
          ],
          "scatterternary": [
           {
            "marker": {
             "colorbar": {
              "outlinewidth": 0,
              "ticks": ""
             }
            },
            "type": "scatterternary"
           }
          ],
          "surface": [
           {
            "colorbar": {
             "outlinewidth": 0,
             "ticks": ""
            },
            "colorscale": [
             [
              0,
              "#0d0887"
             ],
             [
              0.1111111111111111,
              "#46039f"
             ],
             [
              0.2222222222222222,
              "#7201a8"
             ],
             [
              0.3333333333333333,
              "#9c179e"
             ],
             [
              0.4444444444444444,
              "#bd3786"
             ],
             [
              0.5555555555555556,
              "#d8576b"
             ],
             [
              0.6666666666666666,
              "#ed7953"
             ],
             [
              0.7777777777777778,
              "#fb9f3a"
             ],
             [
              0.8888888888888888,
              "#fdca26"
             ],
             [
              1,
              "#f0f921"
             ]
            ],
            "type": "surface"
           }
          ],
          "table": [
           {
            "cells": {
             "fill": {
              "color": "#EBF0F8"
             },
             "line": {
              "color": "white"
             }
            },
            "header": {
             "fill": {
              "color": "#C8D4E3"
             },
             "line": {
              "color": "white"
             }
            },
            "type": "table"
           }
          ]
         },
         "layout": {
          "annotationdefaults": {
           "arrowcolor": "#2a3f5f",
           "arrowhead": 0,
           "arrowwidth": 1
          },
          "autotypenumbers": "strict",
          "coloraxis": {
           "colorbar": {
            "outlinewidth": 0,
            "ticks": ""
           }
          },
          "colorscale": {
           "diverging": [
            [
             0,
             "#8e0152"
            ],
            [
             0.1,
             "#c51b7d"
            ],
            [
             0.2,
             "#de77ae"
            ],
            [
             0.3,
             "#f1b6da"
            ],
            [
             0.4,
             "#fde0ef"
            ],
            [
             0.5,
             "#f7f7f7"
            ],
            [
             0.6,
             "#e6f5d0"
            ],
            [
             0.7,
             "#b8e186"
            ],
            [
             0.8,
             "#7fbc41"
            ],
            [
             0.9,
             "#4d9221"
            ],
            [
             1,
             "#276419"
            ]
           ],
           "sequential": [
            [
             0,
             "#0d0887"
            ],
            [
             0.1111111111111111,
             "#46039f"
            ],
            [
             0.2222222222222222,
             "#7201a8"
            ],
            [
             0.3333333333333333,
             "#9c179e"
            ],
            [
             0.4444444444444444,
             "#bd3786"
            ],
            [
             0.5555555555555556,
             "#d8576b"
            ],
            [
             0.6666666666666666,
             "#ed7953"
            ],
            [
             0.7777777777777778,
             "#fb9f3a"
            ],
            [
             0.8888888888888888,
             "#fdca26"
            ],
            [
             1,
             "#f0f921"
            ]
           ],
           "sequentialminus": [
            [
             0,
             "#0d0887"
            ],
            [
             0.1111111111111111,
             "#46039f"
            ],
            [
             0.2222222222222222,
             "#7201a8"
            ],
            [
             0.3333333333333333,
             "#9c179e"
            ],
            [
             0.4444444444444444,
             "#bd3786"
            ],
            [
             0.5555555555555556,
             "#d8576b"
            ],
            [
             0.6666666666666666,
             "#ed7953"
            ],
            [
             0.7777777777777778,
             "#fb9f3a"
            ],
            [
             0.8888888888888888,
             "#fdca26"
            ],
            [
             1,
             "#f0f921"
            ]
           ]
          },
          "colorway": [
           "#636efa",
           "#EF553B",
           "#00cc96",
           "#ab63fa",
           "#FFA15A",
           "#19d3f3",
           "#FF6692",
           "#B6E880",
           "#FF97FF",
           "#FECB52"
          ],
          "font": {
           "color": "#2a3f5f"
          },
          "geo": {
           "bgcolor": "white",
           "lakecolor": "white",
           "landcolor": "#E5ECF6",
           "showlakes": true,
           "showland": true,
           "subunitcolor": "white"
          },
          "hoverlabel": {
           "align": "left"
          },
          "hovermode": "closest",
          "mapbox": {
           "style": "light"
          },
          "paper_bgcolor": "white",
          "plot_bgcolor": "#E5ECF6",
          "polar": {
           "angularaxis": {
            "gridcolor": "white",
            "linecolor": "white",
            "ticks": ""
           },
           "bgcolor": "#E5ECF6",
           "radialaxis": {
            "gridcolor": "white",
            "linecolor": "white",
            "ticks": ""
           }
          },
          "scene": {
           "xaxis": {
            "backgroundcolor": "#E5ECF6",
            "gridcolor": "white",
            "gridwidth": 2,
            "linecolor": "white",
            "showbackground": true,
            "ticks": "",
            "zerolinecolor": "white"
           },
           "yaxis": {
            "backgroundcolor": "#E5ECF6",
            "gridcolor": "white",
            "gridwidth": 2,
            "linecolor": "white",
            "showbackground": true,
            "ticks": "",
            "zerolinecolor": "white"
           },
           "zaxis": {
            "backgroundcolor": "#E5ECF6",
            "gridcolor": "white",
            "gridwidth": 2,
            "linecolor": "white",
            "showbackground": true,
            "ticks": "",
            "zerolinecolor": "white"
           }
          },
          "shapedefaults": {
           "line": {
            "color": "#2a3f5f"
           }
          },
          "ternary": {
           "aaxis": {
            "gridcolor": "white",
            "linecolor": "white",
            "ticks": ""
           },
           "baxis": {
            "gridcolor": "white",
            "linecolor": "white",
            "ticks": ""
           },
           "bgcolor": "#E5ECF6",
           "caxis": {
            "gridcolor": "white",
            "linecolor": "white",
            "ticks": ""
           }
          },
          "title": {
           "x": 0.05
          },
          "xaxis": {
           "automargin": true,
           "gridcolor": "white",
           "linecolor": "white",
           "ticks": "",
           "title": {
            "standoff": 15
           },
           "zerolinecolor": "white",
           "zerolinewidth": 2
          },
          "yaxis": {
           "automargin": true,
           "gridcolor": "white",
           "linecolor": "white",
           "ticks": "",
           "title": {
            "standoff": 15
           },
           "zerolinecolor": "white",
           "zerolinewidth": 2
          }
         }
        },
        "xaxis": {
         "anchor": "y",
         "domain": [
          0,
          1
         ],
         "title": {
          "text": "sample_date"
         }
        },
        "yaxis": {
         "anchor": "x",
         "domain": [
          0,
          1
         ],
         "title": {
          "text": "normalized_amount"
         }
        }
       }
      },
      "image/png": "[encoded data removed]"
     },
     "metadata": {},
     "output_type": "display_data"
    }
   ],
   "source": [
    "import plotly.express as px\n",
    "px.line(\n",
    "    data_frame=analyze_investor('Paradigm'),\n",
    "    x='sample_date',\n",
    "    y='normalized_amount',\n",
    "    color='event_type'\n",
    ")"
   ]
  }
 ],
 "metadata": {
  "kernelspec": {
   "display_name": "Python 3 (ipykernel)",
   "language": "python",
   "name": "python3"
  },
  "language_info": {
   "codemirror_mode": {
    "name": "ipython",
    "version": 3
   },
   "file_extension": ".py",
   "mimetype": "text/x-python",
   "name": "python",
   "nbconvert_exporter": "python",
   "pygments_lexer": "ipython3",
   "version": "3.13.2"
  }
 },
 "nbformat": 4,
 "nbformat_minor": 5
}
