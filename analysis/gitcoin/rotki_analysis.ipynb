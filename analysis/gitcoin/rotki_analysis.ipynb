{
 "cells": [
  {
   "cell_type": "code",
   "execution_count": 2,
   "id": "449872f2-4b16-470d-b925-bf2763e90fa3",
   "metadata": {},
   "outputs": [],
   "source": [
    "import datetime\n",
    "from dotenv import load_dotenv\n",
    "import os\n",
    "import pandas as pd\n",
    "from githubkit import GitHub\n",
    "from pyoso import Client\n",
    "\n",
    "load_dotenv()\n",
    "OSO_API_KEY = os.environ['OSO_API_KEY']\n",
    "client = Client(api_key=OSO_API_KEY)\n",
    "\n",
    "GITHUB_API_KEY = os.environ['GITHUB_API_KEY']\n",
    "github = GitHub(GITHUB_API_KEY)"
   ]
  },
  {
   "cell_type": "markdown",
   "id": "ff76cde9-f6f6-4d27-bf14-619cd62352df",
   "metadata": {},
   "source": [
    "# Check OSO data (from GitHub Archive)"
   ]
  },
  {
   "cell_type": "code",
   "execution_count": 4,
   "id": "4f1c2caa-3a22-4f86-a811-03942c57001a",
   "metadata": {},
   "outputs": [
    {
     "data": {
      "text/html": [
       "<div>\n",
       "<style scoped>\n",
       "    .dataframe tbody tr th:only-of-type {\n",
       "        vertical-align: middle;\n",
       "    }\n",
       "\n",
       "    .dataframe tbody tr th {\n",
       "        vertical-align: top;\n",
       "    }\n",
       "\n",
       "    .dataframe thead th {\n",
       "        text-align: right;\n",
       "    }\n",
       "</style>\n",
       "<table border=\"1\" class=\"dataframe\">\n",
       "  <thead>\n",
       "    <tr style=\"text-align: right;\">\n",
       "      <th></th>\n",
       "      <th>time</th>\n",
       "      <th>github_username</th>\n",
       "    </tr>\n",
       "  </thead>\n",
       "  <tbody>\n",
       "    <tr>\n",
       "      <th>11827</th>\n",
       "      <td>2024-09-17 06:24:20.000</td>\n",
       "      <td>lukicenturi</td>\n",
       "    </tr>\n",
       "    <tr>\n",
       "      <th>11828</th>\n",
       "      <td>2024-04-19 10:21:36.000</td>\n",
       "      <td>lukicenturi</td>\n",
       "    </tr>\n",
       "    <tr>\n",
       "      <th>11829</th>\n",
       "      <td>2024-04-19 10:21:36.000</td>\n",
       "      <td>lukicenturi</td>\n",
       "    </tr>\n",
       "    <tr>\n",
       "      <th>11830</th>\n",
       "      <td>2024-04-19 10:21:36.000</td>\n",
       "      <td>lukicenturi</td>\n",
       "    </tr>\n",
       "    <tr>\n",
       "      <th>11831</th>\n",
       "      <td>2024-04-19 10:21:36.000</td>\n",
       "      <td>lukicenturi</td>\n",
       "    </tr>\n",
       "  </tbody>\n",
       "</table>\n",
       "</div>"
      ],
      "text/plain": [
       "                          time github_username\n",
       "11827  2024-09-17 06:24:20.000     lukicenturi\n",
       "11828  2024-04-19 10:21:36.000     lukicenturi\n",
       "11829  2024-04-19 10:21:36.000     lukicenturi\n",
       "11830  2024-04-19 10:21:36.000     lukicenturi\n",
       "11831  2024-04-19 10:21:36.000     lukicenturi"
      ]
     },
     "execution_count": 4,
     "metadata": {},
     "output_type": "execute_result"
    }
   ],
   "source": [
    "df_oso = client.to_pandas(\"\"\"\n",
    "SELECT\n",
    "    e.time,\n",
    "    u.github_username\n",
    "FROM int_events_to_project__github AS e\n",
    "JOIN artifacts_by_project_v1 abp ON abp.artifact_id = e.to_artifact_id\n",
    "JOIN int_github_users u ON u.user_id = e.from_artifact_id\n",
    "WHERE\n",
    "    abp.artifact_namespace = 'rotki'\n",
    "    AND abp.artifact_name = 'rotki'\n",
    "    AND event_type = 'COMMIT_CODE'\n",
    "    AND e.time >= TIMESTAMP '2023-08-01'\n",
    "    AND e.time <= TIMESTAMP '2025-01-31'\n",
    "\"\"\")\n",
    "df_oso.tail()"
   ]
  },
  {
   "cell_type": "code",
   "execution_count": 60,
   "id": "7e01fe77-dfc8-4168-ba52-c83f8b58ddd2",
   "metadata": {},
   "outputs": [
    {
     "data": {
      "text/plain": [
       "github_username\n",
       "nicholasyoder         1\n",
       "tewshi                1\n",
       "OjusWiZard            2\n",
       "prettyirrelevant      2\n",
       "cleanerzkp            3\n",
       "yabirgb             118\n",
       "lukicenturi         192\n",
       "kelsos              579\n",
       "LefterisJP          846\n",
       "Name: time, dtype: int64"
      ]
     },
     "execution_count": 60,
     "metadata": {},
     "output_type": "execute_result"
    }
   ],
   "source": [
    "df_oso.groupby('github_username')['time'].nunique().sort_values()"
   ]
  },
  {
   "cell_type": "code",
   "execution_count": 5,
   "id": "f55de830-48f4-4a83-8a81-19227e71ab12",
   "metadata": {},
   "outputs": [
    {
     "data": {
      "text/html": [
       "<div>\n",
       "<style scoped>\n",
       "    .dataframe tbody tr th:only-of-type {\n",
       "        vertical-align: middle;\n",
       "    }\n",
       "\n",
       "    .dataframe tbody tr th {\n",
       "        vertical-align: top;\n",
       "    }\n",
       "\n",
       "    .dataframe thead th {\n",
       "        text-align: right;\n",
       "    }\n",
       "</style>\n",
       "<table border=\"1\" class=\"dataframe\">\n",
       "  <thead>\n",
       "    <tr style=\"text-align: right;\">\n",
       "      <th></th>\n",
       "      <th>created_at</th>\n",
       "      <th>repository_id</th>\n",
       "      <th>repository_name</th>\n",
       "      <th>push_id</th>\n",
       "      <th>ref</th>\n",
       "      <th>actor_id</th>\n",
       "      <th>actor_login</th>\n",
       "      <th>sha</th>\n",
       "      <th>author_email</th>\n",
       "      <th>author_name</th>\n",
       "      <th>is_distinct</th>\n",
       "      <th>api_url</th>\n",
       "    </tr>\n",
       "  </thead>\n",
       "  <tbody>\n",
       "    <tr>\n",
       "      <th>5465</th>\n",
       "      <td>2023-10-23 18:42:18.000</td>\n",
       "      <td>123909654</td>\n",
       "      <td>rotki/rotki</td>\n",
       "      <td>15533365471</td>\n",
       "      <td>refs/heads/develop</td>\n",
       "      <td>2269732</td>\n",
       "      <td>kelsos</td>\n",
       "      <td>b95746d6bea78e0098da92a00c79b8be74312714</td>\n",
       "      <td>895381bfd7ef6bc2d7782122f7f071712cd4460f@gmail...</td>\n",
       "      <td>Konstantinos Paparas</td>\n",
       "      <td>True</td>\n",
       "      <td>https://api.github.com/repos/rotki/rotki/commi...</td>\n",
       "    </tr>\n",
       "    <tr>\n",
       "      <th>5466</th>\n",
       "      <td>2023-10-23 20:09:28.000</td>\n",
       "      <td>123909654</td>\n",
       "      <td>rotki/rotki</td>\n",
       "      <td>15534385732</td>\n",
       "      <td>refs/heads/develop</td>\n",
       "      <td>1658405</td>\n",
       "      <td>LefterisJP</td>\n",
       "      <td>efb37893b6a7456520243aea8f86a8791dcb036f</td>\n",
       "      <td>2cf27834f29876756eeaa6141c0926d6523380ac@proto...</td>\n",
       "      <td>Yabir Benchakhtir</td>\n",
       "      <td>True</td>\n",
       "      <td>https://api.github.com/repos/rotki/rotki/commi...</td>\n",
       "    </tr>\n",
       "    <tr>\n",
       "      <th>5467</th>\n",
       "      <td>2023-10-23 17:38:56.000</td>\n",
       "      <td>123909654</td>\n",
       "      <td>rotki/rotki</td>\n",
       "      <td>15532595277</td>\n",
       "      <td>refs/heads/develop</td>\n",
       "      <td>2269732</td>\n",
       "      <td>kelsos</td>\n",
       "      <td>57a0cc790b538bd3c780b26b564740ab5a056300</td>\n",
       "      <td>65bffb90fa1ff9b0e6a7199590f2d2923258d557@gmail...</td>\n",
       "      <td>lukicenturi</td>\n",
       "      <td>True</td>\n",
       "      <td>https://api.github.com/repos/rotki/rotki/commi...</td>\n",
       "    </tr>\n",
       "    <tr>\n",
       "      <th>5468</th>\n",
       "      <td>2023-10-23 17:38:56.000</td>\n",
       "      <td>123909654</td>\n",
       "      <td>rotki/rotki</td>\n",
       "      <td>15532595277</td>\n",
       "      <td>refs/heads/develop</td>\n",
       "      <td>2269732</td>\n",
       "      <td>kelsos</td>\n",
       "      <td>a8555de6733e95fca43768cdae95bf7cb2f00956</td>\n",
       "      <td>65bffb90fa1ff9b0e6a7199590f2d2923258d557@gmail...</td>\n",
       "      <td>lukicenturi</td>\n",
       "      <td>True</td>\n",
       "      <td>https://api.github.com/repos/rotki/rotki/commi...</td>\n",
       "    </tr>\n",
       "    <tr>\n",
       "      <th>5469</th>\n",
       "      <td>2023-10-23 17:38:56.000</td>\n",
       "      <td>123909654</td>\n",
       "      <td>rotki/rotki</td>\n",
       "      <td>15532595277</td>\n",
       "      <td>refs/heads/develop</td>\n",
       "      <td>2269732</td>\n",
       "      <td>kelsos</td>\n",
       "      <td>b8c82e9d7b1cc1b04e93dd26a1b1663a533997eb</td>\n",
       "      <td>895381bfd7ef6bc2d7782122f7f071712cd4460f@gmail...</td>\n",
       "      <td>Konstantinos Paparas</td>\n",
       "      <td>True</td>\n",
       "      <td>https://api.github.com/repos/rotki/rotki/commi...</td>\n",
       "    </tr>\n",
       "  </tbody>\n",
       "</table>\n",
       "</div>"
      ],
      "text/plain": [
       "                   created_at  repository_id repository_name      push_id  \\\n",
       "5465  2023-10-23 18:42:18.000      123909654     rotki/rotki  15533365471   \n",
       "5466  2023-10-23 20:09:28.000      123909654     rotki/rotki  15534385732   \n",
       "5467  2023-10-23 17:38:56.000      123909654     rotki/rotki  15532595277   \n",
       "5468  2023-10-23 17:38:56.000      123909654     rotki/rotki  15532595277   \n",
       "5469  2023-10-23 17:38:56.000      123909654     rotki/rotki  15532595277   \n",
       "\n",
       "                     ref  actor_id actor_login  \\\n",
       "5465  refs/heads/develop   2269732      kelsos   \n",
       "5466  refs/heads/develop   1658405  LefterisJP   \n",
       "5467  refs/heads/develop   2269732      kelsos   \n",
       "5468  refs/heads/develop   2269732      kelsos   \n",
       "5469  refs/heads/develop   2269732      kelsos   \n",
       "\n",
       "                                           sha  \\\n",
       "5465  b95746d6bea78e0098da92a00c79b8be74312714   \n",
       "5466  efb37893b6a7456520243aea8f86a8791dcb036f   \n",
       "5467  57a0cc790b538bd3c780b26b564740ab5a056300   \n",
       "5468  a8555de6733e95fca43768cdae95bf7cb2f00956   \n",
       "5469  b8c82e9d7b1cc1b04e93dd26a1b1663a533997eb   \n",
       "\n",
       "                                           author_email           author_name  \\\n",
       "5465  895381bfd7ef6bc2d7782122f7f071712cd4460f@gmail...  Konstantinos Paparas   \n",
       "5466  2cf27834f29876756eeaa6141c0926d6523380ac@proto...     Yabir Benchakhtir   \n",
       "5467  65bffb90fa1ff9b0e6a7199590f2d2923258d557@gmail...           lukicenturi   \n",
       "5468  65bffb90fa1ff9b0e6a7199590f2d2923258d557@gmail...           lukicenturi   \n",
       "5469  895381bfd7ef6bc2d7782122f7f071712cd4460f@gmail...  Konstantinos Paparas   \n",
       "\n",
       "      is_distinct                                            api_url  \n",
       "5465         True  https://api.github.com/repos/rotki/rotki/commi...  \n",
       "5466         True  https://api.github.com/repos/rotki/rotki/commi...  \n",
       "5467         True  https://api.github.com/repos/rotki/rotki/commi...  \n",
       "5468         True  https://api.github.com/repos/rotki/rotki/commi...  \n",
       "5469         True  https://api.github.com/repos/rotki/rotki/commi...  "
      ]
     },
     "execution_count": 5,
     "metadata": {},
     "output_type": "execute_result"
    }
   ],
   "source": [
    "df_commits = client.to_pandas(\"\"\"\n",
    "SELECT *\n",
    "FROM stg_github__commits\n",
    "WHERE\n",
    "    repository_name = 'rotki/rotki'\n",
    "    AND created_at >= TIMESTAMP '2023-08-01'\n",
    "    AND created_at <= TIMESTAMP '2025-01-31'\n",
    "\"\"\")\n",
    "df_commits.tail()"
   ]
  },
  {
   "cell_type": "code",
   "execution_count": 63,
   "id": "b1d959d6-8f7a-429f-8700-ea55cbb5ce1b",
   "metadata": {},
   "outputs": [
    {
     "data": {
      "text/plain": [
       "actor_id   actor_login     \n",
       "49699333   dependabot[bot]        1\n",
       "145849440  nicholasyoder          1\n",
       "55619686   OjusWiZard             2\n",
       "72208758   prettyirrelevant       3\n",
       "5625068    tewshi                 5\n",
       "104455005  cleanerzkp            11\n",
       "5068010    yabirgb              216\n",
       "26648140   lukicenturi          250\n",
       "2269732    kelsos               762\n",
       "1658405    LefterisJP          1211\n",
       "Name: created_at, dtype: int64"
      ]
     },
     "execution_count": 63,
     "metadata": {},
     "output_type": "execute_result"
    }
   ],
   "source": [
    "df_commits.groupby(['actor_id', 'actor_login'])['created_at'].nunique().sort_values()"
   ]
  },
  {
   "cell_type": "code",
   "execution_count": 64,
   "id": "dfd6aa25-b7fb-4718-8703-7699dc5c6217",
   "metadata": {},
   "outputs": [
    {
     "data": {
      "text/plain": [
       "author_name\n",
       "NetScr1be                 1\n",
       "Kirk                      1\n",
       "Kenny Rachuonyo           1\n",
       "Prajjwal Yadav            1\n",
       "Rafael Matias             1\n",
       "                       ... \n",
       "Luki Centuri            308\n",
       "lukicenturi             366\n",
       "Yabir Benchakhtir       501\n",
       "Konstantinos Paparas    534\n",
       "Lefteris Karapetsas     652\n",
       "Name: created_at, Length: 72, dtype: int64"
      ]
     },
     "execution_count": 64,
     "metadata": {},
     "output_type": "execute_result"
    }
   ],
   "source": [
    "df_commits.groupby('author_name')['created_at'].nunique().sort_values()"
   ]
  },
  {
   "cell_type": "markdown",
   "id": "1fb8b64e-d35d-4b24-8fac-8317d5b18385",
   "metadata": {},
   "source": [
    "# Check data directly from GitHub"
   ]
  },
  {
   "cell_type": "code",
   "execution_count": 6,
   "id": "d57438c3-11b5-40a0-bfff-f62b4bff5ccc",
   "metadata": {},
   "outputs": [],
   "source": [
    "all_commits = list(github.paginate(\n",
    "    github.rest.repos.list_commits,\n",
    "    owner=\"rotki\",\n",
    "    repo=\"rotki\"\n",
    "))"
   ]
  },
  {
   "cell_type": "code",
   "execution_count": 65,
   "id": "7a9b82f4-8646-483d-af77-4fa2520c9e44",
   "metadata": {},
   "outputs": [],
   "source": [
    "data = []\n",
    "for commit in all_commits:\n",
    "    if commit.author and getattr(commit.author, 'login', None):\n",
    "        author = getattr(commit.author, 'login')\n",
    "        committer = getattr(commit.committer, 'login')\n",
    "        date = getattr(commit.commit.author, 'date')\n",
    "        if date >= '2023-08-01' and date <= '2025-01-31':\n",
    "            data.append({\n",
    "                \"date\": date,\n",
    "                \"author\": author.lower(),\n",
    "                \"committer\": committer.lower(),\n",
    "                \"sha\": commit.sha\n",
    "            })"
   ]
  },
  {
   "cell_type": "code",
   "execution_count": 66,
   "id": "26429cae-28e8-4726-b684-5e0d9707678a",
   "metadata": {},
   "outputs": [
    {
     "data": {
      "text/html": [
       "<div>\n",
       "<style scoped>\n",
       "    .dataframe tbody tr th:only-of-type {\n",
       "        vertical-align: middle;\n",
       "    }\n",
       "\n",
       "    .dataframe tbody tr th {\n",
       "        vertical-align: top;\n",
       "    }\n",
       "\n",
       "    .dataframe thead th {\n",
       "        text-align: right;\n",
       "    }\n",
       "</style>\n",
       "<table border=\"1\" class=\"dataframe\">\n",
       "  <thead>\n",
       "    <tr style=\"text-align: right;\">\n",
       "      <th></th>\n",
       "      <th>date</th>\n",
       "      <th>author</th>\n",
       "      <th>committer</th>\n",
       "      <th>sha</th>\n",
       "    </tr>\n",
       "  </thead>\n",
       "  <tbody>\n",
       "    <tr>\n",
       "      <th>3255</th>\n",
       "      <td>2023-08-02T09:25:58Z</td>\n",
       "      <td>lefterisjp</td>\n",
       "      <td>lefterisjp</td>\n",
       "      <td>b8e660a88215a54e6430f1243c1b1eb35d166130</td>\n",
       "    </tr>\n",
       "    <tr>\n",
       "      <th>3256</th>\n",
       "      <td>2023-08-01T15:26:47Z</td>\n",
       "      <td>lefterisjp</td>\n",
       "      <td>lefterisjp</td>\n",
       "      <td>52f3cc129718c76c291b6f19a0f6b738740b0d15</td>\n",
       "    </tr>\n",
       "    <tr>\n",
       "      <th>3257</th>\n",
       "      <td>2023-08-01T09:08:04Z</td>\n",
       "      <td>ianmichaelharper</td>\n",
       "      <td>web-flow</td>\n",
       "      <td>a480ccafd902ab3f8f9dfebbc1adb55d2cf4cc97</td>\n",
       "    </tr>\n",
       "    <tr>\n",
       "      <th>3258</th>\n",
       "      <td>2023-08-01T08:42:55Z</td>\n",
       "      <td>lukicenturi</td>\n",
       "      <td>web-flow</td>\n",
       "      <td>36da630045c6b246180704666128612f6910f8ed</td>\n",
       "    </tr>\n",
       "    <tr>\n",
       "      <th>3259</th>\n",
       "      <td>2023-08-01T08:36:07Z</td>\n",
       "      <td>kelsos</td>\n",
       "      <td>web-flow</td>\n",
       "      <td>850ad1e5ea552707ba6300c926aa8fa9421c5e91</td>\n",
       "    </tr>\n",
       "  </tbody>\n",
       "</table>\n",
       "</div>"
      ],
      "text/plain": [
       "                      date            author   committer  \\\n",
       "3255  2023-08-02T09:25:58Z        lefterisjp  lefterisjp   \n",
       "3256  2023-08-01T15:26:47Z        lefterisjp  lefterisjp   \n",
       "3257  2023-08-01T09:08:04Z  ianmichaelharper    web-flow   \n",
       "3258  2023-08-01T08:42:55Z       lukicenturi    web-flow   \n",
       "3259  2023-08-01T08:36:07Z            kelsos    web-flow   \n",
       "\n",
       "                                           sha  \n",
       "3255  b8e660a88215a54e6430f1243c1b1eb35d166130  \n",
       "3256  52f3cc129718c76c291b6f19a0f6b738740b0d15  \n",
       "3257  a480ccafd902ab3f8f9dfebbc1adb55d2cf4cc97  \n",
       "3258  36da630045c6b246180704666128612f6910f8ed  \n",
       "3259  850ad1e5ea552707ba6300c926aa8fa9421c5e91  "
      ]
     },
     "execution_count": 66,
     "metadata": {},
     "output_type": "execute_result"
    }
   ],
   "source": [
    "df_all_commits = pd.DataFrame(data)\n",
    "df_all_commits.tail()"
   ]
  },
  {
   "cell_type": "code",
   "execution_count": 68,
   "id": "3e8ac913-e61e-4251-a611-a2ef460fa054",
   "metadata": {},
   "outputs": [
    {
     "data": {
      "text/plain": [
       "author\n",
       "0saurabh0         1\n",
       "jiangmencity      1\n",
       "zanieb            1\n",
       "mdqst             1\n",
       "netscr1be         1\n",
       "               ... \n",
       "tewshi          149\n",
       "lukicenturi     551\n",
       "kelsos          558\n",
       "yabirgb         621\n",
       "lefterisjp      821\n",
       "Name: date, Length: 66, dtype: int64"
      ]
     },
     "execution_count": 68,
     "metadata": {},
     "output_type": "execute_result"
    }
   ],
   "source": [
    "df_all_commits.groupby('author')['date'].nunique().sort_values()"
   ]
  },
  {
   "cell_type": "markdown",
   "id": "a063d8ec-520d-4832-9391-a31c5081e21c",
   "metadata": {},
   "source": [
    "# See where the datasets differ"
   ]
  },
  {
   "cell_type": "code",
   "execution_count": 69,
   "id": "06d61fa8-c1e7-4114-b402-bd64e31e734e",
   "metadata": {},
   "outputs": [
    {
     "data": {
      "text/plain": [
       "0.05184049079754601"
      ]
     },
     "execution_count": 69,
     "metadata": {},
     "output_type": "execute_result"
    }
   ],
   "source": [
    "missing_shas = list(set(df_all_commits['sha']).difference(set(df_commits['sha'])))\n",
    "len(missing_shas) / len(df_all_commits)"
   ]
  },
  {
   "cell_type": "code",
   "execution_count": 70,
   "id": "6490fbe9-1d60-432f-8e74-323a42a78ed0",
   "metadata": {},
   "outputs": [
    {
     "data": {
      "text/plain": [
       "0.038391224862888484"
      ]
     },
     "execution_count": 70,
     "metadata": {},
     "output_type": "execute_result"
    }
   ],
   "source": [
    "len(set(df_commits['sha']).difference(set(df_all_commits['sha']))) / len(df_commits)"
   ]
  },
  {
   "cell_type": "code",
   "execution_count": 71,
   "id": "90560c77-4165-4f22-a4ae-f349d3f3818b",
   "metadata": {},
   "outputs": [
    {
     "data": {
      "text/html": [
       "<div>\n",
       "<style scoped>\n",
       "    .dataframe tbody tr th:only-of-type {\n",
       "        vertical-align: middle;\n",
       "    }\n",
       "\n",
       "    .dataframe tbody tr th {\n",
       "        vertical-align: top;\n",
       "    }\n",
       "\n",
       "    .dataframe thead th {\n",
       "        text-align: right;\n",
       "    }\n",
       "</style>\n",
       "<table border=\"1\" class=\"dataframe\">\n",
       "  <thead>\n",
       "    <tr style=\"text-align: right;\">\n",
       "      <th></th>\n",
       "      <th>date</th>\n",
       "      <th>author</th>\n",
       "      <th>committer</th>\n",
       "      <th>sha</th>\n",
       "    </tr>\n",
       "  </thead>\n",
       "  <tbody>\n",
       "    <tr>\n",
       "      <th>0</th>\n",
       "      <td>2025-01-27T10:35:47Z</td>\n",
       "      <td>lukicenturi</td>\n",
       "      <td>kelsos</td>\n",
       "      <td>6c48e7a53bfbcdd15c6af8628e089deca691b9ea</td>\n",
       "    </tr>\n",
       "    <tr>\n",
       "      <th>1</th>\n",
       "      <td>2025-01-23T21:59:47Z</td>\n",
       "      <td>nicholasyoder</td>\n",
       "      <td>lefterisjp</td>\n",
       "      <td>c6ae0af25060dd637c240104817e944c7aaf2949</td>\n",
       "    </tr>\n",
       "    <tr>\n",
       "      <th>2</th>\n",
       "      <td>2025-01-25T10:57:34Z</td>\n",
       "      <td>jiangmencity</td>\n",
       "      <td>lefterisjp</td>\n",
       "      <td>7cf8a3e4b45bdb0ed1465994af415764405167ba</td>\n",
       "    </tr>\n",
       "    <tr>\n",
       "      <th>3</th>\n",
       "      <td>2025-01-30T13:37:47Z</td>\n",
       "      <td>prettyirrelevant</td>\n",
       "      <td>lefterisjp</td>\n",
       "      <td>daf90087939ec69cd5bbd8f925e9abbaa4f1ae04</td>\n",
       "    </tr>\n",
       "    <tr>\n",
       "      <th>5</th>\n",
       "      <td>2025-01-30T18:30:14Z</td>\n",
       "      <td>nicholasyoder</td>\n",
       "      <td>lefterisjp</td>\n",
       "      <td>e656bae27cf9bcb20ae0608aabad963ec26a986f</td>\n",
       "    </tr>\n",
       "    <tr>\n",
       "      <th>...</th>\n",
       "      <td>...</td>\n",
       "      <td>...</td>\n",
       "      <td>...</td>\n",
       "      <td>...</td>\n",
       "    </tr>\n",
       "    <tr>\n",
       "      <th>3190</th>\n",
       "      <td>2023-08-09T15:33:15Z</td>\n",
       "      <td>chamalis</td>\n",
       "      <td>lefterisjp</td>\n",
       "      <td>8f4a42843a6c2b51a8b63848b7a7ec41eca44903</td>\n",
       "    </tr>\n",
       "    <tr>\n",
       "      <th>3192</th>\n",
       "      <td>2023-08-14T08:49:17Z</td>\n",
       "      <td>lefterisjp</td>\n",
       "      <td>lefterisjp</td>\n",
       "      <td>a7f8a359321df09d321165da91afd7d1cca36f10</td>\n",
       "    </tr>\n",
       "    <tr>\n",
       "      <th>3193</th>\n",
       "      <td>2023-08-14T08:43:07Z</td>\n",
       "      <td>lefterisjp</td>\n",
       "      <td>lefterisjp</td>\n",
       "      <td>981e75327f7a50062d2569ca1bf1cdb987ef1de9</td>\n",
       "    </tr>\n",
       "    <tr>\n",
       "      <th>3194</th>\n",
       "      <td>2023-08-14T08:37:12Z</td>\n",
       "      <td>lefterisjp</td>\n",
       "      <td>lefterisjp</td>\n",
       "      <td>1392f386ca5d0a524a9db5e2a5b4cd92e3b7dcde</td>\n",
       "    </tr>\n",
       "    <tr>\n",
       "      <th>3233</th>\n",
       "      <td>2023-08-07T12:08:57Z</td>\n",
       "      <td>dimyg</td>\n",
       "      <td>lefterisjp</td>\n",
       "      <td>c0d62c279bf640153a2962fece80aca0656b52bb</td>\n",
       "    </tr>\n",
       "  </tbody>\n",
       "</table>\n",
       "<p>169 rows × 4 columns</p>\n",
       "</div>"
      ],
      "text/plain": [
       "                      date            author   committer  \\\n",
       "0     2025-01-27T10:35:47Z       lukicenturi      kelsos   \n",
       "1     2025-01-23T21:59:47Z     nicholasyoder  lefterisjp   \n",
       "2     2025-01-25T10:57:34Z      jiangmencity  lefterisjp   \n",
       "3     2025-01-30T13:37:47Z  prettyirrelevant  lefterisjp   \n",
       "5     2025-01-30T18:30:14Z     nicholasyoder  lefterisjp   \n",
       "...                    ...               ...         ...   \n",
       "3190  2023-08-09T15:33:15Z          chamalis  lefterisjp   \n",
       "3192  2023-08-14T08:49:17Z        lefterisjp  lefterisjp   \n",
       "3193  2023-08-14T08:43:07Z        lefterisjp  lefterisjp   \n",
       "3194  2023-08-14T08:37:12Z        lefterisjp  lefterisjp   \n",
       "3233  2023-08-07T12:08:57Z             dimyg  lefterisjp   \n",
       "\n",
       "                                           sha  \n",
       "0     6c48e7a53bfbcdd15c6af8628e089deca691b9ea  \n",
       "1     c6ae0af25060dd637c240104817e944c7aaf2949  \n",
       "2     7cf8a3e4b45bdb0ed1465994af415764405167ba  \n",
       "3     daf90087939ec69cd5bbd8f925e9abbaa4f1ae04  \n",
       "5     e656bae27cf9bcb20ae0608aabad963ec26a986f  \n",
       "...                                        ...  \n",
       "3190  8f4a42843a6c2b51a8b63848b7a7ec41eca44903  \n",
       "3192  a7f8a359321df09d321165da91afd7d1cca36f10  \n",
       "3193  981e75327f7a50062d2569ca1bf1cdb987ef1de9  \n",
       "3194  1392f386ca5d0a524a9db5e2a5b4cd92e3b7dcde  \n",
       "3233  c0d62c279bf640153a2962fece80aca0656b52bb  \n",
       "\n",
       "[169 rows x 4 columns]"
      ]
     },
     "execution_count": 71,
     "metadata": {},
     "output_type": "execute_result"
    }
   ],
   "source": [
    "df_all_commits[df_all_commits['sha'].isin(missing_shas)]"
   ]
  }
 ],
 "metadata": {
  "kernelspec": {
   "display_name": "Python 3 (ipykernel)",
   "language": "python",
   "name": "python3"
  },
  "language_info": {
   "codemirror_mode": {
    "name": "ipython",
    "version": 3
   },
   "file_extension": ".py",
   "mimetype": "text/x-python",
   "name": "python",
   "nbconvert_exporter": "python",
   "pygments_lexer": "ipython3",
   "version": "3.11.7"
  }
 },
 "nbformat": 4,
 "nbformat_minor": 5
}
