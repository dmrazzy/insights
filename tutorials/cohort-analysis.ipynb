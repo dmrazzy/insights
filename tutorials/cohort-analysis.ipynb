{
 "cells": [
  {
   "cell_type": "markdown",
   "metadata": {},
   "source": [
    "# Cohort Analysis\n",
    "\n",
    "Track a cohort of projects across a set of metrics over time"
   ]
  },
  {
   "cell_type": "markdown",
   "metadata": {},
   "source": [
    "## Getting Started\n",
    "\n",
    "Before running any analysis, you'll need to set up your environment.\n",
    "\n",
    "Start your Python notebook with the following:"
   ]
  },
  {
   "cell_type": "code",
   "execution_count": 2,
   "metadata": {},
   "outputs": [],
   "source": [
    "from dotenv import load_dotenv\n",
    "import os\n",
    "import pandas as pd\n",
    "from pyoso import Client\n",
    "\n",
    "load_dotenv()\n",
    "OSO_API_KEY = os.environ['OSO_API_KEY']\n",
    "client = Client(api_key=OSO_API_KEY)"
   ]
  },
  {
   "cell_type": "markdown",
   "metadata": {},
   "source": [
    "## Discover Projects Deployed in an Ecosystem from the OSS Directory\n",
    "\n",
    "The OSS Directory is a curated registry of open-source software projects. The query below filters this directory to highlight projects with verifiable onchain deployments on Arbitrum One. "
   ]
  },
  {
   "cell_type": "code",
   "execution_count": 4,
   "metadata": {},
   "outputs": [
    {
     "data": {
      "text/html": [
       "<div>\n",
       "<style scoped>\n",
       "    .dataframe tbody tr th:only-of-type {\n",
       "        vertical-align: middle;\n",
       "    }\n",
       "\n",
       "    .dataframe tbody tr th {\n",
       "        vertical-align: top;\n",
       "    }\n",
       "\n",
       "    .dataframe thead th {\n",
       "        text-align: right;\n",
       "    }\n",
       "</style>\n",
       "<table border=\"1\" class=\"dataframe\">\n",
       "  <thead>\n",
       "    <tr style=\"text-align: right;\">\n",
       "      <th></th>\n",
       "      <th>project_id</th>\n",
       "      <th>artifact_name</th>\n",
       "      <th>artifact_type</th>\n",
       "    </tr>\n",
       "  </thead>\n",
       "  <tbody>\n",
       "    <tr>\n",
       "      <th>0</th>\n",
       "      <td>7ozZvGAAa3yVIqj87k+BjDGoNQX2WIjYuSDjJtL/1kw=</td>\n",
       "      <td>0x03475494dc89d378c4268e90a62876efb0278a1a</td>\n",
       "      <td>CONTRACT</td>\n",
       "    </tr>\n",
       "    <tr>\n",
       "      <th>1</th>\n",
       "      <td>VCeNot3diK3Kt0Da9SaRDvcNI1sGdrzyjTW62JUeI0U=</td>\n",
       "      <td>0xbb6f8affdca29aa1a282e6a21b192b6513a57f9a</td>\n",
       "      <td>CONTRACT</td>\n",
       "    </tr>\n",
       "    <tr>\n",
       "      <th>2</th>\n",
       "      <td>VCeNot3diK3Kt0Da9SaRDvcNI1sGdrzyjTW62JUeI0U=</td>\n",
       "      <td>0x67b208dbb6bdcacf196568083012d170be3e6f0c</td>\n",
       "      <td>CONTRACT</td>\n",
       "    </tr>\n",
       "    <tr>\n",
       "      <th>3</th>\n",
       "      <td>9f/wyYnV87C9zOzI22LcgbKAO+yQQI2fx9o3tVVjHMg=</td>\n",
       "      <td>0x37115cbfce229f3d65073dd155bc0cb4a39d9454</td>\n",
       "      <td>CONTRACT</td>\n",
       "    </tr>\n",
       "    <tr>\n",
       "      <th>4</th>\n",
       "      <td>+pN6WZUkcWuzSjoQjjIzSFWmXIfMRqVYe/odhLWSRjA=</td>\n",
       "      <td>0x5a5c0c4832828ff878ce3ab4fec44d21200b1496</td>\n",
       "      <td>CONTRACT</td>\n",
       "    </tr>\n",
       "    <tr>\n",
       "      <th>5</th>\n",
       "      <td>SrAW7CxbX2q6KzPf1xXwJsc5IQZqIkDDOkAx3/nTS0M=</td>\n",
       "      <td>0xf58d5d56aefdf755dbbf6e636b83f39af2f31977</td>\n",
       "      <td>CONTRACT</td>\n",
       "    </tr>\n",
       "    <tr>\n",
       "      <th>6</th>\n",
       "      <td>TjD5PhF05YUmsgZxD2V7ZtHxH+xX2TFziydSTO438Z0=</td>\n",
       "      <td>0x689f6606538d063d2687b0ca38b2369b1ed33e53</td>\n",
       "      <td>CONTRACT</td>\n",
       "    </tr>\n",
       "    <tr>\n",
       "      <th>7</th>\n",
       "      <td>K2QVL0gZxJtelm0K+6ChSVx7Eu1EIVIaKY+ocdsHUS4=</td>\n",
       "      <td>0xc5295c6a183f29b7c962df076819d44e0076860e</td>\n",
       "      <td>CONTRACT</td>\n",
       "    </tr>\n",
       "    <tr>\n",
       "      <th>8</th>\n",
       "      <td>vduYow9GAP+Ngi15XpPtR+yidOaSBA/y1b40Uhm+Tf4=</td>\n",
       "      <td>0x6de33698e9e9b787e09d3bd7771ef63557e148bb</td>\n",
       "      <td>CONTRACT</td>\n",
       "    </tr>\n",
       "    <tr>\n",
       "      <th>9</th>\n",
       "      <td>mxQJCrQluMzq+x8lNrdfNDyQfXJDteM3KYc0+7vtb1w=</td>\n",
       "      <td>0xe835b7ab7807d1ef33c9fbe1854983292040d7e1</td>\n",
       "      <td>CONTRACT</td>\n",
       "    </tr>\n",
       "  </tbody>\n",
       "</table>\n",
       "</div>"
      ],
      "text/plain": [
       "                                     project_id  \\\n",
       "0  7ozZvGAAa3yVIqj87k+BjDGoNQX2WIjYuSDjJtL/1kw=   \n",
       "1  VCeNot3diK3Kt0Da9SaRDvcNI1sGdrzyjTW62JUeI0U=   \n",
       "2  VCeNot3diK3Kt0Da9SaRDvcNI1sGdrzyjTW62JUeI0U=   \n",
       "3  9f/wyYnV87C9zOzI22LcgbKAO+yQQI2fx9o3tVVjHMg=   \n",
       "4  +pN6WZUkcWuzSjoQjjIzSFWmXIfMRqVYe/odhLWSRjA=   \n",
       "5  SrAW7CxbX2q6KzPf1xXwJsc5IQZqIkDDOkAx3/nTS0M=   \n",
       "6  TjD5PhF05YUmsgZxD2V7ZtHxH+xX2TFziydSTO438Z0=   \n",
       "7  K2QVL0gZxJtelm0K+6ChSVx7Eu1EIVIaKY+ocdsHUS4=   \n",
       "8  vduYow9GAP+Ngi15XpPtR+yidOaSBA/y1b40Uhm+Tf4=   \n",
       "9  mxQJCrQluMzq+x8lNrdfNDyQfXJDteM3KYc0+7vtb1w=   \n",
       "\n",
       "                                artifact_name artifact_type  \n",
       "0  0x03475494dc89d378c4268e90a62876efb0278a1a      CONTRACT  \n",
       "1  0xbb6f8affdca29aa1a282e6a21b192b6513a57f9a      CONTRACT  \n",
       "2  0x67b208dbb6bdcacf196568083012d170be3e6f0c      CONTRACT  \n",
       "3  0x37115cbfce229f3d65073dd155bc0cb4a39d9454      CONTRACT  \n",
       "4  0x5a5c0c4832828ff878ce3ab4fec44d21200b1496      CONTRACT  \n",
       "5  0xf58d5d56aefdf755dbbf6e636b83f39af2f31977      CONTRACT  \n",
       "6  0x689f6606538d063d2687b0ca38b2369b1ed33e53      CONTRACT  \n",
       "7  0xc5295c6a183f29b7c962df076819d44e0076860e      CONTRACT  \n",
       "8  0x6de33698e9e9b787e09d3bd7771ef63557e148bb      CONTRACT  \n",
       "9  0xe835b7ab7807d1ef33c9fbe1854983292040d7e1      CONTRACT  "
      ]
     },
     "execution_count": 4,
     "metadata": {},
     "output_type": "execute_result"
    }
   ],
   "source": [
    "\n",
    "query = \"\"\"\n",
    "SELECT \n",
    "    project_id, \n",
    "    artifact_name, \n",
    "    artifact_type\n",
    "FROM int_artifacts_by_project_in_ossd\n",
    "WHERE \n",
    "    artifact_source = 'ARBITRUM_ONE'\n",
    "    AND artifact_type IN ('CONTRACT', 'FACTORY', 'DEPLOYER')\n",
    "LIMIT 10\n",
    "\"\"\"\n",
    "\n",
    "df = client.to_pandas(query)\n",
    "df"
   ]
  },
  {
   "cell_type": "markdown",
   "metadata": {},
   "source": [
    "## Track Developer Activity for Arbitrum-Deployed Projects\n",
    "\n",
    "By joining with timeseries metrics, we can observe GitHub activity trends for each project across 2024 and 2025. "
   ]
  },
  {
   "cell_type": "code",
   "execution_count": 5,
   "metadata": {},
   "outputs": [
    {
     "data": {
      "text/html": [
       "<div>\n",
       "<style scoped>\n",
       "    .dataframe tbody tr th:only-of-type {\n",
       "        vertical-align: middle;\n",
       "    }\n",
       "\n",
       "    .dataframe tbody tr th {\n",
       "        vertical-align: top;\n",
       "    }\n",
       "\n",
       "    .dataframe thead th {\n",
       "        text-align: right;\n",
       "    }\n",
       "</style>\n",
       "<table border=\"1\" class=\"dataframe\">\n",
       "  <thead>\n",
       "    <tr style=\"text-align: right;\">\n",
       "      <th></th>\n",
       "      <th>Name</th>\n",
       "      <th>Metric</th>\n",
       "      <th>Date</th>\n",
       "      <th>Value</th>\n",
       "    </tr>\n",
       "  </thead>\n",
       "  <tbody>\n",
       "    <tr>\n",
       "      <th>0</th>\n",
       "      <td>OpenSea</td>\n",
       "      <td>GITHUB_active_developers_monthly</td>\n",
       "      <td>2024-12-01</td>\n",
       "      <td>2</td>\n",
       "    </tr>\n",
       "    <tr>\n",
       "      <th>1</th>\n",
       "      <td>Metamask</td>\n",
       "      <td>GITHUB_active_developers_monthly</td>\n",
       "      <td>2024-12-01</td>\n",
       "      <td>100</td>\n",
       "    </tr>\n",
       "    <tr>\n",
       "      <th>2</th>\n",
       "      <td>Premia</td>\n",
       "      <td>GITHUB_active_developers_monthly</td>\n",
       "      <td>2024-12-01</td>\n",
       "      <td>1</td>\n",
       "    </tr>\n",
       "    <tr>\n",
       "      <th>3</th>\n",
       "      <td>Hop Protocol</td>\n",
       "      <td>GITHUB_active_developers_monthly</td>\n",
       "      <td>2024-12-01</td>\n",
       "      <td>3</td>\n",
       "    </tr>\n",
       "    <tr>\n",
       "      <th>4</th>\n",
       "      <td>dHedge</td>\n",
       "      <td>GITHUB_active_developers_monthly</td>\n",
       "      <td>2024-12-01</td>\n",
       "      <td>2</td>\n",
       "    </tr>\n",
       "    <tr>\n",
       "      <th>...</th>\n",
       "      <td>...</td>\n",
       "      <td>...</td>\n",
       "      <td>...</td>\n",
       "      <td>...</td>\n",
       "    </tr>\n",
       "    <tr>\n",
       "      <th>2093</th>\n",
       "      <td>Solv Protocol</td>\n",
       "      <td>GITHUB_active_developers_monthly</td>\n",
       "      <td>2024-10-01</td>\n",
       "      <td>1</td>\n",
       "    </tr>\n",
       "    <tr>\n",
       "      <th>2094</th>\n",
       "      <td>Superfluid</td>\n",
       "      <td>GITHUB_active_developers_monthly</td>\n",
       "      <td>2024-10-01</td>\n",
       "      <td>4</td>\n",
       "    </tr>\n",
       "    <tr>\n",
       "      <th>2095</th>\n",
       "      <td>Arrakis Finance</td>\n",
       "      <td>GITHUB_active_developers_monthly</td>\n",
       "      <td>2024-10-01</td>\n",
       "      <td>4</td>\n",
       "    </tr>\n",
       "    <tr>\n",
       "      <th>2096</th>\n",
       "      <td>Tigris-Trade</td>\n",
       "      <td>GITHUB_active_developers_monthly</td>\n",
       "      <td>2024-10-01</td>\n",
       "      <td>1</td>\n",
       "    </tr>\n",
       "    <tr>\n",
       "      <th>2097</th>\n",
       "      <td>LayerZero</td>\n",
       "      <td>GITHUB_active_developers_monthly</td>\n",
       "      <td>2024-10-01</td>\n",
       "      <td>12</td>\n",
       "    </tr>\n",
       "  </tbody>\n",
       "</table>\n",
       "<p>2098 rows × 4 columns</p>\n",
       "</div>"
      ],
      "text/plain": [
       "                 Name                            Metric        Date  Value\n",
       "0             OpenSea  GITHUB_active_developers_monthly  2024-12-01      2\n",
       "1            Metamask  GITHUB_active_developers_monthly  2024-12-01    100\n",
       "2              Premia  GITHUB_active_developers_monthly  2024-12-01      1\n",
       "3        Hop Protocol  GITHUB_active_developers_monthly  2024-12-01      3\n",
       "4              dHedge  GITHUB_active_developers_monthly  2024-12-01      2\n",
       "...               ...                               ...         ...    ...\n",
       "2093    Solv Protocol  GITHUB_active_developers_monthly  2024-10-01      1\n",
       "2094       Superfluid  GITHUB_active_developers_monthly  2024-10-01      4\n",
       "2095  Arrakis Finance  GITHUB_active_developers_monthly  2024-10-01      4\n",
       "2096     Tigris-Trade  GITHUB_active_developers_monthly  2024-10-01      1\n",
       "2097        LayerZero  GITHUB_active_developers_monthly  2024-10-01     12\n",
       "\n",
       "[2098 rows x 4 columns]"
      ]
     },
     "execution_count": 5,
     "metadata": {},
     "output_type": "execute_result"
    }
   ],
   "source": [
    "\n",
    "query = \"\"\"\n",
    "WITH arb_projects AS (\n",
    "    SELECT \n",
    "        distinct project_id\n",
    "    FROM int_artifacts_by_project_in_ossd\n",
    "    WHERE \n",
    "        artifact_source = 'ARBITRUM_ONE'\n",
    "        AND artifact_type IN ('CONTRACT', 'FACTORY', 'DEPLOYER')\n",
    ")\n",
    "SELECT  \n",
    "    distinct p.display_name as Name,\n",
    "    m.metric_name as Metric,\n",
    "    ts.sample_date as Date,\n",
    "    ts.amount as Value\n",
    "FROM metrics_v0 m\n",
    "JOIN timeseries_metrics_by_project_v0 ts\n",
    "    on m.metric_id = ts.metric_id\n",
    "JOIN projects_v1 p\n",
    "    on p.project_id = ts.project_id\n",
    "JOIN arb_projects a\n",
    "    on p.project_id = a.project_id\n",
    "WHERE \n",
    "    metric_name = 'GITHUB_active_developers_monthly'\n",
    "    AND YEAR(ts.sample_date) in (2024, 2025)\n",
    "\"\"\"\n",
    "\n",
    "df_arb = client.to_pandas(query)\n",
    "df_arb"
   ]
  },
  {
   "cell_type": "markdown",
   "metadata": {},
   "source": [
    "## Analyze GitHub Activity of Arbitrum Stylus Grant Program Projects\n",
    "\n",
    "In contrast to the previous query which filtered projects based on onchain deployment on Arbitrum One, this query focuses on all Github-related metrics for projects that are part of the ‘arb-stylus’ collection—a set representing participants in the Arbitrum Stylus grant program."
   ]
  },
  {
   "cell_type": "code",
   "execution_count": 6,
   "metadata": {},
   "outputs": [
    {
     "data": {
      "text/html": [
       "<div>\n",
       "<style scoped>\n",
       "    .dataframe tbody tr th:only-of-type {\n",
       "        vertical-align: middle;\n",
       "    }\n",
       "\n",
       "    .dataframe tbody tr th {\n",
       "        vertical-align: top;\n",
       "    }\n",
       "\n",
       "    .dataframe thead th {\n",
       "        text-align: right;\n",
       "    }\n",
       "</style>\n",
       "<table border=\"1\" class=\"dataframe\">\n",
       "  <thead>\n",
       "    <tr style=\"text-align: right;\">\n",
       "      <th></th>\n",
       "      <th>Name</th>\n",
       "      <th>Metric</th>\n",
       "      <th>Date</th>\n",
       "      <th>Value</th>\n",
       "    </tr>\n",
       "  </thead>\n",
       "  <tbody>\n",
       "    <tr>\n",
       "      <th>0</th>\n",
       "      <td>Trail of Bits Security Reviews</td>\n",
       "      <td>GITHUB_releases_daily</td>\n",
       "      <td>2024-06-20</td>\n",
       "      <td>1.0</td>\n",
       "    </tr>\n",
       "    <tr>\n",
       "      <th>1</th>\n",
       "      <td>Runtime Verification</td>\n",
       "      <td>GITHUB_releases_daily</td>\n",
       "      <td>2024-06-20</td>\n",
       "      <td>13.0</td>\n",
       "    </tr>\n",
       "    <tr>\n",
       "      <th>2</th>\n",
       "      <td>Walnut</td>\n",
       "      <td>GITHUB_comments_daily</td>\n",
       "      <td>2024-06-20</td>\n",
       "      <td>56.0</td>\n",
       "    </tr>\n",
       "    <tr>\n",
       "      <th>3</th>\n",
       "      <td>Open Source Observer</td>\n",
       "      <td>GITHUB_comments_daily</td>\n",
       "      <td>2024-06-20</td>\n",
       "      <td>7.0</td>\n",
       "    </tr>\n",
       "    <tr>\n",
       "      <th>4</th>\n",
       "      <td>Trail of Bits Security Reviews</td>\n",
       "      <td>GITHUB_repositories_daily</td>\n",
       "      <td>2024-06-20</td>\n",
       "      <td>19.0</td>\n",
       "    </tr>\n",
       "    <tr>\n",
       "      <th>...</th>\n",
       "      <td>...</td>\n",
       "      <td>...</td>\n",
       "      <td>...</td>\n",
       "      <td>...</td>\n",
       "    </tr>\n",
       "    <tr>\n",
       "      <th>46079</th>\n",
       "      <td>Trail of Bits Security Reviews</td>\n",
       "      <td>GITHUB_opened_pull_requests_daily</td>\n",
       "      <td>2024-08-13</td>\n",
       "      <td>6.0</td>\n",
       "    </tr>\n",
       "    <tr>\n",
       "      <th>46080</th>\n",
       "      <td>Runtime Verification</td>\n",
       "      <td>GITHUB_merged_pull_requests_daily</td>\n",
       "      <td>2024-08-13</td>\n",
       "      <td>8.0</td>\n",
       "    </tr>\n",
       "    <tr>\n",
       "      <th>46081</th>\n",
       "      <td>Walnut</td>\n",
       "      <td>GITHUB_opened_issues_daily</td>\n",
       "      <td>2024-08-13</td>\n",
       "      <td>1.0</td>\n",
       "    </tr>\n",
       "    <tr>\n",
       "      <th>46082</th>\n",
       "      <td>Runtime Verification</td>\n",
       "      <td>GITHUB_closed_issues_daily</td>\n",
       "      <td>2024-08-13</td>\n",
       "      <td>1.0</td>\n",
       "    </tr>\n",
       "    <tr>\n",
       "      <th>46083</th>\n",
       "      <td>Open Source Observer</td>\n",
       "      <td>GITHUB_closed_issues_daily</td>\n",
       "      <td>2024-08-13</td>\n",
       "      <td>2.0</td>\n",
       "    </tr>\n",
       "  </tbody>\n",
       "</table>\n",
       "<p>46084 rows × 4 columns</p>\n",
       "</div>"
      ],
      "text/plain": [
       "                                 Name                             Metric  \\\n",
       "0      Trail of Bits Security Reviews              GITHUB_releases_daily   \n",
       "1                Runtime Verification              GITHUB_releases_daily   \n",
       "2                              Walnut              GITHUB_comments_daily   \n",
       "3                Open Source Observer              GITHUB_comments_daily   \n",
       "4      Trail of Bits Security Reviews          GITHUB_repositories_daily   \n",
       "...                               ...                                ...   \n",
       "46079  Trail of Bits Security Reviews  GITHUB_opened_pull_requests_daily   \n",
       "46080            Runtime Verification  GITHUB_merged_pull_requests_daily   \n",
       "46081                          Walnut         GITHUB_opened_issues_daily   \n",
       "46082            Runtime Verification         GITHUB_closed_issues_daily   \n",
       "46083            Open Source Observer         GITHUB_closed_issues_daily   \n",
       "\n",
       "             Date  Value  \n",
       "0      2024-06-20    1.0  \n",
       "1      2024-06-20   13.0  \n",
       "2      2024-06-20   56.0  \n",
       "3      2024-06-20    7.0  \n",
       "4      2024-06-20   19.0  \n",
       "...           ...    ...  \n",
       "46079  2024-08-13    6.0  \n",
       "46080  2024-08-13    8.0  \n",
       "46081  2024-08-13    1.0  \n",
       "46082  2024-08-13    1.0  \n",
       "46083  2024-08-13    2.0  \n",
       "\n",
       "[46084 rows x 4 columns]"
      ]
     },
     "execution_count": 6,
     "metadata": {},
     "output_type": "execute_result"
    }
   ],
   "source": [
    "query = \"\"\"\n",
    "SELECT  \n",
    "    distinct p.display_name as Name,\n",
    "    m.metric_name as Metric,\n",
    "    ts.sample_date as Date,\n",
    "    ts.amount as Value\n",
    "FROM metrics_v0 m\n",
    "JOIN timeseries_metrics_by_project_v0 ts\n",
    "    on m.metric_id = ts.metric_id\n",
    "JOIN projects_v1 p\n",
    "    on p.project_id = ts.project_id\n",
    "JOIN projects_by_collection_v1 pc\n",
    "    on p.project_id = pc.project_id\n",
    "WHERE \n",
    "    metric_name like 'GITHUB_%'\n",
    "    AND YEAR(ts.sample_date) in (2024, 2025)\n",
    "    AND pc.collection_name = 'arb-stylus'\n",
    "\"\"\"\n",
    "\n",
    "df_stylus = client.to_pandas(query)\n",
    "df_stylus"
   ]
  },
  {
   "cell_type": "markdown",
   "metadata": {},
   "source": [
    "## Visualize the Results\n",
    "\n",
    "This heatmap provides a visual overview of monthly active developer activity for each project in the collection. You can replace the metric with another measure—such as GITHUB_commits_monthly or GITHUB_merged_pull_requests_monthly—to explore different dimensions of developer engagement."
   ]
  },
  {
   "cell_type": "code",
   "execution_count": 10,
   "metadata": {},
   "outputs": [
    {
     "data": {
      "application/vnd.plotly.v1+json": {
       "config": {
        "plotlyServerURL": "https://plot.ly"
       },
       "data": [
        {
         "colorbar": {
          "title": {
           "text": "Active Developers"
          }
         },
         "colorscale": [
          [
           0,
           "#440154"
          ],
          [
           0.1111111111111111,
           "#482878"
          ],
          [
           0.2222222222222222,
           "#3e4989"
          ],
          [
           0.3333333333333333,
           "#31688e"
          ],
          [
           0.4444444444444444,
           "#26828e"
          ],
          [
           0.5555555555555556,
           "#1f9e89"
          ],
          [
           0.6666666666666666,
           "#35b779"
          ],
          [
           0.7777777777777778,
           "#6ece58"
          ],
          [
           0.8888888888888888,
           "#b5de2b"
          ],
          [
           1,
           "#fde725"
          ]
         ],
         "hoverongaps": false,
         "hovertemplate": "Project: %{y}<br>Month: %{x}<br>Active Developers: %{z}<extra></extra>",
         "text": [
          [
           0,
           0,
           0,
           0,
           0,
           0,
           0,
           0,
           0,
           0,
           0,
           0,
           3,
           3,
           3
          ],
          [
           1,
           1,
           1,
           1,
           1,
           1,
           1,
           1,
           1,
           1,
           0,
           1,
           1,
           0,
           1
          ],
          [
           0,
           0,
           0,
           0,
           0,
           0,
           0,
           0,
           0,
           0,
           0,
           0,
           0,
           4,
           5
          ],
          [
           1,
           2,
           4,
           2,
           3,
           3,
           5,
           4,
           2,
           5,
           3,
           5,
           3,
           0,
           2
          ],
          [
           0,
           0,
           0,
           0,
           0,
           0,
           0,
           0,
           0,
           0,
           0,
           1,
           0,
           0,
           0
          ],
          [
           0,
           0,
           0,
           0,
           0,
           3,
           1,
           2,
           3,
           4,
           2,
           2,
           1,
           0,
           1
          ],
          [
           0,
           0,
           0,
           0,
           0,
           0,
           0,
           0,
           0,
           0,
           2,
           2,
           3,
           2,
           1
          ],
          [
           4,
           4,
           3,
           6,
           12,
           30,
           9,
           12,
           16,
           22,
           8,
           9,
           9,
           24,
           13
          ],
          [
           0,
           0,
           0,
           0,
           1,
           1,
           5,
           6,
           6,
           6,
           5,
           4,
           4,
           4,
           3
          ],
          [
           8,
           10,
           14,
           14,
           16,
           15,
           13,
           15,
           13,
           13,
           15,
           14,
           19,
           16,
           16
          ],
          [
           4,
           5,
           6,
           5,
           5,
           4,
           5,
           7,
           8,
           9,
           7,
           8,
           10,
           13,
           10
          ],
          [
           2,
           2,
           1,
           0,
           1,
           2,
           1,
           2,
           2,
           2,
           3,
           2,
           0,
           0,
           1
          ],
          [
           20,
           19,
           19,
           19,
           16,
           18,
           17,
           13,
           16,
           13,
           11,
           12,
           13,
           16,
           16
          ],
          [
           0,
           0,
           0,
           0,
           0,
           0,
           0,
           0,
           1,
           0,
           2,
           1,
           0,
           2,
           1
          ],
          [
           0,
           0,
           0,
           0,
           0,
           0,
           0,
           0,
           1,
           0,
           0,
           0,
           1,
           0,
           1
          ],
          [
           2,
           2,
           2,
           2,
           2,
           1,
           0,
           0,
           1,
           0,
           0,
           0,
           1,
           0,
           0
          ],
          [
           25,
           19,
           22,
           23,
           20,
           21,
           20,
           16,
           20,
           18,
           15,
           25,
           21,
           16,
           18
          ],
          [
           2,
           2,
           0,
           1,
           1,
           0,
           0,
           0,
           1,
           0,
           0,
           0,
           0,
           0,
           0
          ],
          [
           2,
           2,
           2,
           2,
           2,
           3,
           3,
           3,
           4,
           3,
           3,
           5,
           7,
           5,
           4
          ],
          [
           24,
           20,
           21,
           24,
           25,
           23,
           18,
           11,
           12,
           13,
           9,
           11,
           13,
           12,
           12
          ]
         ],
         "textfont": {
          "size": 10
         },
         "texttemplate": "%{text:.0f}",
         "type": "heatmap",
         "x": [
          "2024-01",
          "2024-02",
          "2024-03",
          "2024-04",
          "2024-05",
          "2024-06",
          "2024-07",
          "2024-08",
          "2024-09",
          "2024-10",
          "2024-11",
          "2024-12",
          "2025-01",
          "2025-02",
          "2025-03"
         ],
         "y": [
          "9Lives",
          "Arbos Foundry",
          "CodeTracer",
          "Debid - Fairblock",
          "Ember",
          "Enclave",
          "Moving Stylus",
          "Open Source Observer",
          "Passport XYZ",
          "Pyth Network",
          "Redstone Finance",
          "Remix IDE plugin for Arbitrum Stylus",
          "Runtime Verification",
          "Solang",
          "Sylow",
          "Syndicate Protocol",
          "Trail of Bits Security Reviews",
          "WakeUp Labs",
          "Walnut",
          "thirdweb"
         ],
         "z": [
          [
           0,
           0,
           0,
           0,
           0,
           0,
           0,
           0,
           0,
           0,
           0,
           0,
           3,
           3,
           3
          ],
          [
           1,
           1,
           1,
           1,
           1,
           1,
           1,
           1,
           1,
           1,
           0,
           1,
           1,
           0,
           1
          ],
          [
           0,
           0,
           0,
           0,
           0,
           0,
           0,
           0,
           0,
           0,
           0,
           0,
           0,
           4,
           5
          ],
          [
           1,
           2,
           4,
           2,
           3,
           3,
           5,
           4,
           2,
           5,
           3,
           5,
           3,
           0,
           2
          ],
          [
           0,
           0,
           0,
           0,
           0,
           0,
           0,
           0,
           0,
           0,
           0,
           1,
           0,
           0,
           0
          ],
          [
           0,
           0,
           0,
           0,
           0,
           3,
           1,
           2,
           3,
           4,
           2,
           2,
           1,
           0,
           1
          ],
          [
           0,
           0,
           0,
           0,
           0,
           0,
           0,
           0,
           0,
           0,
           2,
           2,
           3,
           2,
           1
          ],
          [
           4,
           4,
           3,
           6,
           12,
           30,
           9,
           12,
           16,
           22,
           8,
           9,
           9,
           24,
           13
          ],
          [
           0,
           0,
           0,
           0,
           1,
           1,
           5,
           6,
           6,
           6,
           5,
           4,
           4,
           4,
           3
          ],
          [
           8,
           10,
           14,
           14,
           16,
           15,
           13,
           15,
           13,
           13,
           15,
           14,
           19,
           16,
           16
          ],
          [
           4,
           5,
           6,
           5,
           5,
           4,
           5,
           7,
           8,
           9,
           7,
           8,
           10,
           13,
           10
          ],
          [
           2,
           2,
           1,
           0,
           1,
           2,
           1,
           2,
           2,
           2,
           3,
           2,
           0,
           0,
           1
          ],
          [
           20,
           19,
           19,
           19,
           16,
           18,
           17,
           13,
           16,
           13,
           11,
           12,
           13,
           16,
           16
          ],
          [
           0,
           0,
           0,
           0,
           0,
           0,
           0,
           0,
           1,
           0,
           2,
           1,
           0,
           2,
           1
          ],
          [
           0,
           0,
           0,
           0,
           0,
           0,
           0,
           0,
           1,
           0,
           0,
           0,
           1,
           0,
           1
          ],
          [
           2,
           2,
           2,
           2,
           2,
           1,
           0,
           0,
           1,
           0,
           0,
           0,
           1,
           0,
           0
          ],
          [
           25,
           19,
           22,
           23,
           20,
           21,
           20,
           16,
           20,
           18,
           15,
           25,
           21,
           16,
           18
          ],
          [
           2,
           2,
           0,
           1,
           1,
           0,
           0,
           0,
           1,
           0,
           0,
           0,
           0,
           0,
           0
          ],
          [
           2,
           2,
           2,
           2,
           2,
           3,
           3,
           3,
           4,
           3,
           3,
           5,
           7,
           5,
           4
          ],
          [
           24,
           20,
           21,
           24,
           25,
           23,
           18,
           11,
           12,
           13,
           9,
           11,
           13,
           12,
           12
          ]
         ]
        }
       ],
       "layout": {
        "height": 800,
        "margin": {
         "l": 200
        },
        "template": {
         "data": {
          "bar": [
           {
            "error_x": {
             "color": "#2a3f5f"
            },
            "error_y": {
             "color": "#2a3f5f"
            },
            "marker": {
             "line": {
              "color": "#E5ECF6",
              "width": 0.5
             },
             "pattern": {
              "fillmode": "overlay",
              "size": 10,
              "solidity": 0.2
             }
            },
            "type": "bar"
           }
          ],
          "barpolar": [
           {
            "marker": {
             "line": {
              "color": "#E5ECF6",
              "width": 0.5
             },
             "pattern": {
              "fillmode": "overlay",
              "size": 10,
              "solidity": 0.2
             }
            },
            "type": "barpolar"
           }
          ],
          "carpet": [
           {
            "aaxis": {
             "endlinecolor": "#2a3f5f",
             "gridcolor": "white",
             "linecolor": "white",
             "minorgridcolor": "white",
             "startlinecolor": "#2a3f5f"
            },
            "baxis": {
             "endlinecolor": "#2a3f5f",
             "gridcolor": "white",
             "linecolor": "white",
             "minorgridcolor": "white",
             "startlinecolor": "#2a3f5f"
            },
            "type": "carpet"
           }
          ],
          "choropleth": [
           {
            "colorbar": {
             "outlinewidth": 0,
             "ticks": ""
            },
            "type": "choropleth"
           }
          ],
          "contour": [
           {
            "colorbar": {
             "outlinewidth": 0,
             "ticks": ""
            },
            "colorscale": [
             [
              0,
              "#0d0887"
             ],
             [
              0.1111111111111111,
              "#46039f"
             ],
             [
              0.2222222222222222,
              "#7201a8"
             ],
             [
              0.3333333333333333,
              "#9c179e"
             ],
             [
              0.4444444444444444,
              "#bd3786"
             ],
             [
              0.5555555555555556,
              "#d8576b"
             ],
             [
              0.6666666666666666,
              "#ed7953"
             ],
             [
              0.7777777777777778,
              "#fb9f3a"
             ],
             [
              0.8888888888888888,
              "#fdca26"
             ],
             [
              1,
              "#f0f921"
             ]
            ],
            "type": "contour"
           }
          ],
          "contourcarpet": [
           {
            "colorbar": {
             "outlinewidth": 0,
             "ticks": ""
            },
            "type": "contourcarpet"
           }
          ],
          "heatmap": [
           {
            "colorbar": {
             "outlinewidth": 0,
             "ticks": ""
            },
            "colorscale": [
             [
              0,
              "#0d0887"
             ],
             [
              0.1111111111111111,
              "#46039f"
             ],
             [
              0.2222222222222222,
              "#7201a8"
             ],
             [
              0.3333333333333333,
              "#9c179e"
             ],
             [
              0.4444444444444444,
              "#bd3786"
             ],
             [
              0.5555555555555556,
              "#d8576b"
             ],
             [
              0.6666666666666666,
              "#ed7953"
             ],
             [
              0.7777777777777778,
              "#fb9f3a"
             ],
             [
              0.8888888888888888,
              "#fdca26"
             ],
             [
              1,
              "#f0f921"
             ]
            ],
            "type": "heatmap"
           }
          ],
          "heatmapgl": [
           {
            "colorbar": {
             "outlinewidth": 0,
             "ticks": ""
            },
            "colorscale": [
             [
              0,
              "#0d0887"
             ],
             [
              0.1111111111111111,
              "#46039f"
             ],
             [
              0.2222222222222222,
              "#7201a8"
             ],
             [
              0.3333333333333333,
              "#9c179e"
             ],
             [
              0.4444444444444444,
              "#bd3786"
             ],
             [
              0.5555555555555556,
              "#d8576b"
             ],
             [
              0.6666666666666666,
              "#ed7953"
             ],
             [
              0.7777777777777778,
              "#fb9f3a"
             ],
             [
              0.8888888888888888,
              "#fdca26"
             ],
             [
              1,
              "#f0f921"
             ]
            ],
            "type": "heatmapgl"
           }
          ],
          "histogram": [
           {
            "marker": {
             "pattern": {
              "fillmode": "overlay",
              "size": 10,
              "solidity": 0.2
             }
            },
            "type": "histogram"
           }
          ],
          "histogram2d": [
           {
            "colorbar": {
             "outlinewidth": 0,
             "ticks": ""
            },
            "colorscale": [
             [
              0,
              "#0d0887"
             ],
             [
              0.1111111111111111,
              "#46039f"
             ],
             [
              0.2222222222222222,
              "#7201a8"
             ],
             [
              0.3333333333333333,
              "#9c179e"
             ],
             [
              0.4444444444444444,
              "#bd3786"
             ],
             [
              0.5555555555555556,
              "#d8576b"
             ],
             [
              0.6666666666666666,
              "#ed7953"
             ],
             [
              0.7777777777777778,
              "#fb9f3a"
             ],
             [
              0.8888888888888888,
              "#fdca26"
             ],
             [
              1,
              "#f0f921"
             ]
            ],
            "type": "histogram2d"
           }
          ],
          "histogram2dcontour": [
           {
            "colorbar": {
             "outlinewidth": 0,
             "ticks": ""
            },
            "colorscale": [
             [
              0,
              "#0d0887"
             ],
             [
              0.1111111111111111,
              "#46039f"
             ],
             [
              0.2222222222222222,
              "#7201a8"
             ],
             [
              0.3333333333333333,
              "#9c179e"
             ],
             [
              0.4444444444444444,
              "#bd3786"
             ],
             [
              0.5555555555555556,
              "#d8576b"
             ],
             [
              0.6666666666666666,
              "#ed7953"
             ],
             [
              0.7777777777777778,
              "#fb9f3a"
             ],
             [
              0.8888888888888888,
              "#fdca26"
             ],
             [
              1,
              "#f0f921"
             ]
            ],
            "type": "histogram2dcontour"
           }
          ],
          "mesh3d": [
           {
            "colorbar": {
             "outlinewidth": 0,
             "ticks": ""
            },
            "type": "mesh3d"
           }
          ],
          "parcoords": [
           {
            "line": {
             "colorbar": {
              "outlinewidth": 0,
              "ticks": ""
             }
            },
            "type": "parcoords"
           }
          ],
          "pie": [
           {
            "automargin": true,
            "type": "pie"
           }
          ],
          "scatter": [
           {
            "fillpattern": {
             "fillmode": "overlay",
             "size": 10,
             "solidity": 0.2
            },
            "type": "scatter"
           }
          ],
          "scatter3d": [
           {
            "line": {
             "colorbar": {
              "outlinewidth": 0,
              "ticks": ""
             }
            },
            "marker": {
             "colorbar": {
              "outlinewidth": 0,
              "ticks": ""
             }
            },
            "type": "scatter3d"
           }
          ],
          "scattercarpet": [
           {
            "marker": {
             "colorbar": {
              "outlinewidth": 0,
              "ticks": ""
             }
            },
            "type": "scattercarpet"
           }
          ],
          "scattergeo": [
           {
            "marker": {
             "colorbar": {
              "outlinewidth": 0,
              "ticks": ""
             }
            },
            "type": "scattergeo"
           }
          ],
          "scattergl": [
           {
            "marker": {
             "colorbar": {
              "outlinewidth": 0,
              "ticks": ""
             }
            },
            "type": "scattergl"
           }
          ],
          "scattermapbox": [
           {
            "marker": {
             "colorbar": {
              "outlinewidth": 0,
              "ticks": ""
             }
            },
            "type": "scattermapbox"
           }
          ],
          "scatterpolar": [
           {
            "marker": {
             "colorbar": {
              "outlinewidth": 0,
              "ticks": ""
             }
            },
            "type": "scatterpolar"
           }
          ],
          "scatterpolargl": [
           {
            "marker": {
             "colorbar": {
              "outlinewidth": 0,
              "ticks": ""
             }
            },
            "type": "scatterpolargl"
           }
          ],
          "scatterternary": [
           {
            "marker": {
             "colorbar": {
              "outlinewidth": 0,
              "ticks": ""
             }
            },
            "type": "scatterternary"
           }
          ],
          "surface": [
           {
            "colorbar": {
             "outlinewidth": 0,
             "ticks": ""
            },
            "colorscale": [
             [
              0,
              "#0d0887"
             ],
             [
              0.1111111111111111,
              "#46039f"
             ],
             [
              0.2222222222222222,
              "#7201a8"
             ],
             [
              0.3333333333333333,
              "#9c179e"
             ],
             [
              0.4444444444444444,
              "#bd3786"
             ],
             [
              0.5555555555555556,
              "#d8576b"
             ],
             [
              0.6666666666666666,
              "#ed7953"
             ],
             [
              0.7777777777777778,
              "#fb9f3a"
             ],
             [
              0.8888888888888888,
              "#fdca26"
             ],
             [
              1,
              "#f0f921"
             ]
            ],
            "type": "surface"
           }
          ],
          "table": [
           {
            "cells": {
             "fill": {
              "color": "#EBF0F8"
             },
             "line": {
              "color": "white"
             }
            },
            "header": {
             "fill": {
              "color": "#C8D4E3"
             },
             "line": {
              "color": "white"
             }
            },
            "type": "table"
           }
          ]
         },
         "layout": {
          "annotationdefaults": {
           "arrowcolor": "#2a3f5f",
           "arrowhead": 0,
           "arrowwidth": 1
          },
          "autotypenumbers": "strict",
          "coloraxis": {
           "colorbar": {
            "outlinewidth": 0,
            "ticks": ""
           }
          },
          "colorscale": {
           "diverging": [
            [
             0,
             "#8e0152"
            ],
            [
             0.1,
             "#c51b7d"
            ],
            [
             0.2,
             "#de77ae"
            ],
            [
             0.3,
             "#f1b6da"
            ],
            [
             0.4,
             "#fde0ef"
            ],
            [
             0.5,
             "#f7f7f7"
            ],
            [
             0.6,
             "#e6f5d0"
            ],
            [
             0.7,
             "#b8e186"
            ],
            [
             0.8,
             "#7fbc41"
            ],
            [
             0.9,
             "#4d9221"
            ],
            [
             1,
             "#276419"
            ]
           ],
           "sequential": [
            [
             0,
             "#0d0887"
            ],
            [
             0.1111111111111111,
             "#46039f"
            ],
            [
             0.2222222222222222,
             "#7201a8"
            ],
            [
             0.3333333333333333,
             "#9c179e"
            ],
            [
             0.4444444444444444,
             "#bd3786"
            ],
            [
             0.5555555555555556,
             "#d8576b"
            ],
            [
             0.6666666666666666,
             "#ed7953"
            ],
            [
             0.7777777777777778,
             "#fb9f3a"
            ],
            [
             0.8888888888888888,
             "#fdca26"
            ],
            [
             1,
             "#f0f921"
            ]
           ],
           "sequentialminus": [
            [
             0,
             "#0d0887"
            ],
            [
             0.1111111111111111,
             "#46039f"
            ],
            [
             0.2222222222222222,
             "#7201a8"
            ],
            [
             0.3333333333333333,
             "#9c179e"
            ],
            [
             0.4444444444444444,
             "#bd3786"
            ],
            [
             0.5555555555555556,
             "#d8576b"
            ],
            [
             0.6666666666666666,
             "#ed7953"
            ],
            [
             0.7777777777777778,
             "#fb9f3a"
            ],
            [
             0.8888888888888888,
             "#fdca26"
            ],
            [
             1,
             "#f0f921"
            ]
           ]
          },
          "colorway": [
           "#636efa",
           "#EF553B",
           "#00cc96",
           "#ab63fa",
           "#FFA15A",
           "#19d3f3",
           "#FF6692",
           "#B6E880",
           "#FF97FF",
           "#FECB52"
          ],
          "font": {
           "color": "#2a3f5f"
          },
          "geo": {
           "bgcolor": "white",
           "lakecolor": "white",
           "landcolor": "#E5ECF6",
           "showlakes": true,
           "showland": true,
           "subunitcolor": "white"
          },
          "hoverlabel": {
           "align": "left"
          },
          "hovermode": "closest",
          "mapbox": {
           "style": "light"
          },
          "paper_bgcolor": "white",
          "plot_bgcolor": "#E5ECF6",
          "polar": {
           "angularaxis": {
            "gridcolor": "white",
            "linecolor": "white",
            "ticks": ""
           },
           "bgcolor": "#E5ECF6",
           "radialaxis": {
            "gridcolor": "white",
            "linecolor": "white",
            "ticks": ""
           }
          },
          "scene": {
           "xaxis": {
            "backgroundcolor": "#E5ECF6",
            "gridcolor": "white",
            "gridwidth": 2,
            "linecolor": "white",
            "showbackground": true,
            "ticks": "",
            "zerolinecolor": "white"
           },
           "yaxis": {
            "backgroundcolor": "#E5ECF6",
            "gridcolor": "white",
            "gridwidth": 2,
            "linecolor": "white",
            "showbackground": true,
            "ticks": "",
            "zerolinecolor": "white"
           },
           "zaxis": {
            "backgroundcolor": "#E5ECF6",
            "gridcolor": "white",
            "gridwidth": 2,
            "linecolor": "white",
            "showbackground": true,
            "ticks": "",
            "zerolinecolor": "white"
           }
          },
          "shapedefaults": {
           "line": {
            "color": "#2a3f5f"
           }
          },
          "ternary": {
           "aaxis": {
            "gridcolor": "white",
            "linecolor": "white",
            "ticks": ""
           },
           "baxis": {
            "gridcolor": "white",
            "linecolor": "white",
            "ticks": ""
           },
           "bgcolor": "#E5ECF6",
           "caxis": {
            "gridcolor": "white",
            "linecolor": "white",
            "ticks": ""
           }
          },
          "title": {
           "x": 0.05
          },
          "xaxis": {
           "automargin": true,
           "gridcolor": "white",
           "linecolor": "white",
           "ticks": "",
           "title": {
            "standoff": 15
           },
           "zerolinecolor": "white",
           "zerolinewidth": 2
          },
          "yaxis": {
           "automargin": true,
           "gridcolor": "white",
           "linecolor": "white",
           "ticks": "",
           "title": {
            "standoff": 15
           },
           "zerolinecolor": "white",
           "zerolinewidth": 2
          }
         }
        },
        "title": {
         "text": "Monthly Active Developers by Project"
        },
        "width": 1200,
        "xaxis": {
         "tickangle": 45,
         "title": {
          "text": "Month"
         }
        },
        "yaxis": {
         "title": {
          "text": "Project"
         }
        }
       }
      }
     },
     "metadata": {},
     "output_type": "display_data"
    }
   ],
   "source": [
    "# Create a heatmap of active developers by project and month\n",
    "import plotly.express as px\n",
    "import plotly.graph_objects as go\n",
    "from datetime import datetime\n",
    "import numpy as np\n",
    "\n",
    "# Filter for active developers metric\n",
    "df_active_devs = df_stylus[df_stylus['Metric'] == 'GITHUB_active_developers_monthly'].copy()\n",
    "\n",
    "# Convert date to month-year format\n",
    "df_active_devs['Month'] = pd.to_datetime(df_active_devs['Date']).dt.strftime('%Y-%m')\n",
    "\n",
    "# Pivot the data for heatmap\n",
    "heatmap_data = df_active_devs.pivot(index='Name', columns='Month', values='Value')\n",
    "\n",
    "# Fill NaN values with 0 for visualization\n",
    "heatmap_data = heatmap_data.fillna(0)\n",
    "\n",
    "# Create the heatmap\n",
    "fig = go.Figure(data=go.Heatmap(\n",
    "    z=heatmap_data.values,\n",
    "    x=heatmap_data.columns,\n",
    "    y=heatmap_data.index,\n",
    "    colorscale='Viridis',\n",
    "    colorbar=dict(title='Active Developers'),\n",
    "    hoverongaps=False,\n",
    "    text=heatmap_data.values,  # Show values on hover\n",
    "    texttemplate='%{text:.0f}',  # Format as integers\n",
    "    textfont={\"size\": 10},\n",
    "    hovertemplate='Project: %{y}<br>Month: %{x}<br>Active Developers: %{z}<extra></extra>'\n",
    "))\n",
    "\n",
    "# Update layout\n",
    "fig.update_layout(\n",
    "    title='Monthly Active Developers by Project',\n",
    "    xaxis_title='Month',\n",
    "    yaxis_title='Project',\n",
    "    height=800,  # Adjust height based on number of projects\n",
    "    width=1200,  # Adjust width based on number of months\n",
    "    xaxis=dict(tickangle=45),\n",
    "    margin=dict(l=200)  # Increase left margin for project names\n",
    ")\n",
    "\n",
    "# Show the plot\n",
    "fig.show()"
   ]
  }
 ],
 "metadata": {
  "kernelspec": {
   "display_name": "Python 3",
   "language": "python",
   "name": "python3"
  },
  "language_info": {
   "codemirror_mode": {
    "name": "ipython",
    "version": 3
   },
   "file_extension": ".py",
   "mimetype": "text/x-python",
   "name": "python",
   "nbconvert_exporter": "python",
   "pygments_lexer": "ipython3",
   "version": "3.12.6"
  }
 },
 "nbformat": 4,
 "nbformat_minor": 2
}
